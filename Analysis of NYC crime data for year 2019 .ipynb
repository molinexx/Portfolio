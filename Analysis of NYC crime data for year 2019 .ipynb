{
 "cells": [
  {
   "cell_type": "code",
   "execution_count": 791,
   "metadata": {},
   "outputs": [],
   "source": [
    "import matplotlib.pyplot as plt\n",
    "import matplotlib\n",
    "\n",
    "import pandas as pd\n",
    "import numpy as np\n",
    "%matplotlib inline"
   ]
  },
  {
   "cell_type": "markdown",
   "metadata": {},
   "source": [
    "### source:\n",
    "### https://data.cityofnewyork.us/Public-Safety/NYPD-Complaint-Data-Current-Year-To-Date-/5uac-w243"
   ]
  },
  {
   "cell_type": "markdown",
   "metadata": {},
   "source": [
    "### I added zipcodes and neighboorghoods to this data set, how I did it it is decribed in my other file called \"crime data merging with zip codes and hoods\" , \n"
   ]
  },
  {
   "cell_type": "code",
   "execution_count": 792,
   "metadata": {},
   "outputs": [],
   "source": [
    "data_raw=pd.read_csv(r\"C:\\Users\\Maryla\\Desktop\\school\\4400\\PROJECT\\CRIME DATA\\merged_crime_zip_hood2.csv\", encoding='latin1', index_col=[0])\n",
    "# use the encoding as latin1 to read this file as there are some special character in this file, \n",
    "# use the below code snippet to read the file"
   ]
  },
  {
   "cell_type": "code",
   "execution_count": 793,
   "metadata": {},
   "outputs": [
    {
     "data": {
      "text/html": [
       "<div>\n",
       "<style scoped>\n",
       "    .dataframe tbody tr th:only-of-type {\n",
       "        vertical-align: middle;\n",
       "    }\n",
       "\n",
       "    .dataframe tbody tr th {\n",
       "        vertical-align: top;\n",
       "    }\n",
       "\n",
       "    .dataframe thead th {\n",
       "        text-align: right;\n",
       "    }\n",
       "</style>\n",
       "<table border=\"1\" class=\"dataframe\">\n",
       "  <thead>\n",
       "    <tr style=\"text-align: right;\">\n",
       "      <th></th>\n",
       "      <th>CMPLNT_NUM</th>\n",
       "      <th>ADDR_PCT_CD</th>\n",
       "      <th>BORO_NM</th>\n",
       "      <th>CMPLNT_FR_DT</th>\n",
       "      <th>CMPLNT_FR_TM</th>\n",
       "      <th>CMPLNT_TO_DT</th>\n",
       "      <th>CMPLNT_TO_TM</th>\n",
       "      <th>CRM_ATPT_CPTD_CD</th>\n",
       "      <th>HADEVELOPT</th>\n",
       "      <th>HOUSING_PSA</th>\n",
       "      <th>...</th>\n",
       "      <th>X_COORD_CD</th>\n",
       "      <th>Y_COORD_CD</th>\n",
       "      <th>Latitude_x</th>\n",
       "      <th>Longitude_x</th>\n",
       "      <th>Lat_Lon</th>\n",
       "      <th>geo2</th>\n",
       "      <th>geo4_x</th>\n",
       "      <th>geo3_x</th>\n",
       "      <th>Incident Zip</th>\n",
       "      <th>neighbourhood</th>\n",
       "    </tr>\n",
       "  </thead>\n",
       "  <tbody>\n",
       "    <tr>\n",
       "      <td>0</td>\n",
       "      <td>314773184</td>\n",
       "      <td>48</td>\n",
       "      <td>BRONX</td>\n",
       "      <td>12/31/2019</td>\n",
       "      <td>18:00:00</td>\n",
       "      <td>NaN</td>\n",
       "      <td>NaN</td>\n",
       "      <td>COMPLETED</td>\n",
       "      <td>NaN</td>\n",
       "      <td>NaN</td>\n",
       "      <td>...</td>\n",
       "      <td>1016990</td>\n",
       "      <td>244612</td>\n",
       "      <td>40.838026</td>\n",
       "      <td>-73.881681</td>\n",
       "      <td>(40.838026269000075, -73.88168118799997)</td>\n",
       "      <td>40.83,-73.88</td>\n",
       "      <td>40.8380,-73.8816</td>\n",
       "      <td>40.838,-73.881</td>\n",
       "      <td>10460.0</td>\n",
       "      <td>Tremont</td>\n",
       "    </tr>\n",
       "    <tr>\n",
       "      <td>1</td>\n",
       "      <td>289837961</td>\n",
       "      <td>25</td>\n",
       "      <td>MANHATTAN</td>\n",
       "      <td>12/30/2019</td>\n",
       "      <td>20:30:00</td>\n",
       "      <td>12/31/2019</td>\n",
       "      <td>10:00:00</td>\n",
       "      <td>COMPLETED</td>\n",
       "      <td>NaN</td>\n",
       "      <td>NaN</td>\n",
       "      <td>...</td>\n",
       "      <td>999296</td>\n",
       "      <td>230862</td>\n",
       "      <td>40.800334</td>\n",
       "      <td>-73.945657</td>\n",
       "      <td>(40.800334261000046, -73.94565697199994)</td>\n",
       "      <td>40.80,-73.94</td>\n",
       "      <td>40.8003,-73.9456</td>\n",
       "      <td>40.800,-73.945</td>\n",
       "      <td>10029.0</td>\n",
       "      <td>Harlem</td>\n",
       "    </tr>\n",
       "    <tr>\n",
       "      <td>2</td>\n",
       "      <td>535744284</td>\n",
       "      <td>77</td>\n",
       "      <td>BROOKLYN</td>\n",
       "      <td>12/24/2019</td>\n",
       "      <td>16:55:00</td>\n",
       "      <td>12/24/2019</td>\n",
       "      <td>17:00:00</td>\n",
       "      <td>COMPLETED</td>\n",
       "      <td>NaN</td>\n",
       "      <td>NaN</td>\n",
       "      <td>...</td>\n",
       "      <td>1001068</td>\n",
       "      <td>183317</td>\n",
       "      <td>40.669832</td>\n",
       "      <td>-73.939376</td>\n",
       "      <td>(40.66983179600004, -73.93937555099996)</td>\n",
       "      <td>40.66,-73.93</td>\n",
       "      <td>40.6698,-73.9393</td>\n",
       "      <td>40.669,-73.939</td>\n",
       "      <td>11213.0</td>\n",
       "      <td>Crown Heights</td>\n",
       "    </tr>\n",
       "    <tr>\n",
       "      <td>3</td>\n",
       "      <td>895678119</td>\n",
       "      <td>52</td>\n",
       "      <td>BRONX</td>\n",
       "      <td>12/30/2019</td>\n",
       "      <td>19:32:00</td>\n",
       "      <td>NaN</td>\n",
       "      <td>NaN</td>\n",
       "      <td>COMPLETED</td>\n",
       "      <td>NaN</td>\n",
       "      <td>NaN</td>\n",
       "      <td>...</td>\n",
       "      <td>1009690</td>\n",
       "      <td>257590</td>\n",
       "      <td>40.873671</td>\n",
       "      <td>-73.908014</td>\n",
       "      <td>(40.87367103500002, -73.90801364899994)</td>\n",
       "      <td>40.87,-73.90</td>\n",
       "      <td>40.8736,-73.9080</td>\n",
       "      <td>40.873,-73.908</td>\n",
       "      <td>10463.0</td>\n",
       "      <td>Kingsbridge</td>\n",
       "    </tr>\n",
       "    <tr>\n",
       "      <td>4</td>\n",
       "      <td>299841674</td>\n",
       "      <td>18</td>\n",
       "      <td>MANHATTAN</td>\n",
       "      <td>12/30/2019</td>\n",
       "      <td>15:30:00</td>\n",
       "      <td>12/30/2019</td>\n",
       "      <td>16:50:00</td>\n",
       "      <td>COMPLETED</td>\n",
       "      <td>NaN</td>\n",
       "      <td>NaN</td>\n",
       "      <td>...</td>\n",
       "      <td>985766</td>\n",
       "      <td>216503</td>\n",
       "      <td>40.760935</td>\n",
       "      <td>-73.994529</td>\n",
       "      <td>(40.76093528000007, -73.99452906599998)</td>\n",
       "      <td>40.76,-73.99</td>\n",
       "      <td>40.7609,-73.9945</td>\n",
       "      <td>40.760,-73.994</td>\n",
       "      <td>10036.0</td>\n",
       "      <td>Hell's Kitchen</td>\n",
       "    </tr>\n",
       "  </tbody>\n",
       "</table>\n",
       "<p>5 rows × 40 columns</p>\n",
       "</div>"
      ],
      "text/plain": [
       "   CMPLNT_NUM  ADDR_PCT_CD    BORO_NM CMPLNT_FR_DT CMPLNT_FR_TM CMPLNT_TO_DT  \\\n",
       "0   314773184           48      BRONX   12/31/2019     18:00:00          NaN   \n",
       "1   289837961           25  MANHATTAN   12/30/2019     20:30:00   12/31/2019   \n",
       "2   535744284           77   BROOKLYN   12/24/2019     16:55:00   12/24/2019   \n",
       "3   895678119           52      BRONX   12/30/2019     19:32:00          NaN   \n",
       "4   299841674           18  MANHATTAN   12/30/2019     15:30:00   12/30/2019   \n",
       "\n",
       "  CMPLNT_TO_TM CRM_ATPT_CPTD_CD HADEVELOPT  HOUSING_PSA  ...  X_COORD_CD  \\\n",
       "0          NaN        COMPLETED        NaN          NaN  ...     1016990   \n",
       "1     10:00:00        COMPLETED        NaN          NaN  ...      999296   \n",
       "2     17:00:00        COMPLETED        NaN          NaN  ...     1001068   \n",
       "3          NaN        COMPLETED        NaN          NaN  ...     1009690   \n",
       "4     16:50:00        COMPLETED        NaN          NaN  ...      985766   \n",
       "\n",
       "  Y_COORD_CD  Latitude_x Longitude_x  \\\n",
       "0     244612   40.838026  -73.881681   \n",
       "1     230862   40.800334  -73.945657   \n",
       "2     183317   40.669832  -73.939376   \n",
       "3     257590   40.873671  -73.908014   \n",
       "4     216503   40.760935  -73.994529   \n",
       "\n",
       "                                    Lat_Lon          geo2            geo4_x  \\\n",
       "0  (40.838026269000075, -73.88168118799997)  40.83,-73.88  40.8380,-73.8816   \n",
       "1  (40.800334261000046, -73.94565697199994)  40.80,-73.94  40.8003,-73.9456   \n",
       "2   (40.66983179600004, -73.93937555099996)  40.66,-73.93  40.6698,-73.9393   \n",
       "3   (40.87367103500002, -73.90801364899994)  40.87,-73.90  40.8736,-73.9080   \n",
       "4   (40.76093528000007, -73.99452906599998)  40.76,-73.99  40.7609,-73.9945   \n",
       "\n",
       "           geo3_x  Incident Zip   neighbourhood  \n",
       "0  40.838,-73.881       10460.0         Tremont  \n",
       "1  40.800,-73.945       10029.0          Harlem  \n",
       "2  40.669,-73.939       11213.0   Crown Heights  \n",
       "3  40.873,-73.908       10463.0     Kingsbridge  \n",
       "4  40.760,-73.994       10036.0  Hell's Kitchen  \n",
       "\n",
       "[5 rows x 40 columns]"
      ]
     },
     "execution_count": 793,
     "metadata": {},
     "output_type": "execute_result"
    }
   ],
   "source": [
    "data_raw.head()"
   ]
  },
  {
   "cell_type": "markdown",
   "metadata": {},
   "source": [
    "### data cleaning part"
   ]
  },
  {
   "cell_type": "code",
   "execution_count": 794,
   "metadata": {},
   "outputs": [],
   "source": [
    "# let's change column order so location is in front\n",
    "# I will also remove some columns such as housing development, ststion name, or park location since there is a lot of missiing data in it"
   ]
  },
  {
   "cell_type": "code",
   "execution_count": 795,
   "metadata": {},
   "outputs": [
    {
     "name": "stdout",
     "output_type": "stream",
     "text": [
      "['CMPLNT_NUM', 'ADDR_PCT_CD', 'BORO_NM', 'CMPLNT_FR_DT', 'CMPLNT_FR_TM', 'CMPLNT_TO_DT', 'CMPLNT_TO_TM', 'CRM_ATPT_CPTD_CD', 'HADEVELOPT', 'HOUSING_PSA', 'JURISDICTION_CODE', 'JURIS_DESC', 'KY_CD', 'LAW_CAT_CD', 'LOC_OF_OCCUR_DESC', 'OFNS_DESC', 'PARKS_NM', 'PATROL_BORO', 'PD_CD', 'PD_DESC', 'PREM_TYP_DESC', 'RPT_DT', 'STATION_NAME', 'SUSP_AGE_GROUP', 'SUSP_RACE', 'SUSP_SEX', 'TRANSIT_DISTRICT', 'VIC_AGE_GROUP', 'VIC_RACE', 'VIC_SEX', 'X_COORD_CD', 'Y_COORD_CD', 'Latitude_x', 'Longitude_x', 'Lat_Lon', 'geo2', 'geo4_x', 'geo3_x', 'Incident Zip', 'neighbourhood']\n"
     ]
    }
   ],
   "source": [
    "col_list=list(data_raw.columns)\n",
    "print(col_list)"
   ]
  },
  {
   "cell_type": "code",
   "execution_count": 796,
   "metadata": {},
   "outputs": [],
   "source": [
    "#data_raw[\"PD_CD\"].unique()"
   ]
  },
  {
   "cell_type": "code",
   "execution_count": 797,
   "metadata": {},
   "outputs": [],
   "source": [
    "data=data_raw[['CMPLNT_NUM',  'BORO_NM', 'Incident Zip', 'neighbourhood' , 'CMPLNT_FR_DT', 'CMPLNT_FR_TM', 'LAW_CAT_CD',  'OFNS_DESC','SUSP_AGE_GROUP', 'SUSP_RACE', 'SUSP_SEX', 'VIC_AGE_GROUP', 'VIC_RACE', 'VIC_SEX', 'Latitude_x', 'Longitude_x', 'Lat_Lon' ]]"
   ]
  },
  {
   "cell_type": "code",
   "execution_count": 798,
   "metadata": {},
   "outputs": [
    {
     "name": "stdout",
     "output_type": "stream",
     "text": [
      "<class 'pandas.core.frame.DataFrame'>\n",
      "Int64Index: 461711 entries, 0 to 461710\n",
      "Data columns (total 17 columns):\n",
      "CMPLNT_NUM        461711 non-null int64\n",
      "BORO_NM           461711 non-null object\n",
      "Incident Zip      448495 non-null float64\n",
      "neighbourhood     455225 non-null object\n",
      "CMPLNT_FR_DT      461711 non-null object\n",
      "CMPLNT_FR_TM      461711 non-null object\n",
      "LAW_CAT_CD        461711 non-null object\n",
      "OFNS_DESC         461699 non-null object\n",
      "SUSP_AGE_GROUP    352301 non-null object\n",
      "SUSP_RACE         352301 non-null object\n",
      "SUSP_SEX          352301 non-null object\n",
      "VIC_AGE_GROUP     461708 non-null object\n",
      "VIC_RACE          461708 non-null object\n",
      "VIC_SEX           461708 non-null object\n",
      "Latitude_x        461711 non-null float64\n",
      "Longitude_x       461711 non-null float64\n",
      "Lat_Lon           461711 non-null object\n",
      "dtypes: float64(3), int64(1), object(13)\n",
      "memory usage: 63.4+ MB\n"
     ]
    }
   ],
   "source": [
    "data.info()\n",
    "#zipcodes 448,495 out of 461,711 is not null ((13,216 is null)- \n",
    "# I have some missing data in zipcodes, \n"
   ]
  },
  {
   "cell_type": "code",
   "execution_count": 799,
   "metadata": {},
   "outputs": [
    {
     "data": {
      "text/plain": [
       "Incident Zip       13216\n",
       "neighbourhood       6486\n",
       "OFNS_DESC             12\n",
       "SUSP_AGE_GROUP    109410\n",
       "SUSP_RACE         109410\n",
       "SUSP_SEX          109410\n",
       "VIC_AGE_GROUP          3\n",
       "VIC_RACE               3\n",
       "VIC_SEX                3\n",
       "dtype: int64"
      ]
     },
     "execution_count": 799,
     "metadata": {},
     "output_type": "execute_result"
    }
   ],
   "source": [
    "# other way to do it - we have 13,216 empty rows in col zipcodes and  6,486 is mising in \"neighbourhood\"\n",
    "\n",
    "null_columns=data.columns[data.isnull().any()]\n",
    "data[null_columns].isnull().sum()"
   ]
  },
  {
   "cell_type": "code",
   "execution_count": 801,
   "metadata": {},
   "outputs": [
    {
     "data": {
      "text/plain": [
       "CMPLNT_NUM        2580\n",
       "BORO_NM           2580\n",
       "Incident Zip         0\n",
       "neighbourhood        0\n",
       "CMPLNT_FR_DT      2580\n",
       "CMPLNT_FR_TM      2580\n",
       "LAW_CAT_CD        2580\n",
       "OFNS_DESC         2580\n",
       "SUSP_AGE_GROUP    1771\n",
       "SUSP_RACE         1771\n",
       "SUSP_SEX          1771\n",
       "VIC_AGE_GROUP     2580\n",
       "VIC_RACE          2580\n",
       "VIC_SEX           2580\n",
       "Latitude_x        2580\n",
       "Longitude_x       2580\n",
       "Lat_Lon           2580\n",
       "dtype: int64"
      ]
     },
     "execution_count": 801,
     "metadata": {},
     "output_type": "execute_result"
    }
   ],
   "source": [
    "# let's see if how many valus is null for both zip and neighbourhood: \n",
    "null_zip=data[data[\"Incident Zip\"].isnull()]\n",
    "null_zip[null_zip[\"neighbourhood\"].isnull()].count()"
   ]
  },
  {
   "cell_type": "code",
   "execution_count": 693,
   "metadata": {},
   "outputs": [],
   "source": [
    "#lools like of ouf all missing data in both zipcodes and nieighboorhood there is only 2580 rows that are null for both zip and hood.\n",
    "# I think the best would be drop rows both for neighborhoods and zipcodes"
   ]
  },
  {
   "cell_type": "code",
   "execution_count": 694,
   "metadata": {},
   "outputs": [],
   "source": [
    "#null_hood[null_hood[\"Incident Zip\"].isnull()]"
   ]
  },
  {
   "cell_type": "code",
   "execution_count": 802,
   "metadata": {},
   "outputs": [],
   "source": [
    "#drop data with missing neighborhood and zipcodes- \n",
    "#victims age,race and sex - potencialy something wrong with data since we dont know who is victim\n",
    "data=data.dropna( subset=[\"neighbourhood\",\"VIC_AGE_GROUP\",\"VIC_RACE\",\"VIC_SEX\", \"Incident Zip\"])"
   ]
  },
  {
   "cell_type": "code",
   "execution_count": 696,
   "metadata": {},
   "outputs": [
    {
     "data": {
      "text/plain": [
       "OFNS_DESC             12\n",
       "SUSP_AGE_GROUP    103879\n",
       "SUSP_RACE         103879\n",
       "SUSP_SEX          103879\n",
       "dtype: int64"
      ]
     },
     "execution_count": 696,
     "metadata": {},
     "output_type": "execute_result"
    }
   ],
   "source": [
    "null_columns2=data.columns[data.isnull().any()]\n",
    "data[null_columns2].isnull().sum()\n",
    "# we have a lot of mising data about suspect which is ok"
   ]
  },
  {
   "cell_type": "code",
   "execution_count": 697,
   "metadata": {},
   "outputs": [
    {
     "name": "stdout",
     "output_type": "stream",
     "text": [
      "<class 'pandas.core.frame.DataFrame'>\n",
      "Int64Index: 444586 entries, 0 to 461710\n",
      "Data columns (total 17 columns):\n",
      "CMPLNT_NUM        444586 non-null int64\n",
      "BORO_NM           444586 non-null object\n",
      "Incident Zip      444586 non-null float64\n",
      "neighbourhood     444586 non-null object\n",
      "CMPLNT_FR_DT      444586 non-null object\n",
      "CMPLNT_FR_TM      444586 non-null object\n",
      "LAW_CAT_CD        444586 non-null object\n",
      "OFNS_DESC         444574 non-null object\n",
      "SUSP_AGE_GROUP    340707 non-null object\n",
      "SUSP_RACE         340707 non-null object\n",
      "SUSP_SEX          340707 non-null object\n",
      "VIC_AGE_GROUP     444586 non-null object\n",
      "VIC_RACE          444586 non-null object\n",
      "VIC_SEX           444586 non-null object\n",
      "Latitude_x        444586 non-null float64\n",
      "Longitude_x       444586 non-null float64\n",
      "Lat_Lon           444586 non-null object\n",
      "dtypes: float64(3), int64(1), object(13)\n",
      "memory usage: 61.1+ MB\n"
     ]
    }
   ],
   "source": [
    "data.info()"
   ]
  },
  {
   "cell_type": "code",
   "execution_count": null,
   "metadata": {},
   "outputs": [],
   "source": [
    "# we have two ways to describe crime: Law_cat_cd and offense_dicription, lets explore those columns"
   ]
  },
  {
   "cell_type": "code",
   "execution_count": 698,
   "metadata": {},
   "outputs": [
    {
     "data": {
      "text/plain": [
       "array(['FELONY', 'MISDEMEANOR', 'VIOLATION'], dtype=object)"
      ]
     },
     "execution_count": 698,
     "metadata": {},
     "output_type": "execute_result"
    }
   ],
   "source": [
    "data[\"LAW_CAT_CD\"].unique()"
   ]
  },
  {
   "cell_type": "code",
   "execution_count": 699,
   "metadata": {},
   "outputs": [
    {
     "data": {
      "text/plain": [
       "array(['ROBBERY', 'PETIT LARCENY', 'FELONY ASSAULT',\n",
       "       'ASSAULT 3 & RELATED OFFENSES', 'SEX CRIMES', 'HARRASSMENT 2',\n",
       "       'GRAND LARCENY', 'THEFT-FRAUD', 'BURGLARY',\n",
       "       'VEHICLE AND TRAFFIC LAWS', 'FORGERY', 'DANGEROUS WEAPONS', 'RAPE',\n",
       "       'GRAND LARCENY OF MOTOR VEHICLE', 'DANGEROUS DRUGS',\n",
       "       'MURDER & NON-NEGL. MANSLAUGHTER', 'KIDNAPPING',\n",
       "       'CRIMINAL MISCHIEF & RELATED OF', 'MISCELLANEOUS PENAL LAW',\n",
       "       'FRAUDS', 'POSSESSION OF STOLEN PROPERTY', 'CRIMINAL TRESPASS',\n",
       "       'ARSON', 'OFFENSES INVOLVING FRAUD',\n",
       "       'OFFENSES AGAINST PUBLIC ADMINI', 'ADMINISTRATIVE CODE',\n",
       "       'UNAUTHORIZED USE OF A VEHICLE', 'GAMBLING',\n",
       "       'INTOXICATED & IMPAIRED DRIVING', 'OFF. AGNST PUB ORD SENSBLTY &',\n",
       "       nan, 'NYS LAWS-UNCLASSIFIED FELONY', 'OFFENSES AGAINST THE PERSON',\n",
       "       'THEFT OF SERVICES', 'KIDNAPPING & RELATED OFFENSES',\n",
       "       'OTHER OFFENSES RELATED TO THEF', \"BURGLAR'S TOOLS\", 'ESCAPE 3',\n",
       "       'ENDAN WELFARE INCOMP', 'FRAUDULENT ACCOSTING',\n",
       "       'AGRICULTURE & MRKTS LAW-UNCLASSIFIED',\n",
       "       'OTHER STATE LAWS (NON PENAL LA', 'OFFENSES AGAINST PUBLIC SAFETY',\n",
       "       'PETIT LARCENY OF MOTOR VEHICLE', 'OFFENSES RELATED TO CHILDREN',\n",
       "       'ALCOHOLIC BEVERAGE CONTROL LAW', 'FELONY SEX CRIMES',\n",
       "       'ANTICIPATORY OFFENSES', 'LOITERING/GAMBLING (CARDS, DIC',\n",
       "       'JOSTLING', 'HOMICIDE-NEGLIGENT,UNCLASSIFIE',\n",
       "       'PROSTITUTION & RELATED OFFENSES', 'CHILD ABANDONMENT/NON SUPPORT',\n",
       "       'OTHER STATE LAWS', 'DISORDERLY CONDUCT',\n",
       "       'OFFENSES AGAINST MARRIAGE UNCL', 'DISRUPTION OF A RELIGIOUS SERV',\n",
       "       'HOMICIDE-NEGLIGENT-VEHICLE', 'INTOXICATED/IMPAIRED DRIVING',\n",
       "       'NYS LAWS-UNCLASSIFIED VIOLATION',\n",
       "       'KIDNAPPING AND RELATED OFFENSES',\n",
       "       'UNLAWFUL POSS. WEAP. ON SCHOOL',\n",
       "       'OTHER STATE LAWS (NON PENAL LAW)', 'OTHER TRAFFIC INFRACTION'],\n",
       "      dtype=object)"
      ]
     },
     "execution_count": 699,
     "metadata": {},
     "output_type": "execute_result"
    }
   ],
   "source": [
    "data[\"OFNS_DESC\"].unique()"
   ]
  },
  {
   "cell_type": "code",
   "execution_count": null,
   "metadata": {},
   "outputs": [],
   "source": [
    "# Both looks usefull, I keep them\n",
    "# Let's do some cleanup in other columns such as victim aga and suspec age"
   ]
  },
  {
   "cell_type": "code",
   "execution_count": 701,
   "metadata": {},
   "outputs": [
    {
     "data": {
      "text/plain": [
       "array(['45-64', '25-44', '18-24', 'UNKNOWN', '65+', '<18', '-954', '943',\n",
       "       '929', '-967', '1018', '-961', '-952', '936', '-943', '956', '941',\n",
       "       '-942', '1013', '937', '-946', '-974', '951', '960', '927', '-2',\n",
       "       '938', '-934', '-978', '-970'], dtype=object)"
      ]
     },
     "execution_count": 701,
     "metadata": {},
     "output_type": "execute_result"
    }
   ],
   "source": [
    "data[\"VIC_AGE_GROUP\"].unique()\n",
    "#some data needs cleaning"
   ]
  },
  {
   "cell_type": "code",
   "execution_count": 702,
   "metadata": {},
   "outputs": [],
   "source": [
    "drop_index=data[(data[\"VIC_AGE_GROUP\"]!=\"45-64\") & (data[\"VIC_AGE_GROUP\"]!=\"25-44\")&\n",
    "                    (data[\"VIC_AGE_GROUP\"]!=\"18-24\") & (data[\"VIC_AGE_GROUP\"]!=\"65+\")&\n",
    "                   (data[\"VIC_AGE_GROUP\"]!=\"<18\")& (data[\"VIC_AGE_GROUP\"]!=\"UNKNOWN\")].index\n"
   ]
  },
  {
   "cell_type": "code",
   "execution_count": 703,
   "metadata": {},
   "outputs": [
    {
     "data": {
      "text/plain": [
       "array(['45-64', '25-44', '18-24', 'UNKNOWN', '65+', '<18'], dtype=object)"
      ]
     },
     "execution_count": 703,
     "metadata": {},
     "output_type": "execute_result"
    }
   ],
   "source": [
    "data.drop(drop_index , inplace=True)\n",
    "data[\"VIC_AGE_GROUP\"].unique()"
   ]
  },
  {
   "cell_type": "code",
   "execution_count": 704,
   "metadata": {},
   "outputs": [
    {
     "data": {
      "text/plain": [
       "array(['WHITE HISPANIC', 'WHITE', 'UNKNOWN', 'BLACK',\n",
       "       'ASIAN / PACIFIC ISLANDER', 'BLACK HISPANIC',\n",
       "       'AMERICAN INDIAN/ALASKAN NATIVE'], dtype=object)"
      ]
     },
     "execution_count": 704,
     "metadata": {},
     "output_type": "execute_result"
    }
   ],
   "source": [
    "data[\"VIC_RACE\"].unique()"
   ]
  },
  {
   "cell_type": "code",
   "execution_count": 705,
   "metadata": {},
   "outputs": [
    {
     "data": {
      "text/plain": [
       "array(['F', 'M', 'D', 'E'], dtype=object)"
      ]
     },
     "execution_count": 705,
     "metadata": {},
     "output_type": "execute_result"
    }
   ],
   "source": [
    "# Victim’s Sex Description (D=Business/Organization,E=PSNY/People of the State of New York, F=Female,M=Male)\n",
    "data[\"VIC_SEX\"].unique()"
   ]
  },
  {
   "cell_type": "code",
   "execution_count": 706,
   "metadata": {},
   "outputs": [
    {
     "data": {
      "text/plain": [
       "array(['UNKNOWN', nan, '25-44', '65+', '45-64', '18-24', '<18', '-965',\n",
       "       '2019', '-966', '-964', '-973', '-968', '930', '-1', '947', '924',\n",
       "       '929', '1019', '940'], dtype=object)"
      ]
     },
     "execution_count": 706,
     "metadata": {},
     "output_type": "execute_result"
    }
   ],
   "source": [
    "data[\"SUSP_AGE_GROUP\"].unique()\n"
   ]
  },
  {
   "cell_type": "code",
   "execution_count": 707,
   "metadata": {},
   "outputs": [
    {
     "data": {
      "text/plain": [
       "array(['UNKNOWN', '25-44', '65+', '45-64', '18-24', '<18'], dtype=object)"
      ]
     },
     "execution_count": 707,
     "metadata": {},
     "output_type": "execute_result"
    }
   ],
   "source": [
    "drop_index=data[(data[\"SUSP_AGE_GROUP\"]!=\"45-64\") & (data[\"SUSP_AGE_GROUP\"]!=\"25-44\")&\n",
    "                    (data[\"SUSP_AGE_GROUP\"]!=\"18-24\") & (data[\"SUSP_AGE_GROUP\"]!=\"65+\")&\n",
    "                   (data[\"SUSP_AGE_GROUP\"]!=\"<18\")& (data[\"SUSP_AGE_GROUP\"]!=\"UNKNOWN\")].index\n",
    "\n",
    "data.drop(drop_index , inplace=True)\n",
    "data[\"SUSP_AGE_GROUP\"].unique()"
   ]
  },
  {
   "cell_type": "code",
   "execution_count": 708,
   "metadata": {},
   "outputs": [
    {
     "data": {
      "text/plain": [
       "array(['U', 'M', 'F'], dtype=object)"
      ]
     },
     "execution_count": 708,
     "metadata": {},
     "output_type": "execute_result"
    }
   ],
   "source": [
    "data[\"SUSP_SEX\"].unique()"
   ]
  },
  {
   "cell_type": "code",
   "execution_count": 709,
   "metadata": {},
   "outputs": [
    {
     "data": {
      "text/plain": [
       "array(['UNKNOWN', 'BLACK', 'WHITE', 'WHITE HISPANIC', 'BLACK HISPANIC',\n",
       "       'ASIAN / PACIFIC ISLANDER', 'AMERICAN INDIAN/ALASKAN NATIVE'],\n",
       "      dtype=object)"
      ]
     },
     "execution_count": 709,
     "metadata": {},
     "output_type": "execute_result"
    }
   ],
   "source": [
    "data[\"SUSP_RACE\"].unique()"
   ]
  },
  {
   "cell_type": "code",
   "execution_count": 710,
   "metadata": {},
   "outputs": [
    {
     "data": {
      "text/plain": [
       "array(['12/31/2019', '12/24/2019', '12/30/2019', ..., '8/15/2017',\n",
       "       '7/28/2009', '1/3/2016'], dtype=object)"
      ]
     },
     "execution_count": 710,
     "metadata": {},
     "output_type": "execute_result"
    }
   ],
   "source": [
    "data[\"CMPLNT_FR_DT\"].unique()"
   ]
  },
  {
   "cell_type": "code",
   "execution_count": 711,
   "metadata": {},
   "outputs": [
    {
     "data": {
      "text/plain": [
       "dtype('float64')"
      ]
     },
     "execution_count": 711,
     "metadata": {},
     "output_type": "execute_result"
    }
   ],
   "source": [
    "data[\"Incident Zip\"].dtype"
   ]
  },
  {
   "cell_type": "code",
   "execution_count": 712,
   "metadata": {},
   "outputs": [],
   "source": [
    "# looks likzipcode is a float, need to change to string"
   ]
  },
  {
   "cell_type": "code",
   "execution_count": 713,
   "metadata": {},
   "outputs": [],
   "source": [
    "data[\"Incident Zip\"]=data[\"Incident Zip\"].astype(int)"
   ]
  },
  {
   "cell_type": "code",
   "execution_count": 714,
   "metadata": {},
   "outputs": [],
   "source": [
    "data[\"Incident Zip\"]=data[\"Incident Zip\"].astype(str)"
   ]
  },
  {
   "cell_type": "code",
   "execution_count": 715,
   "metadata": {},
   "outputs": [
    {
     "data": {
      "text/plain": [
       "dtype('O')"
      ]
     },
     "execution_count": 715,
     "metadata": {},
     "output_type": "execute_result"
    }
   ],
   "source": [
    "data[\"Incident Zip\"].dtype"
   ]
  },
  {
   "cell_type": "code",
   "execution_count": 716,
   "metadata": {},
   "outputs": [
    {
     "data": {
      "text/html": [
       "<div>\n",
       "<style scoped>\n",
       "    .dataframe tbody tr th:only-of-type {\n",
       "        vertical-align: middle;\n",
       "    }\n",
       "\n",
       "    .dataframe tbody tr th {\n",
       "        vertical-align: top;\n",
       "    }\n",
       "\n",
       "    .dataframe thead th {\n",
       "        text-align: right;\n",
       "    }\n",
       "</style>\n",
       "<table border=\"1\" class=\"dataframe\">\n",
       "  <thead>\n",
       "    <tr style=\"text-align: right;\">\n",
       "      <th></th>\n",
       "      <th>CMPLNT_NUM</th>\n",
       "      <th>BORO_NM</th>\n",
       "      <th>Incident Zip</th>\n",
       "      <th>neighbourhood</th>\n",
       "      <th>CMPLNT_FR_DT</th>\n",
       "      <th>CMPLNT_FR_TM</th>\n",
       "      <th>LAW_CAT_CD</th>\n",
       "      <th>OFNS_DESC</th>\n",
       "      <th>SUSP_AGE_GROUP</th>\n",
       "      <th>SUSP_RACE</th>\n",
       "      <th>SUSP_SEX</th>\n",
       "      <th>VIC_AGE_GROUP</th>\n",
       "      <th>VIC_RACE</th>\n",
       "      <th>VIC_SEX</th>\n",
       "      <th>Latitude_x</th>\n",
       "      <th>Longitude_x</th>\n",
       "      <th>Lat_Lon</th>\n",
       "    </tr>\n",
       "  </thead>\n",
       "  <tbody>\n",
       "    <tr>\n",
       "      <td>0</td>\n",
       "      <td>314773184</td>\n",
       "      <td>BRONX</td>\n",
       "      <td>10460</td>\n",
       "      <td>Tremont</td>\n",
       "      <td>12/31/2019</td>\n",
       "      <td>18:00:00</td>\n",
       "      <td>FELONY</td>\n",
       "      <td>ROBBERY</td>\n",
       "      <td>UNKNOWN</td>\n",
       "      <td>UNKNOWN</td>\n",
       "      <td>U</td>\n",
       "      <td>45-64</td>\n",
       "      <td>WHITE HISPANIC</td>\n",
       "      <td>F</td>\n",
       "      <td>40.838026</td>\n",
       "      <td>-73.881681</td>\n",
       "      <td>(40.838026269000075, -73.88168118799997)</td>\n",
       "    </tr>\n",
       "    <tr>\n",
       "      <td>2</td>\n",
       "      <td>535744284</td>\n",
       "      <td>BROOKLYN</td>\n",
       "      <td>11213</td>\n",
       "      <td>Crown Heights</td>\n",
       "      <td>12/24/2019</td>\n",
       "      <td>16:55:00</td>\n",
       "      <td>FELONY</td>\n",
       "      <td>FELONY ASSAULT</td>\n",
       "      <td>UNKNOWN</td>\n",
       "      <td>BLACK</td>\n",
       "      <td>M</td>\n",
       "      <td>18-24</td>\n",
       "      <td>WHITE</td>\n",
       "      <td>M</td>\n",
       "      <td>40.669832</td>\n",
       "      <td>-73.939376</td>\n",
       "      <td>(40.66983179600004, -73.93937555099996)</td>\n",
       "    </tr>\n",
       "    <tr>\n",
       "      <td>3</td>\n",
       "      <td>895678119</td>\n",
       "      <td>BRONX</td>\n",
       "      <td>10463</td>\n",
       "      <td>Kingsbridge</td>\n",
       "      <td>12/30/2019</td>\n",
       "      <td>19:32:00</td>\n",
       "      <td>MISDEMEANOR</td>\n",
       "      <td>PETIT LARCENY</td>\n",
       "      <td>25-44</td>\n",
       "      <td>WHITE</td>\n",
       "      <td>F</td>\n",
       "      <td>UNKNOWN</td>\n",
       "      <td>UNKNOWN</td>\n",
       "      <td>D</td>\n",
       "      <td>40.873671</td>\n",
       "      <td>-73.908014</td>\n",
       "      <td>(40.87367103500002, -73.90801364899994)</td>\n",
       "    </tr>\n",
       "    <tr>\n",
       "      <td>6</td>\n",
       "      <td>628084657</td>\n",
       "      <td>BROOKLYN</td>\n",
       "      <td>11236</td>\n",
       "      <td>Canarsie</td>\n",
       "      <td>12/22/2019</td>\n",
       "      <td>16:30:00</td>\n",
       "      <td>MISDEMEANOR</td>\n",
       "      <td>ASSAULT 3 &amp; RELATED OFFENSES</td>\n",
       "      <td>25-44</td>\n",
       "      <td>BLACK</td>\n",
       "      <td>M</td>\n",
       "      <td>25-44</td>\n",
       "      <td>BLACK</td>\n",
       "      <td>M</td>\n",
       "      <td>40.629159</td>\n",
       "      <td>-73.905299</td>\n",
       "      <td>(40.629158526000026, -73.90529923099997)</td>\n",
       "    </tr>\n",
       "    <tr>\n",
       "      <td>7</td>\n",
       "      <td>487138011</td>\n",
       "      <td>BRONX</td>\n",
       "      <td>10472</td>\n",
       "      <td>Parkchester</td>\n",
       "      <td>12/29/2019</td>\n",
       "      <td>17:20:00</td>\n",
       "      <td>FELONY</td>\n",
       "      <td>ROBBERY</td>\n",
       "      <td>UNKNOWN</td>\n",
       "      <td>WHITE HISPANIC</td>\n",
       "      <td>M</td>\n",
       "      <td>25-44</td>\n",
       "      <td>BLACK</td>\n",
       "      <td>M</td>\n",
       "      <td>40.830641</td>\n",
       "      <td>-73.874879</td>\n",
       "      <td>(40.83064129700006, -73.87487918899996)</td>\n",
       "    </tr>\n",
       "  </tbody>\n",
       "</table>\n",
       "</div>"
      ],
      "text/plain": [
       "   CMPLNT_NUM   BORO_NM Incident Zip  neighbourhood CMPLNT_FR_DT CMPLNT_FR_TM  \\\n",
       "0   314773184     BRONX        10460        Tremont   12/31/2019     18:00:00   \n",
       "2   535744284  BROOKLYN        11213  Crown Heights   12/24/2019     16:55:00   \n",
       "3   895678119     BRONX        10463    Kingsbridge   12/30/2019     19:32:00   \n",
       "6   628084657  BROOKLYN        11236       Canarsie   12/22/2019     16:30:00   \n",
       "7   487138011     BRONX        10472    Parkchester   12/29/2019     17:20:00   \n",
       "\n",
       "    LAW_CAT_CD                     OFNS_DESC SUSP_AGE_GROUP       SUSP_RACE  \\\n",
       "0       FELONY                       ROBBERY        UNKNOWN         UNKNOWN   \n",
       "2       FELONY                FELONY ASSAULT        UNKNOWN           BLACK   \n",
       "3  MISDEMEANOR                 PETIT LARCENY          25-44           WHITE   \n",
       "6  MISDEMEANOR  ASSAULT 3 & RELATED OFFENSES          25-44           BLACK   \n",
       "7       FELONY                       ROBBERY        UNKNOWN  WHITE HISPANIC   \n",
       "\n",
       "  SUSP_SEX VIC_AGE_GROUP        VIC_RACE VIC_SEX  Latitude_x  Longitude_x  \\\n",
       "0        U         45-64  WHITE HISPANIC       F   40.838026   -73.881681   \n",
       "2        M         18-24           WHITE       M   40.669832   -73.939376   \n",
       "3        F       UNKNOWN         UNKNOWN       D   40.873671   -73.908014   \n",
       "6        M         25-44           BLACK       M   40.629159   -73.905299   \n",
       "7        M         25-44           BLACK       M   40.830641   -73.874879   \n",
       "\n",
       "                                    Lat_Lon  \n",
       "0  (40.838026269000075, -73.88168118799997)  \n",
       "2   (40.66983179600004, -73.93937555099996)  \n",
       "3   (40.87367103500002, -73.90801364899994)  \n",
       "6  (40.629158526000026, -73.90529923099997)  \n",
       "7   (40.83064129700006, -73.87487918899996)  "
      ]
     },
     "execution_count": 716,
     "metadata": {},
     "output_type": "execute_result"
    }
   ],
   "source": [
    "data.head()"
   ]
  },
  {
   "cell_type": "markdown",
   "metadata": {},
   "source": [
    "### looks like we have data from many different years. I want only the latest -2019 data"
   ]
  },
  {
   "cell_type": "code",
   "execution_count": 717,
   "metadata": {},
   "outputs": [],
   "source": [
    "#remove all data that is not for 2019 year\n",
    "data[\"year\"]=data.apply(lambda row: row.CMPLNT_FR_DT[-4:], axis=1)\n",
    "data[\"year\"]=data[\"year\"].astype(str)\n",
    "data.drop(data[data[\"year\"]!=\"2019\"].index, inplace=True)"
   ]
  },
  {
   "cell_type": "code",
   "execution_count": 718,
   "metadata": {},
   "outputs": [
    {
     "data": {
      "text/html": [
       "<div>\n",
       "<style scoped>\n",
       "    .dataframe tbody tr th:only-of-type {\n",
       "        vertical-align: middle;\n",
       "    }\n",
       "\n",
       "    .dataframe tbody tr th {\n",
       "        vertical-align: top;\n",
       "    }\n",
       "\n",
       "    .dataframe thead th {\n",
       "        text-align: right;\n",
       "    }\n",
       "</style>\n",
       "<table border=\"1\" class=\"dataframe\">\n",
       "  <thead>\n",
       "    <tr style=\"text-align: right;\">\n",
       "      <th></th>\n",
       "      <th>CMPLNT_NUM</th>\n",
       "      <th>BORO_NM</th>\n",
       "      <th>Incident Zip</th>\n",
       "      <th>neighbourhood</th>\n",
       "      <th>CMPLNT_FR_DT</th>\n",
       "      <th>CMPLNT_FR_TM</th>\n",
       "      <th>LAW_CAT_CD</th>\n",
       "      <th>OFNS_DESC</th>\n",
       "      <th>SUSP_AGE_GROUP</th>\n",
       "      <th>SUSP_RACE</th>\n",
       "      <th>...</th>\n",
       "      <th>VIC_AGE_GROUP</th>\n",
       "      <th>VIC_RACE</th>\n",
       "      <th>VIC_SEX</th>\n",
       "      <th>Latitude_x</th>\n",
       "      <th>Longitude_x</th>\n",
       "      <th>Lat_Lon</th>\n",
       "      <th>year</th>\n",
       "      <th>DateList</th>\n",
       "      <th>Month</th>\n",
       "      <th>Day</th>\n",
       "    </tr>\n",
       "  </thead>\n",
       "  <tbody>\n",
       "    <tr>\n",
       "      <td>0</td>\n",
       "      <td>314773184</td>\n",
       "      <td>BRONX</td>\n",
       "      <td>10460</td>\n",
       "      <td>Tremont</td>\n",
       "      <td>12/31/2019</td>\n",
       "      <td>18:00:00</td>\n",
       "      <td>FELONY</td>\n",
       "      <td>ROBBERY</td>\n",
       "      <td>UNKNOWN</td>\n",
       "      <td>UNKNOWN</td>\n",
       "      <td>...</td>\n",
       "      <td>45-64</td>\n",
       "      <td>WHITE HISPANIC</td>\n",
       "      <td>F</td>\n",
       "      <td>40.838026</td>\n",
       "      <td>-73.881681</td>\n",
       "      <td>(40.838026269000075, -73.88168118799997)</td>\n",
       "      <td>2019</td>\n",
       "      <td>[12, 31, 2019]</td>\n",
       "      <td>12</td>\n",
       "      <td>31</td>\n",
       "    </tr>\n",
       "    <tr>\n",
       "      <td>2</td>\n",
       "      <td>535744284</td>\n",
       "      <td>BROOKLYN</td>\n",
       "      <td>11213</td>\n",
       "      <td>Crown Heights</td>\n",
       "      <td>12/24/2019</td>\n",
       "      <td>16:55:00</td>\n",
       "      <td>FELONY</td>\n",
       "      <td>FELONY ASSAULT</td>\n",
       "      <td>UNKNOWN</td>\n",
       "      <td>BLACK</td>\n",
       "      <td>...</td>\n",
       "      <td>18-24</td>\n",
       "      <td>WHITE</td>\n",
       "      <td>M</td>\n",
       "      <td>40.669832</td>\n",
       "      <td>-73.939376</td>\n",
       "      <td>(40.66983179600004, -73.93937555099996)</td>\n",
       "      <td>2019</td>\n",
       "      <td>[12, 24, 2019]</td>\n",
       "      <td>12</td>\n",
       "      <td>24</td>\n",
       "    </tr>\n",
       "  </tbody>\n",
       "</table>\n",
       "<p>2 rows × 21 columns</p>\n",
       "</div>"
      ],
      "text/plain": [
       "   CMPLNT_NUM   BORO_NM Incident Zip  neighbourhood CMPLNT_FR_DT CMPLNT_FR_TM  \\\n",
       "0   314773184     BRONX        10460        Tremont   12/31/2019     18:00:00   \n",
       "2   535744284  BROOKLYN        11213  Crown Heights   12/24/2019     16:55:00   \n",
       "\n",
       "  LAW_CAT_CD       OFNS_DESC SUSP_AGE_GROUP SUSP_RACE  ... VIC_AGE_GROUP  \\\n",
       "0     FELONY         ROBBERY        UNKNOWN   UNKNOWN  ...         45-64   \n",
       "2     FELONY  FELONY ASSAULT        UNKNOWN     BLACK  ...         18-24   \n",
       "\n",
       "         VIC_RACE VIC_SEX Latitude_x  Longitude_x  \\\n",
       "0  WHITE HISPANIC       F  40.838026   -73.881681   \n",
       "2           WHITE       M  40.669832   -73.939376   \n",
       "\n",
       "                                    Lat_Lon  year        DateList Month Day  \n",
       "0  (40.838026269000075, -73.88168118799997)  2019  [12, 31, 2019]    12  31  \n",
       "2   (40.66983179600004, -73.93937555099996)  2019  [12, 24, 2019]    12  24  \n",
       "\n",
       "[2 rows x 21 columns]"
      ]
     },
     "execution_count": 718,
     "metadata": {},
     "output_type": "execute_result"
    }
   ],
   "source": [
    "#create new column called months to aggregate by month and year\n",
    "data[\"DateList\"]=data.apply(lambda row: row.CMPLNT_FR_DT.split(\"/\"), axis =1)\n",
    "data[\"Month\"]=data.apply(lambda row: row.DateList[0],axis=1)\n",
    "data[\"Day\"]=data.apply(lambda row: row.DateList [1],axis=1)\n",
    "\n",
    "data.head(2)"
   ]
  },
  {
   "cell_type": "code",
   "execution_count": 719,
   "metadata": {},
   "outputs": [
    {
     "data": {
      "text/html": [
       "<div>\n",
       "<style scoped>\n",
       "    .dataframe tbody tr th:only-of-type {\n",
       "        vertical-align: middle;\n",
       "    }\n",
       "\n",
       "    .dataframe tbody tr th {\n",
       "        vertical-align: top;\n",
       "    }\n",
       "\n",
       "    .dataframe thead th {\n",
       "        text-align: right;\n",
       "    }\n",
       "</style>\n",
       "<table border=\"1\" class=\"dataframe\">\n",
       "  <thead>\n",
       "    <tr style=\"text-align: right;\">\n",
       "      <th></th>\n",
       "      <th>CMPLNT_NUM</th>\n",
       "      <th>BORO_NM</th>\n",
       "      <th>Incident Zip</th>\n",
       "      <th>neighbourhood</th>\n",
       "      <th>CMPLNT_FR_DT</th>\n",
       "      <th>CMPLNT_FR_TM</th>\n",
       "      <th>LAW_CAT_CD</th>\n",
       "      <th>OFNS_DESC</th>\n",
       "      <th>SUSP_AGE_GROUP</th>\n",
       "      <th>SUSP_RACE</th>\n",
       "      <th>SUSP_SEX</th>\n",
       "      <th>VIC_AGE_GROUP</th>\n",
       "      <th>VIC_RACE</th>\n",
       "      <th>VIC_SEX</th>\n",
       "      <th>Latitude_x</th>\n",
       "      <th>Longitude_x</th>\n",
       "      <th>Lat_Lon</th>\n",
       "      <th>year</th>\n",
       "      <th>Month</th>\n",
       "      <th>Day</th>\n",
       "    </tr>\n",
       "  </thead>\n",
       "  <tbody>\n",
       "    <tr>\n",
       "      <td>0</td>\n",
       "      <td>314773184</td>\n",
       "      <td>BRONX</td>\n",
       "      <td>10460</td>\n",
       "      <td>Tremont</td>\n",
       "      <td>12/31/2019</td>\n",
       "      <td>18:00:00</td>\n",
       "      <td>FELONY</td>\n",
       "      <td>ROBBERY</td>\n",
       "      <td>UNKNOWN</td>\n",
       "      <td>UNKNOWN</td>\n",
       "      <td>U</td>\n",
       "      <td>45-64</td>\n",
       "      <td>WHITE HISPANIC</td>\n",
       "      <td>F</td>\n",
       "      <td>40.838026</td>\n",
       "      <td>-73.881681</td>\n",
       "      <td>(40.838026269000075, -73.88168118799997)</td>\n",
       "      <td>2019</td>\n",
       "      <td>12</td>\n",
       "      <td>31</td>\n",
       "    </tr>\n",
       "    <tr>\n",
       "      <td>2</td>\n",
       "      <td>535744284</td>\n",
       "      <td>BROOKLYN</td>\n",
       "      <td>11213</td>\n",
       "      <td>Crown Heights</td>\n",
       "      <td>12/24/2019</td>\n",
       "      <td>16:55:00</td>\n",
       "      <td>FELONY</td>\n",
       "      <td>FELONY ASSAULT</td>\n",
       "      <td>UNKNOWN</td>\n",
       "      <td>BLACK</td>\n",
       "      <td>M</td>\n",
       "      <td>18-24</td>\n",
       "      <td>WHITE</td>\n",
       "      <td>M</td>\n",
       "      <td>40.669832</td>\n",
       "      <td>-73.939376</td>\n",
       "      <td>(40.66983179600004, -73.93937555099996)</td>\n",
       "      <td>2019</td>\n",
       "      <td>12</td>\n",
       "      <td>24</td>\n",
       "    </tr>\n",
       "    <tr>\n",
       "      <td>3</td>\n",
       "      <td>895678119</td>\n",
       "      <td>BRONX</td>\n",
       "      <td>10463</td>\n",
       "      <td>Kingsbridge</td>\n",
       "      <td>12/30/2019</td>\n",
       "      <td>19:32:00</td>\n",
       "      <td>MISDEMEANOR</td>\n",
       "      <td>PETIT LARCENY</td>\n",
       "      <td>25-44</td>\n",
       "      <td>WHITE</td>\n",
       "      <td>F</td>\n",
       "      <td>UNKNOWN</td>\n",
       "      <td>UNKNOWN</td>\n",
       "      <td>D</td>\n",
       "      <td>40.873671</td>\n",
       "      <td>-73.908014</td>\n",
       "      <td>(40.87367103500002, -73.90801364899994)</td>\n",
       "      <td>2019</td>\n",
       "      <td>12</td>\n",
       "      <td>30</td>\n",
       "    </tr>\n",
       "    <tr>\n",
       "      <td>6</td>\n",
       "      <td>628084657</td>\n",
       "      <td>BROOKLYN</td>\n",
       "      <td>11236</td>\n",
       "      <td>Canarsie</td>\n",
       "      <td>12/22/2019</td>\n",
       "      <td>16:30:00</td>\n",
       "      <td>MISDEMEANOR</td>\n",
       "      <td>ASSAULT 3 &amp; RELATED OFFENSES</td>\n",
       "      <td>25-44</td>\n",
       "      <td>BLACK</td>\n",
       "      <td>M</td>\n",
       "      <td>25-44</td>\n",
       "      <td>BLACK</td>\n",
       "      <td>M</td>\n",
       "      <td>40.629159</td>\n",
       "      <td>-73.905299</td>\n",
       "      <td>(40.629158526000026, -73.90529923099997)</td>\n",
       "      <td>2019</td>\n",
       "      <td>12</td>\n",
       "      <td>22</td>\n",
       "    </tr>\n",
       "    <tr>\n",
       "      <td>7</td>\n",
       "      <td>487138011</td>\n",
       "      <td>BRONX</td>\n",
       "      <td>10472</td>\n",
       "      <td>Parkchester</td>\n",
       "      <td>12/29/2019</td>\n",
       "      <td>17:20:00</td>\n",
       "      <td>FELONY</td>\n",
       "      <td>ROBBERY</td>\n",
       "      <td>UNKNOWN</td>\n",
       "      <td>WHITE HISPANIC</td>\n",
       "      <td>M</td>\n",
       "      <td>25-44</td>\n",
       "      <td>BLACK</td>\n",
       "      <td>M</td>\n",
       "      <td>40.830641</td>\n",
       "      <td>-73.874879</td>\n",
       "      <td>(40.83064129700006, -73.87487918899996)</td>\n",
       "      <td>2019</td>\n",
       "      <td>12</td>\n",
       "      <td>29</td>\n",
       "    </tr>\n",
       "    <tr>\n",
       "      <td>...</td>\n",
       "      <td>...</td>\n",
       "      <td>...</td>\n",
       "      <td>...</td>\n",
       "      <td>...</td>\n",
       "      <td>...</td>\n",
       "      <td>...</td>\n",
       "      <td>...</td>\n",
       "      <td>...</td>\n",
       "      <td>...</td>\n",
       "      <td>...</td>\n",
       "      <td>...</td>\n",
       "      <td>...</td>\n",
       "      <td>...</td>\n",
       "      <td>...</td>\n",
       "      <td>...</td>\n",
       "      <td>...</td>\n",
       "      <td>...</td>\n",
       "      <td>...</td>\n",
       "      <td>...</td>\n",
       "      <td>...</td>\n",
       "    </tr>\n",
       "    <tr>\n",
       "      <td>461701</td>\n",
       "      <td>912917376</td>\n",
       "      <td>MANHATTAN</td>\n",
       "      <td>10011</td>\n",
       "      <td>Greenwich Village</td>\n",
       "      <td>1/4/2019</td>\n",
       "      <td>10:10:00</td>\n",
       "      <td>FELONY</td>\n",
       "      <td>GRAND LARCENY</td>\n",
       "      <td>UNKNOWN</td>\n",
       "      <td>UNKNOWN</td>\n",
       "      <td>U</td>\n",
       "      <td>45-64</td>\n",
       "      <td>WHITE</td>\n",
       "      <td>M</td>\n",
       "      <td>40.735398</td>\n",
       "      <td>-73.998277</td>\n",
       "      <td>(40.73539825200004, -73.99827664799993)</td>\n",
       "      <td>2019</td>\n",
       "      <td>1</td>\n",
       "      <td>4</td>\n",
       "    </tr>\n",
       "    <tr>\n",
       "      <td>461704</td>\n",
       "      <td>781940970</td>\n",
       "      <td>QUEENS</td>\n",
       "      <td>11372</td>\n",
       "      <td>East Elmhurst</td>\n",
       "      <td>1/5/2019</td>\n",
       "      <td>8:45:00</td>\n",
       "      <td>VIOLATION</td>\n",
       "      <td>HARRASSMENT 2</td>\n",
       "      <td>UNKNOWN</td>\n",
       "      <td>BLACK</td>\n",
       "      <td>F</td>\n",
       "      <td>25-44</td>\n",
       "      <td>WHITE HISPANIC</td>\n",
       "      <td>M</td>\n",
       "      <td>40.755714</td>\n",
       "      <td>-73.883975</td>\n",
       "      <td>(40.755714116000036, -73.88397502899994)</td>\n",
       "      <td>2019</td>\n",
       "      <td>1</td>\n",
       "      <td>5</td>\n",
       "    </tr>\n",
       "    <tr>\n",
       "      <td>461705</td>\n",
       "      <td>352845293</td>\n",
       "      <td>MANHATTAN</td>\n",
       "      <td>10009</td>\n",
       "      <td>East Village</td>\n",
       "      <td>1/4/2019</td>\n",
       "      <td>3:30:00</td>\n",
       "      <td>FELONY</td>\n",
       "      <td>GRAND LARCENY</td>\n",
       "      <td>UNKNOWN</td>\n",
       "      <td>UNKNOWN</td>\n",
       "      <td>U</td>\n",
       "      <td>25-44</td>\n",
       "      <td>BLACK</td>\n",
       "      <td>F</td>\n",
       "      <td>40.727138</td>\n",
       "      <td>-73.984195</td>\n",
       "      <td>(40.72713821200006, -73.98419514299998)</td>\n",
       "      <td>2019</td>\n",
       "      <td>1</td>\n",
       "      <td>4</td>\n",
       "    </tr>\n",
       "    <tr>\n",
       "      <td>461707</td>\n",
       "      <td>249722424</td>\n",
       "      <td>QUEENS</td>\n",
       "      <td>11411</td>\n",
       "      <td>Cambria Heights</td>\n",
       "      <td>1/2/2019</td>\n",
       "      <td>22:40:00</td>\n",
       "      <td>FELONY</td>\n",
       "      <td>FELONY ASSAULT</td>\n",
       "      <td>25-44</td>\n",
       "      <td>BLACK</td>\n",
       "      <td>F</td>\n",
       "      <td>25-44</td>\n",
       "      <td>BLACK</td>\n",
       "      <td>M</td>\n",
       "      <td>40.692214</td>\n",
       "      <td>-73.733559</td>\n",
       "      <td>(40.692213915000025, -73.73355857399997)</td>\n",
       "      <td>2019</td>\n",
       "      <td>1</td>\n",
       "      <td>2</td>\n",
       "    </tr>\n",
       "    <tr>\n",
       "      <td>461708</td>\n",
       "      <td>214650701</td>\n",
       "      <td>BROOKLYN</td>\n",
       "      <td>11234</td>\n",
       "      <td>Marine Park</td>\n",
       "      <td>1/5/2019</td>\n",
       "      <td>20:30:00</td>\n",
       "      <td>MISDEMEANOR</td>\n",
       "      <td>PETIT LARCENY</td>\n",
       "      <td>25-44</td>\n",
       "      <td>BLACK</td>\n",
       "      <td>F</td>\n",
       "      <td>UNKNOWN</td>\n",
       "      <td>UNKNOWN</td>\n",
       "      <td>D</td>\n",
       "      <td>40.609900</td>\n",
       "      <td>-73.922373</td>\n",
       "      <td>(40.60990012500002, -73.92237286099999)</td>\n",
       "      <td>2019</td>\n",
       "      <td>1</td>\n",
       "      <td>5</td>\n",
       "    </tr>\n",
       "  </tbody>\n",
       "</table>\n",
       "<p>333976 rows × 20 columns</p>\n",
       "</div>"
      ],
      "text/plain": [
       "        CMPLNT_NUM    BORO_NM Incident Zip      neighbourhood CMPLNT_FR_DT  \\\n",
       "0        314773184      BRONX        10460            Tremont   12/31/2019   \n",
       "2        535744284   BROOKLYN        11213      Crown Heights   12/24/2019   \n",
       "3        895678119      BRONX        10463        Kingsbridge   12/30/2019   \n",
       "6        628084657   BROOKLYN        11236           Canarsie   12/22/2019   \n",
       "7        487138011      BRONX        10472        Parkchester   12/29/2019   \n",
       "...            ...        ...          ...                ...          ...   \n",
       "461701   912917376  MANHATTAN        10011  Greenwich Village     1/4/2019   \n",
       "461704   781940970     QUEENS        11372      East Elmhurst     1/5/2019   \n",
       "461705   352845293  MANHATTAN        10009       East Village     1/4/2019   \n",
       "461707   249722424     QUEENS        11411    Cambria Heights     1/2/2019   \n",
       "461708   214650701   BROOKLYN        11234        Marine Park     1/5/2019   \n",
       "\n",
       "       CMPLNT_FR_TM   LAW_CAT_CD                     OFNS_DESC SUSP_AGE_GROUP  \\\n",
       "0          18:00:00       FELONY                       ROBBERY        UNKNOWN   \n",
       "2          16:55:00       FELONY                FELONY ASSAULT        UNKNOWN   \n",
       "3          19:32:00  MISDEMEANOR                 PETIT LARCENY          25-44   \n",
       "6          16:30:00  MISDEMEANOR  ASSAULT 3 & RELATED OFFENSES          25-44   \n",
       "7          17:20:00       FELONY                       ROBBERY        UNKNOWN   \n",
       "...             ...          ...                           ...            ...   \n",
       "461701     10:10:00       FELONY                 GRAND LARCENY        UNKNOWN   \n",
       "461704      8:45:00    VIOLATION                 HARRASSMENT 2        UNKNOWN   \n",
       "461705      3:30:00       FELONY                 GRAND LARCENY        UNKNOWN   \n",
       "461707     22:40:00       FELONY                FELONY ASSAULT          25-44   \n",
       "461708     20:30:00  MISDEMEANOR                 PETIT LARCENY          25-44   \n",
       "\n",
       "             SUSP_RACE SUSP_SEX VIC_AGE_GROUP        VIC_RACE VIC_SEX  \\\n",
       "0              UNKNOWN        U         45-64  WHITE HISPANIC       F   \n",
       "2                BLACK        M         18-24           WHITE       M   \n",
       "3                WHITE        F       UNKNOWN         UNKNOWN       D   \n",
       "6                BLACK        M         25-44           BLACK       M   \n",
       "7       WHITE HISPANIC        M         25-44           BLACK       M   \n",
       "...                ...      ...           ...             ...     ...   \n",
       "461701         UNKNOWN        U         45-64           WHITE       M   \n",
       "461704           BLACK        F         25-44  WHITE HISPANIC       M   \n",
       "461705         UNKNOWN        U         25-44           BLACK       F   \n",
       "461707           BLACK        F         25-44           BLACK       M   \n",
       "461708           BLACK        F       UNKNOWN         UNKNOWN       D   \n",
       "\n",
       "        Latitude_x  Longitude_x                                   Lat_Lon  \\\n",
       "0        40.838026   -73.881681  (40.838026269000075, -73.88168118799997)   \n",
       "2        40.669832   -73.939376   (40.66983179600004, -73.93937555099996)   \n",
       "3        40.873671   -73.908014   (40.87367103500002, -73.90801364899994)   \n",
       "6        40.629159   -73.905299  (40.629158526000026, -73.90529923099997)   \n",
       "7        40.830641   -73.874879   (40.83064129700006, -73.87487918899996)   \n",
       "...            ...          ...                                       ...   \n",
       "461701   40.735398   -73.998277   (40.73539825200004, -73.99827664799993)   \n",
       "461704   40.755714   -73.883975  (40.755714116000036, -73.88397502899994)   \n",
       "461705   40.727138   -73.984195   (40.72713821200006, -73.98419514299998)   \n",
       "461707   40.692214   -73.733559  (40.692213915000025, -73.73355857399997)   \n",
       "461708   40.609900   -73.922373   (40.60990012500002, -73.92237286099999)   \n",
       "\n",
       "        year Month Day  \n",
       "0       2019    12  31  \n",
       "2       2019    12  24  \n",
       "3       2019    12  30  \n",
       "6       2019    12  22  \n",
       "7       2019    12  29  \n",
       "...      ...   ...  ..  \n",
       "461701  2019     1   4  \n",
       "461704  2019     1   5  \n",
       "461705  2019     1   4  \n",
       "461707  2019     1   2  \n",
       "461708  2019     1   5  \n",
       "\n",
       "[333976 rows x 20 columns]"
      ]
     },
     "execution_count": 719,
     "metadata": {},
     "output_type": "execute_result"
    }
   ],
   "source": [
    "data.drop([\"DateList\"],axis=1)"
   ]
  },
  {
   "cell_type": "markdown",
   "metadata": {},
   "source": [
    "## OK, LET'S DO SOME ANALYSIS"
   ]
  },
  {
   "cell_type": "markdown",
   "metadata": {},
   "source": [
    "### which boroughs have the higest crime rate vs  the higest crime volume"
   ]
  },
  {
   "cell_type": "code",
   "execution_count": 720,
   "metadata": {},
   "outputs": [
    {
     "data": {
      "text/html": [
       "<div>\n",
       "<style scoped>\n",
       "    .dataframe tbody tr th:only-of-type {\n",
       "        vertical-align: middle;\n",
       "    }\n",
       "\n",
       "    .dataframe tbody tr th {\n",
       "        vertical-align: top;\n",
       "    }\n",
       "\n",
       "    .dataframe thead th {\n",
       "        text-align: right;\n",
       "    }\n",
       "</style>\n",
       "<table border=\"1\" class=\"dataframe\">\n",
       "  <thead>\n",
       "    <tr style=\"text-align: right;\">\n",
       "      <th></th>\n",
       "      <th>CMPLNT_NUM</th>\n",
       "    </tr>\n",
       "    <tr>\n",
       "      <th>BORO_NM</th>\n",
       "      <th></th>\n",
       "    </tr>\n",
       "  </thead>\n",
       "  <tbody>\n",
       "    <tr>\n",
       "      <td>BRONX</td>\n",
       "      <td>75407</td>\n",
       "    </tr>\n",
       "    <tr>\n",
       "      <td>BROOKLYN</td>\n",
       "      <td>94551</td>\n",
       "    </tr>\n",
       "    <tr>\n",
       "      <td>MANHATTAN</td>\n",
       "      <td>90050</td>\n",
       "    </tr>\n",
       "    <tr>\n",
       "      <td>QUEENS</td>\n",
       "      <td>63244</td>\n",
       "    </tr>\n",
       "    <tr>\n",
       "      <td>STATEN ISLAND</td>\n",
       "      <td>10724</td>\n",
       "    </tr>\n",
       "  </tbody>\n",
       "</table>\n",
       "</div>"
      ],
      "text/plain": [
       "               CMPLNT_NUM\n",
       "BORO_NM                  \n",
       "BRONX               75407\n",
       "BROOKLYN            94551\n",
       "MANHATTAN           90050\n",
       "QUEENS              63244\n",
       "STATEN ISLAND       10724"
      ]
     },
     "execution_count": 720,
     "metadata": {},
     "output_type": "execute_result"
    }
   ],
   "source": [
    "data.groupby(\"BORO_NM\").agg({\"CMPLNT_NUM\":\"count\"})"
   ]
  },
  {
   "cell_type": "code",
   "execution_count": 721,
   "metadata": {},
   "outputs": [],
   "source": [
    "#this doesnt take under concideration boro size...\n",
    "crime_by_boro=data.groupby(\"BORO_NM\").agg({\"CMPLNT_NUM\":\"count\"})"
   ]
  },
  {
   "cell_type": "markdown",
   "metadata": {},
   "source": [
    "### I am taking population of each borough and divide crime by populaton to get percentage per capita"
   ]
  },
  {
   "cell_type": "markdown",
   "metadata": {},
   "source": [
    "#### https://www.citypopulation.de/en/usa/newyorkcity/\n",
    "####  Bronx = 1432132  , Brooklyn = 2582830, Queens = 2278906, Manhattan=1628701, Staten Island=476179"
   ]
  },
  {
   "cell_type": "code",
   "execution_count": 722,
   "metadata": {},
   "outputs": [],
   "source": [
    "total_peps=[1432132, 2582830, 1628701,2278906, 476179]\n",
    "crime_by_boro[\"total_peps\"]= total_peps"
   ]
  },
  {
   "cell_type": "code",
   "execution_count": 723,
   "metadata": {},
   "outputs": [
    {
     "data": {
      "text/html": [
       "<div>\n",
       "<style scoped>\n",
       "    .dataframe tbody tr th:only-of-type {\n",
       "        vertical-align: middle;\n",
       "    }\n",
       "\n",
       "    .dataframe tbody tr th {\n",
       "        vertical-align: top;\n",
       "    }\n",
       "\n",
       "    .dataframe thead th {\n",
       "        text-align: right;\n",
       "    }\n",
       "</style>\n",
       "<table border=\"1\" class=\"dataframe\">\n",
       "  <thead>\n",
       "    <tr style=\"text-align: right;\">\n",
       "      <th></th>\n",
       "      <th>CMPLNT_NUM</th>\n",
       "      <th>total_peps</th>\n",
       "    </tr>\n",
       "    <tr>\n",
       "      <th>BORO_NM</th>\n",
       "      <th></th>\n",
       "      <th></th>\n",
       "    </tr>\n",
       "  </thead>\n",
       "  <tbody>\n",
       "    <tr>\n",
       "      <td>BRONX</td>\n",
       "      <td>75407</td>\n",
       "      <td>1432132</td>\n",
       "    </tr>\n",
       "    <tr>\n",
       "      <td>BROOKLYN</td>\n",
       "      <td>94551</td>\n",
       "      <td>2582830</td>\n",
       "    </tr>\n",
       "    <tr>\n",
       "      <td>MANHATTAN</td>\n",
       "      <td>90050</td>\n",
       "      <td>1628701</td>\n",
       "    </tr>\n",
       "    <tr>\n",
       "      <td>QUEENS</td>\n",
       "      <td>63244</td>\n",
       "      <td>2278906</td>\n",
       "    </tr>\n",
       "    <tr>\n",
       "      <td>STATEN ISLAND</td>\n",
       "      <td>10724</td>\n",
       "      <td>476179</td>\n",
       "    </tr>\n",
       "  </tbody>\n",
       "</table>\n",
       "</div>"
      ],
      "text/plain": [
       "               CMPLNT_NUM  total_peps\n",
       "BORO_NM                              \n",
       "BRONX               75407     1432132\n",
       "BROOKLYN            94551     2582830\n",
       "MANHATTAN           90050     1628701\n",
       "QUEENS              63244     2278906\n",
       "STATEN ISLAND       10724      476179"
      ]
     },
     "execution_count": 723,
     "metadata": {},
     "output_type": "execute_result"
    }
   ],
   "source": [
    "crime_by_boro"
   ]
  },
  {
   "cell_type": "code",
   "execution_count": 724,
   "metadata": {},
   "outputs": [],
   "source": [
    "crime_by_boro[\"crime_per_capita\"]=crime_by_boro.apply(lambda row: row.total_peps/row.CMPLNT_NUM,axis=1)"
   ]
  },
  {
   "cell_type": "code",
   "execution_count": 725,
   "metadata": {},
   "outputs": [
    {
     "data": {
      "text/html": [
       "<div>\n",
       "<style scoped>\n",
       "    .dataframe tbody tr th:only-of-type {\n",
       "        vertical-align: middle;\n",
       "    }\n",
       "\n",
       "    .dataframe tbody tr th {\n",
       "        vertical-align: top;\n",
       "    }\n",
       "\n",
       "    .dataframe thead th {\n",
       "        text-align: right;\n",
       "    }\n",
       "</style>\n",
       "<table border=\"1\" class=\"dataframe\">\n",
       "  <thead>\n",
       "    <tr style=\"text-align: right;\">\n",
       "      <th></th>\n",
       "      <th>CMPLNT_NUM</th>\n",
       "      <th>total_peps</th>\n",
       "      <th>crime_per_capita</th>\n",
       "    </tr>\n",
       "    <tr>\n",
       "      <th>BORO_NM</th>\n",
       "      <th></th>\n",
       "      <th></th>\n",
       "      <th></th>\n",
       "    </tr>\n",
       "  </thead>\n",
       "  <tbody>\n",
       "    <tr>\n",
       "      <td>BRONX</td>\n",
       "      <td>75407</td>\n",
       "      <td>1432132</td>\n",
       "      <td>18.992030</td>\n",
       "    </tr>\n",
       "    <tr>\n",
       "      <td>BROOKLYN</td>\n",
       "      <td>94551</td>\n",
       "      <td>2582830</td>\n",
       "      <td>27.316792</td>\n",
       "    </tr>\n",
       "    <tr>\n",
       "      <td>MANHATTAN</td>\n",
       "      <td>90050</td>\n",
       "      <td>1628701</td>\n",
       "      <td>18.086630</td>\n",
       "    </tr>\n",
       "    <tr>\n",
       "      <td>QUEENS</td>\n",
       "      <td>63244</td>\n",
       "      <td>2278906</td>\n",
       "      <td>36.033553</td>\n",
       "    </tr>\n",
       "    <tr>\n",
       "      <td>STATEN ISLAND</td>\n",
       "      <td>10724</td>\n",
       "      <td>476179</td>\n",
       "      <td>44.403115</td>\n",
       "    </tr>\n",
       "  </tbody>\n",
       "</table>\n",
       "</div>"
      ],
      "text/plain": [
       "               CMPLNT_NUM  total_peps  crime_per_capita\n",
       "BORO_NM                                                \n",
       "BRONX               75407     1432132         18.992030\n",
       "BROOKLYN            94551     2582830         27.316792\n",
       "MANHATTAN           90050     1628701         18.086630\n",
       "QUEENS              63244     2278906         36.033553\n",
       "STATEN ISLAND       10724      476179         44.403115"
      ]
     },
     "execution_count": 725,
     "metadata": {},
     "output_type": "execute_result"
    }
   ],
   "source": [
    "crime_by_boro"
   ]
  },
  {
   "cell_type": "code",
   "execution_count": 726,
   "metadata": {},
   "outputs": [],
   "source": [
    "# looks like by Staten island had the higest crime per capita,and Manhattan the lowest. let see this in barplot comparison\n",
    "boro=np.array(crime_by_boro.index)\n",
    "crime_per_capita=np.array(crime_by_boro.crime_per_capita)\n",
    "complains=np.array(crime_by_boro.CMPLNT_NUM)"
   ]
  },
  {
   "cell_type": "code",
   "execution_count": 727,
   "metadata": {},
   "outputs": [
    {
     "data": {
      "text/plain": [
       "<Figure size 432x288 with 0 Axes>"
      ]
     },
     "metadata": {},
     "output_type": "display_data"
    },
    {
     "data": {
      "image/png": "[encoded data removed]",
      "text/plain": [
       "<Figure size 1080x360 with 2 Axes>"
      ]
     },
     "metadata": {
      "needs_background": "light"
     },
     "output_type": "display_data"
    }
   ],
   "source": [
    "fig = plt.figure()\n",
    "fig, axs = plt.subplots(1, 2,figsize=(15,5))\n",
    "fig.suptitle(\"Comparison of crime volume in NYC in 2019 by boro\",color=\"k\",fontsize=20     )\n",
    "\n",
    "colors=[\"c\",\"c\",\"g\",\"c\",\"r\"]\n",
    "axs[0].bar(boro,crime_per_capita,color=colors)\n",
    "axs[0].set_title(\"Crime by percentage based on per capita\", color=\"c\", size=15)\n",
    "axs[0].set(xlabel=\"NYC BOROUGHS\", ylabel=\"crime percentage\")\n",
    "\n",
    "colors=[\"c\",\"r\",\"c\",\"c\",\"g\"]\n",
    "axs[1].bar(boro,complains,color=colors )\n",
    "axs[1].set(ylabel=\"CRIME BY NUMBERS\",xlabel=\"NYC BOROUGHS\")\n",
    "axs[1].set_title(\"Crime by volume per boro\",color=\"c\", size=15)\n",
    "plt.show()"
   ]
  },
  {
   "cell_type": "markdown",
   "metadata": {},
   "source": [
    "#### Staten Isand has the higest rate of crimes per capita, follow by Queens, while Manhattan the smallest.\n",
    "#### Brooklyn has the highest number of crimes but if counted crime per capita is right in the middle. \n",
    "#### Conclusion:  I won't be moving to Staten Island any time soon..."
   ]
  },
  {
   "cell_type": "markdown",
   "metadata": {},
   "source": [
    "### What is respectivelly the suspect and victim age,sex and race? "
   ]
  },
  {
   "cell_type": "code",
   "execution_count": 728,
   "metadata": {},
   "outputs": [],
   "source": [
    "# create new data frame so we can remove \"unknown\" data without distorting data in our main data set\n",
    "age_sex_race=data"
   ]
  },
  {
   "cell_type": "code",
   "execution_count": 729,
   "metadata": {},
   "outputs": [],
   "source": [
    "drop_index=age_sex_race[(age_sex_race[\"SUSP_AGE_GROUP\"]==\"UNKNOWN\")].index\n",
    "age_sex_race.drop(drop_index, inplace=True)\n",
    "age_sex_race=data\n",
    "drop_index=age_sex_race[(age_sex_race[\"SUSP_SEX\"]==\"U\")].index\n",
    "age_sex_race.drop(drop_index, inplace=True)\n",
    "age_sex_race=data\n",
    "drop_index=age_sex_race[(age_sex_race[\"SUSP_RACE\"]==\"UNKNOWN\")].index\n",
    "age_sex_race.drop(drop_index, inplace=True)"
   ]
  },
  {
   "cell_type": "code",
   "execution_count": 730,
   "metadata": {},
   "outputs": [],
   "source": [
    "age=age_sex_race.groupby(\"SUSP_AGE_GROUP\").agg({\"CMPLNT_NUM\":\"count\"})\n",
    "sex=age_sex_race.groupby(\"SUSP_SEX\").agg({\"CMPLNT_NUM\":\"count\"})\n",
    "race=age_sex_race.groupby(\"SUSP_RACE\").agg({\"CMPLNT_NUM\":\"count\"})"
   ]
  },
  {
   "cell_type": "code",
   "execution_count": 731,
   "metadata": {},
   "outputs": [],
   "source": [
    "age_arr=np.array(age.index)\n",
    "age_compl=np.array(age.CMPLNT_NUM)\n",
    "\n",
    "sex_arr=np.array(sex.index)\n",
    "sex_compl=np.array(sex.CMPLNT_NUM)\n",
    "\n",
    "race_arr=np.array(race.index)\n",
    "race_compl=np.array(race.CMPLNT_NUM)"
   ]
  },
  {
   "cell_type": "code",
   "execution_count": 732,
   "metadata": {},
   "outputs": [],
   "source": [
    "#names in race array are to long for display so need to make them shorter\n",
    "race_arr=np.array(['AMER/INDIAN' ,'ASIAN', 'BLACK',\n",
    " 'BLACK/HISP' ,'WHITE', 'WHITE/HISP'])"
   ]
  },
  {
   "cell_type": "code",
   "execution_count": 733,
   "metadata": {},
   "outputs": [],
   "source": [
    "# do the same for victim age, race nd sex"
   ]
  },
  {
   "cell_type": "code",
   "execution_count": 734,
   "metadata": {},
   "outputs": [],
   "source": [
    "#drop the unknown idexes\n",
    "age_sex_race_victim=data\n",
    "drop_index=age_sex_race_victim[(age_sex_race_victim[\"VIC_AGE_GROUP\"]==\"UNKNOWN\")].index\n",
    "age_sex_race_victim.drop(drop_index, inplace=True)\n",
    "\n",
    "age_sex_race=data\n",
    "drop_index=age_sex_race_victim[(age_sex_race_victim[\"VIC_SEX\"]==\"D\")].index\n",
    "age_sex_race_victim.drop(drop_index, inplace=True)\n",
    "drop_index=age_sex_race_victim[(age_sex_race_victim[\"VIC_SEX\"]==\"E\")].index\n",
    "age_sex_race_victim.drop(drop_index, inplace=True)\n",
    "#there was less then 20 crimes pertaining \"D\" or\"B\" so I removed it.\n",
    "\n",
    "age_sex_race_victim=data\n",
    "drop_index=age_sex_race_victim[(age_sex_race_victim[\"VIC_RACE\"]==\"UNKNOWN\")].index\n",
    "age_sex_race_victim.drop(drop_index, inplace=True)"
   ]
  },
  {
   "cell_type": "code",
   "execution_count": 735,
   "metadata": {},
   "outputs": [],
   "source": [
    "#aggregate data\n",
    "vic_age=age_sex_race_victim.groupby(\"VIC_AGE_GROUP\").agg({\"CMPLNT_NUM\":\"count\"})\n",
    "vic_sex=age_sex_race_victim.groupby(\"VIC_SEX\").agg({\"CMPLNT_NUM\":\"count\"})\n",
    "vic_race=age_sex_race_victim.groupby(\"VIC_RACE\").agg({\"CMPLNT_NUM\":\"count\"})"
   ]
  },
  {
   "cell_type": "code",
   "execution_count": 736,
   "metadata": {},
   "outputs": [
    {
     "data": {
      "text/html": [
       "<div>\n",
       "<style scoped>\n",
       "    .dataframe tbody tr th:only-of-type {\n",
       "        vertical-align: middle;\n",
       "    }\n",
       "\n",
       "    .dataframe tbody tr th {\n",
       "        vertical-align: top;\n",
       "    }\n",
       "\n",
       "    .dataframe thead th {\n",
       "        text-align: right;\n",
       "    }\n",
       "</style>\n",
       "<table border=\"1\" class=\"dataframe\">\n",
       "  <thead>\n",
       "    <tr style=\"text-align: right;\">\n",
       "      <th></th>\n",
       "      <th>CMPLNT_NUM</th>\n",
       "    </tr>\n",
       "    <tr>\n",
       "      <th>VIC_SEX</th>\n",
       "      <th></th>\n",
       "    </tr>\n",
       "  </thead>\n",
       "  <tbody>\n",
       "    <tr>\n",
       "      <td>F</td>\n",
       "      <td>81234</td>\n",
       "    </tr>\n",
       "    <tr>\n",
       "      <td>M</td>\n",
       "      <td>48596</td>\n",
       "    </tr>\n",
       "  </tbody>\n",
       "</table>\n",
       "</div>"
      ],
      "text/plain": [
       "         CMPLNT_NUM\n",
       "VIC_SEX            \n",
       "F             81234\n",
       "M             48596"
      ]
     },
     "execution_count": 736,
     "metadata": {},
     "output_type": "execute_result"
    }
   ],
   "source": [
    "vic_sex"
   ]
  },
  {
   "cell_type": "code",
   "execution_count": 737,
   "metadata": {},
   "outputs": [],
   "source": [
    "#create arrays for victim age,sex, race\n",
    "age_arr_vic=np.array(vic_age.index)\n",
    "age_compl_vic=np.array(vic_age.CMPLNT_NUM)\n",
    "\n",
    "sex_arr_vic=np.array(vic_sex.index)\n",
    "sex_compl_vic=np.array(vic_sex.CMPLNT_NUM)\n",
    "\n",
    "race_arr_vic=np.array(vic_race.index)\n",
    "race_compl_vic=np.array(vic_race.CMPLNT_NUM)"
   ]
  },
  {
   "cell_type": "code",
   "execution_count": 738,
   "metadata": {},
   "outputs": [],
   "source": [
    "#names in race array are to long for display so need to make them shorter\n",
    "race_arr_vic=np.array(['AMER/INDIAN' ,'ASIAN', 'BLACK',\n",
    " 'BLACK/HISP' ,'WHITE', 'WHITE/HISP'])"
   ]
  },
  {
   "cell_type": "code",
   "execution_count": 739,
   "metadata": {},
   "outputs": [],
   "source": [
    "#let see results in graph bars"
   ]
  },
  {
   "cell_type": "code",
   "execution_count": 740,
   "metadata": {},
   "outputs": [
    {
     "data": {
      "text/plain": [
       "<Figure size 432x288 with 0 Axes>"
      ]
     },
     "metadata": {},
     "output_type": "display_data"
    },
    {
     "data": {
      "image/png": "[encoded data removed]",
      "text/plain": [
       "<Figure size 1080x720 with 6 Axes>"
      ]
     },
     "metadata": {
      "needs_background": "light"
     },
     "output_type": "display_data"
    }
   ],
   "source": [
    "fig=plt.figure()\n",
    "fig,axs = plt.subplots(3,2, figsize=(15,10))\n",
    "#fig.suptitle(\"Sex, race and age of the suspect versus those of a victim.\", color=\"k\",fontsize=18)\n",
    "\n",
    "col=[\"c\",\"r\",\"c\",\"g\",\"c\"]\n",
    "axs[0,0].set_title(\"Crime by suspect age\", fontsize=15)\n",
    "axs[0,0].bar(age_arr,age_compl, color=col)\n",
    "axs[0,1].set_title(\"Crime by victims age\", fontsize=15)\n",
    "axs[0,1].bar(age_arr_vic,age_compl_vic,color=col)\n",
    "axs[0,0].set(ylabel=\"Crime volume\", xlabel=\"Suspect age\")\n",
    "axs[0,1].set(ylabel=\"Crime volume\", xlabel=\"Victim age\")\n",
    "\n",
    "\n",
    "col=[\"m\",\"y\"]\n",
    "axs[1,0].set_title(\"Crime by suspect sex\", fontsize=15)\n",
    "axs[1,0].bar(sex_arr,sex_compl,color=col)\n",
    "axs[1,1].set_title(\"Crime by victims sex\", fontsize=15)\n",
    "axs[1,1].bar(sex_arr_vic,sex_compl_vic ,color=col)\n",
    "axs[1,0].set(ylabel=\"Crime volume\", xlabel=\" Suspect sex\")\n",
    "axs[1,1].set(ylabel=\"Crime volume\", xlabel=\"Victim sex\")\n",
    "\n",
    "col=[\"g\",\"c\",\"r\",\"c\",\"c\",\"c\"]\n",
    "axs[2,0].set_title(\"Crime by suspect race\", fontsize=15)\n",
    "axs[2,0].bar(race_arr, race_compl,color=col)\n",
    "axs[2,1].set_title(\"Crime by victims race\", fontsize=15)\n",
    "axs[2,1].bar(race_arr_vic, race_compl_vic,color=col)\n",
    "axs[1,0].set(ylabel=\"Crime volume\", xlabel=\"Suspect race\")\n",
    "axs[1,1].set(ylabel=\"Crime volume\", xlabel=\"Victim sex\")\n",
    "\n",
    "plt.tight_layout()\n",
    "plt.show()\n"
   ]
  },
  {
   "cell_type": "code",
   "execution_count": null,
   "metadata": {},
   "outputs": [],
   "source": []
  },
  {
   "cell_type": "markdown",
   "metadata": {},
   "source": [
    "###  type of crime by boro"
   ]
  },
  {
   "cell_type": "code",
   "execution_count": 741,
   "metadata": {},
   "outputs": [],
   "source": [
    "crime_by_boro=data.groupby([\"BORO_NM\",\"LAW_CAT_CD\"]).agg({\"CMPLNT_NUM\":\"count\"}).reset_index()"
   ]
  },
  {
   "cell_type": "code",
   "execution_count": 742,
   "metadata": {},
   "outputs": [
    {
     "data": {
      "text/html": [
       "<div>\n",
       "<style scoped>\n",
       "    .dataframe tbody tr th:only-of-type {\n",
       "        vertical-align: middle;\n",
       "    }\n",
       "\n",
       "    .dataframe tbody tr th {\n",
       "        vertical-align: top;\n",
       "    }\n",
       "\n",
       "    .dataframe thead th {\n",
       "        text-align: right;\n",
       "    }\n",
       "</style>\n",
       "<table border=\"1\" class=\"dataframe\">\n",
       "  <thead>\n",
       "    <tr style=\"text-align: right;\">\n",
       "      <th></th>\n",
       "      <th>BORO_NM</th>\n",
       "      <th>LAW_CAT_CD</th>\n",
       "      <th>CMPLNT_NUM</th>\n",
       "    </tr>\n",
       "  </thead>\n",
       "  <tbody>\n",
       "    <tr>\n",
       "      <td>0</td>\n",
       "      <td>BRONX</td>\n",
       "      <td>FELONY</td>\n",
       "      <td>7583</td>\n",
       "    </tr>\n",
       "    <tr>\n",
       "      <td>1</td>\n",
       "      <td>BRONX</td>\n",
       "      <td>MISDEMEANOR</td>\n",
       "      <td>15607</td>\n",
       "    </tr>\n",
       "    <tr>\n",
       "      <td>2</td>\n",
       "      <td>BRONX</td>\n",
       "      <td>VIOLATION</td>\n",
       "      <td>8570</td>\n",
       "    </tr>\n",
       "    <tr>\n",
       "      <td>3</td>\n",
       "      <td>BROOKLYN</td>\n",
       "      <td>FELONY</td>\n",
       "      <td>11110</td>\n",
       "    </tr>\n",
       "    <tr>\n",
       "      <td>4</td>\n",
       "      <td>BROOKLYN</td>\n",
       "      <td>MISDEMEANOR</td>\n",
       "      <td>16519</td>\n",
       "    </tr>\n",
       "  </tbody>\n",
       "</table>\n",
       "</div>"
      ],
      "text/plain": [
       "    BORO_NM   LAW_CAT_CD  CMPLNT_NUM\n",
       "0     BRONX       FELONY        7583\n",
       "1     BRONX  MISDEMEANOR       15607\n",
       "2     BRONX    VIOLATION        8570\n",
       "3  BROOKLYN       FELONY       11110\n",
       "4  BROOKLYN  MISDEMEANOR       16519"
      ]
     },
     "execution_count": 742,
     "metadata": {},
     "output_type": "execute_result"
    }
   ],
   "source": [
    "crime_by_boro.head()"
   ]
  },
  {
   "cell_type": "code",
   "execution_count": 743,
   "metadata": {},
   "outputs": [
    {
     "data": {
      "text/html": [
       "<div>\n",
       "<style scoped>\n",
       "    .dataframe tbody tr th:only-of-type {\n",
       "        vertical-align: middle;\n",
       "    }\n",
       "\n",
       "    .dataframe tbody tr th {\n",
       "        vertical-align: top;\n",
       "    }\n",
       "\n",
       "    .dataframe thead th {\n",
       "        text-align: right;\n",
       "    }\n",
       "</style>\n",
       "<table border=\"1\" class=\"dataframe\">\n",
       "  <thead>\n",
       "    <tr style=\"text-align: right;\">\n",
       "      <th>LAW_CAT_CD</th>\n",
       "      <th>FELONY</th>\n",
       "      <th>MISDEMEANOR</th>\n",
       "      <th>VIOLATION</th>\n",
       "    </tr>\n",
       "    <tr>\n",
       "      <th>BORO_NM</th>\n",
       "      <th></th>\n",
       "      <th></th>\n",
       "      <th></th>\n",
       "    </tr>\n",
       "  </thead>\n",
       "  <tbody>\n",
       "    <tr>\n",
       "      <td>BRONX</td>\n",
       "      <td>7583</td>\n",
       "      <td>15607</td>\n",
       "      <td>8570</td>\n",
       "    </tr>\n",
       "    <tr>\n",
       "      <td>BROOKLYN</td>\n",
       "      <td>11110</td>\n",
       "      <td>16519</td>\n",
       "      <td>10958</td>\n",
       "    </tr>\n",
       "    <tr>\n",
       "      <td>MANHATTAN</td>\n",
       "      <td>6715</td>\n",
       "      <td>12491</td>\n",
       "      <td>7155</td>\n",
       "    </tr>\n",
       "    <tr>\n",
       "      <td>QUEENS</td>\n",
       "      <td>7903</td>\n",
       "      <td>12077</td>\n",
       "      <td>7937</td>\n",
       "    </tr>\n",
       "    <tr>\n",
       "      <td>STATEN ISLAND</td>\n",
       "      <td>1198</td>\n",
       "      <td>2291</td>\n",
       "      <td>1716</td>\n",
       "    </tr>\n",
       "  </tbody>\n",
       "</table>\n",
       "</div>"
      ],
      "text/plain": [
       "LAW_CAT_CD     FELONY  MISDEMEANOR  VIOLATION\n",
       "BORO_NM                                      \n",
       "BRONX            7583        15607       8570\n",
       "BROOKLYN        11110        16519      10958\n",
       "MANHATTAN        6715        12491       7155\n",
       "QUEENS           7903        12077       7937\n",
       "STATEN ISLAND    1198         2291       1716"
      ]
     },
     "execution_count": 743,
     "metadata": {},
     "output_type": "execute_result"
    }
   ],
   "source": [
    "# using crosstab to compute a simple cross tabulation of two  factors boro and type of crime\n",
    "crime_by_boro_plot=pd.crosstab(data['BORO_NM'],data['LAW_CAT_CD'])\n",
    "crime_by_boro_plot"
   ]
  },
  {
   "cell_type": "code",
   "execution_count": 744,
   "metadata": {},
   "outputs": [
    {
     "data": {
      "image/png": "[encoded data removed]",
      "text/plain": [
       "<Figure size 432x288 with 1 Axes>"
      ]
     },
     "metadata": {
      "needs_background": "light"
     },
     "output_type": "display_data"
    }
   ],
   "source": [
    "crime_by_boro_plot.plot.barh()\n",
    "plt.legend(loc=1,bbox_to_anchor=(1,1))\n",
    "plt.title(\"Volume of crime types of crime by borough\", size=18)\n",
    "plt.show()"
   ]
  },
  {
   "cell_type": "markdown",
   "metadata": {},
   "source": [
    "### what is most prevalent crime for each sex?\n"
   ]
  },
  {
   "cell_type": "code",
   "execution_count": 745,
   "metadata": {},
   "outputs": [
    {
     "data": {
      "text/html": [
       "<div>\n",
       "<style scoped>\n",
       "    .dataframe tbody tr th:only-of-type {\n",
       "        vertical-align: middle;\n",
       "    }\n",
       "\n",
       "    .dataframe tbody tr th {\n",
       "        vertical-align: top;\n",
       "    }\n",
       "\n",
       "    .dataframe thead th {\n",
       "        text-align: right;\n",
       "    }\n",
       "</style>\n",
       "<table border=\"1\" class=\"dataframe\">\n",
       "  <thead>\n",
       "    <tr style=\"text-align: right;\">\n",
       "      <th>LAW_CAT_CD</th>\n",
       "      <th>FELONY</th>\n",
       "      <th>MISDEMEANOR</th>\n",
       "      <th>VIOLATION</th>\n",
       "    </tr>\n",
       "    <tr>\n",
       "      <th>SUSP_SEX</th>\n",
       "      <th></th>\n",
       "      <th></th>\n",
       "      <th></th>\n",
       "    </tr>\n",
       "  </thead>\n",
       "  <tbody>\n",
       "    <tr>\n",
       "      <td>F</td>\n",
       "      <td>6580</td>\n",
       "      <td>15228</td>\n",
       "      <td>12007</td>\n",
       "    </tr>\n",
       "    <tr>\n",
       "      <td>M</td>\n",
       "      <td>27929</td>\n",
       "      <td>43757</td>\n",
       "      <td>24329</td>\n",
       "    </tr>\n",
       "  </tbody>\n",
       "</table>\n",
       "</div>"
      ],
      "text/plain": [
       "LAW_CAT_CD  FELONY  MISDEMEANOR  VIOLATION\n",
       "SUSP_SEX                                  \n",
       "F             6580        15228      12007\n",
       "M            27929        43757      24329"
      ]
     },
     "execution_count": 745,
     "metadata": {},
     "output_type": "execute_result"
    }
   ],
   "source": [
    "crime_by_sex_plot=pd.crosstab(data['SUSP_SEX'],data['LAW_CAT_CD'])\n",
    "crime_by_sex_plot"
   ]
  },
  {
   "cell_type": "code",
   "execution_count": 746,
   "metadata": {},
   "outputs": [
    {
     "data": {
      "image/png": "[encoded data removed]",
      "text/plain": [
       "<Figure size 432x288 with 1 Axes>"
      ]
     },
     "metadata": {
      "needs_background": "light"
     },
     "output_type": "display_data"
    }
   ],
   "source": [
    "crime_by_sex_plot.plot.barh()\n",
    "plt.title(\"Volume of crime types of crime by suspect sex\", size=18)\n",
    "plt.show()"
   ]
  },
  {
   "cell_type": "code",
   "execution_count": 747,
   "metadata": {},
   "outputs": [],
   "source": [
    "#for females seems like misdemenor and violations are pretty close, while felonies are the rarest.\n",
    "# For man misdemenor is significantly higer then flony but felony is mosre prevelent then violations. "
   ]
  },
  {
   "cell_type": "markdown",
   "metadata": {},
   "source": [
    "### what would be top ten ofences done by woman vs men?"
   ]
  },
  {
   "cell_type": "code",
   "execution_count": 748,
   "metadata": {},
   "outputs": [],
   "source": [
    "women_crimes_only=data.loc[data[\"SUSP_SEX\"]==\"F\"]"
   ]
  },
  {
   "cell_type": "code",
   "execution_count": 749,
   "metadata": {},
   "outputs": [],
   "source": [
    "women=women_crimes_only.groupby(women_crimes_only[\"OFNS_DESC\"]).agg({\"CMPLNT_NUM\":\"count\"}).sort_values(by=\"CMPLNT_NUM\", ascending=False).head(10)"
   ]
  },
  {
   "cell_type": "code",
   "execution_count": 750,
   "metadata": {},
   "outputs": [
    {
     "data": {
      "text/html": [
       "<div>\n",
       "<style scoped>\n",
       "    .dataframe tbody tr th:only-of-type {\n",
       "        vertical-align: middle;\n",
       "    }\n",
       "\n",
       "    .dataframe tbody tr th {\n",
       "        vertical-align: top;\n",
       "    }\n",
       "\n",
       "    .dataframe thead th {\n",
       "        text-align: right;\n",
       "    }\n",
       "</style>\n",
       "<table border=\"1\" class=\"dataframe\">\n",
       "  <thead>\n",
       "    <tr style=\"text-align: right;\">\n",
       "      <th></th>\n",
       "      <th>CMPLNT_NUM</th>\n",
       "    </tr>\n",
       "    <tr>\n",
       "      <th>OFNS_DESC</th>\n",
       "      <th></th>\n",
       "    </tr>\n",
       "  </thead>\n",
       "  <tbody>\n",
       "    <tr>\n",
       "      <td>HARRASSMENT 2</td>\n",
       "      <td>11991</td>\n",
       "    </tr>\n",
       "    <tr>\n",
       "      <td>ASSAULT 3 &amp; RELATED OFFENSES</td>\n",
       "      <td>8376</td>\n",
       "    </tr>\n",
       "    <tr>\n",
       "      <td>OFF. AGNST PUB ORD SENSBLTY &amp;</td>\n",
       "      <td>3244</td>\n",
       "    </tr>\n",
       "    <tr>\n",
       "      <td>FELONY ASSAULT</td>\n",
       "      <td>3236</td>\n",
       "    </tr>\n",
       "    <tr>\n",
       "      <td>CRIMINAL MISCHIEF &amp; RELATED OF</td>\n",
       "      <td>1485</td>\n",
       "    </tr>\n",
       "    <tr>\n",
       "      <td>MISCELLANEOUS PENAL LAW</td>\n",
       "      <td>1366</td>\n",
       "    </tr>\n",
       "    <tr>\n",
       "      <td>PETIT LARCENY</td>\n",
       "      <td>869</td>\n",
       "    </tr>\n",
       "    <tr>\n",
       "      <td>GRAND LARCENY</td>\n",
       "      <td>642</td>\n",
       "    </tr>\n",
       "    <tr>\n",
       "      <td>OFFENSES AGAINST PUBLIC ADMINI</td>\n",
       "      <td>631</td>\n",
       "    </tr>\n",
       "    <tr>\n",
       "      <td>ROBBERY</td>\n",
       "      <td>480</td>\n",
       "    </tr>\n",
       "  </tbody>\n",
       "</table>\n",
       "</div>"
      ],
      "text/plain": [
       "                                CMPLNT_NUM\n",
       "OFNS_DESC                                 \n",
       "HARRASSMENT 2                        11991\n",
       "ASSAULT 3 & RELATED OFFENSES          8376\n",
       "OFF. AGNST PUB ORD SENSBLTY &         3244\n",
       "FELONY ASSAULT                        3236\n",
       "CRIMINAL MISCHIEF & RELATED OF        1485\n",
       "MISCELLANEOUS PENAL LAW               1366\n",
       "PETIT LARCENY                          869\n",
       "GRAND LARCENY                          642\n",
       "OFFENSES AGAINST PUBLIC ADMINI         631\n",
       "ROBBERY                                480"
      ]
     },
     "execution_count": 750,
     "metadata": {},
     "output_type": "execute_result"
    }
   ],
   "source": [
    "women"
   ]
  },
  {
   "cell_type": "code",
   "execution_count": 751,
   "metadata": {},
   "outputs": [],
   "source": [
    "# looks like most prevalent among females is 2nd degree harrasment ;\n",
    "# \"A person is guilty of Harassment in the Second Degree when, with intent to harass, annoy or alarm another person\""
   ]
  },
  {
   "cell_type": "code",
   "execution_count": 752,
   "metadata": {},
   "outputs": [],
   "source": [
    "men_crimes_only=data.loc[data[\"SUSP_SEX\"]==\"M\"]"
   ]
  },
  {
   "cell_type": "code",
   "execution_count": 753,
   "metadata": {},
   "outputs": [],
   "source": [
    "men=men_crimes_only.groupby(men_crimes_only[\"OFNS_DESC\"]).agg({\"CMPLNT_NUM\":\"count\"}).sort_values(by=\"CMPLNT_NUM\", ascending=False).head(10)"
   ]
  },
  {
   "cell_type": "code",
   "execution_count": 754,
   "metadata": {},
   "outputs": [
    {
     "data": {
      "text/html": [
       "<div>\n",
       "<style scoped>\n",
       "    .dataframe tbody tr th:only-of-type {\n",
       "        vertical-align: middle;\n",
       "    }\n",
       "\n",
       "    .dataframe tbody tr th {\n",
       "        vertical-align: top;\n",
       "    }\n",
       "\n",
       "    .dataframe thead th {\n",
       "        text-align: right;\n",
       "    }\n",
       "</style>\n",
       "<table border=\"1\" class=\"dataframe\">\n",
       "  <thead>\n",
       "    <tr style=\"text-align: right;\">\n",
       "      <th></th>\n",
       "      <th>CMPLNT_NUM</th>\n",
       "    </tr>\n",
       "    <tr>\n",
       "      <th>OFNS_DESC</th>\n",
       "      <th></th>\n",
       "    </tr>\n",
       "  </thead>\n",
       "  <tbody>\n",
       "    <tr>\n",
       "      <td>HARRASSMENT 2</td>\n",
       "      <td>24279</td>\n",
       "    </tr>\n",
       "    <tr>\n",
       "      <td>ASSAULT 3 &amp; RELATED OFFENSES</td>\n",
       "      <td>23443</td>\n",
       "    </tr>\n",
       "    <tr>\n",
       "      <td>FELONY ASSAULT</td>\n",
       "      <td>8402</td>\n",
       "    </tr>\n",
       "    <tr>\n",
       "      <td>MISCELLANEOUS PENAL LAW</td>\n",
       "      <td>6445</td>\n",
       "    </tr>\n",
       "    <tr>\n",
       "      <td>OFF. AGNST PUB ORD SENSBLTY &amp;</td>\n",
       "      <td>5919</td>\n",
       "    </tr>\n",
       "    <tr>\n",
       "      <td>CRIMINAL MISCHIEF &amp; RELATED OF</td>\n",
       "      <td>5075</td>\n",
       "    </tr>\n",
       "    <tr>\n",
       "      <td>ROBBERY</td>\n",
       "      <td>4748</td>\n",
       "    </tr>\n",
       "    <tr>\n",
       "      <td>PETIT LARCENY</td>\n",
       "      <td>3380</td>\n",
       "    </tr>\n",
       "    <tr>\n",
       "      <td>OFFENSES AGAINST PUBLIC ADMINI</td>\n",
       "      <td>3070</td>\n",
       "    </tr>\n",
       "    <tr>\n",
       "      <td>GRAND LARCENY</td>\n",
       "      <td>2953</td>\n",
       "    </tr>\n",
       "  </tbody>\n",
       "</table>\n",
       "</div>"
      ],
      "text/plain": [
       "                                CMPLNT_NUM\n",
       "OFNS_DESC                                 \n",
       "HARRASSMENT 2                        24279\n",
       "ASSAULT 3 & RELATED OFFENSES         23443\n",
       "FELONY ASSAULT                        8402\n",
       "MISCELLANEOUS PENAL LAW               6445\n",
       "OFF. AGNST PUB ORD SENSBLTY &         5919\n",
       "CRIMINAL MISCHIEF & RELATED OF        5075\n",
       "ROBBERY                               4748\n",
       "PETIT LARCENY                         3380\n",
       "OFFENSES AGAINST PUBLIC ADMINI        3070\n",
       "GRAND LARCENY                         2953"
      ]
     },
     "execution_count": 754,
     "metadata": {},
     "output_type": "execute_result"
    }
   ],
   "source": [
    "men"
   ]
  },
  {
   "cell_type": "code",
   "execution_count": 755,
   "metadata": {},
   "outputs": [],
   "source": [
    "# for men 2nd degree harrassment is also at the top, but robbery is higher for men. "
   ]
  },
  {
   "cell_type": "code",
   "execution_count": 756,
   "metadata": {},
   "outputs": [],
   "source": [
    "# let's compare side by side"
   ]
  },
  {
   "cell_type": "code",
   "execution_count": 757,
   "metadata": {},
   "outputs": [],
   "source": [
    "men_vs_women=pd.merge(men,women, on=\"OFNS_DESC\")"
   ]
  },
  {
   "cell_type": "code",
   "execution_count": 758,
   "metadata": {},
   "outputs": [],
   "source": [
    "men_vs_women=men_vs_women.rename(columns={\"CMPLNT_NUM_y\": \"Women\", \"CMPLNT_NUM_x\": \"Men\"})"
   ]
  },
  {
   "cell_type": "code",
   "execution_count": 759,
   "metadata": {},
   "outputs": [
    {
     "data": {
      "text/html": [
       "<div>\n",
       "<style scoped>\n",
       "    .dataframe tbody tr th:only-of-type {\n",
       "        vertical-align: middle;\n",
       "    }\n",
       "\n",
       "    .dataframe tbody tr th {\n",
       "        vertical-align: top;\n",
       "    }\n",
       "\n",
       "    .dataframe thead th {\n",
       "        text-align: right;\n",
       "    }\n",
       "</style>\n",
       "<table border=\"1\" class=\"dataframe\">\n",
       "  <thead>\n",
       "    <tr style=\"text-align: right;\">\n",
       "      <th></th>\n",
       "      <th>Men</th>\n",
       "      <th>Women</th>\n",
       "    </tr>\n",
       "    <tr>\n",
       "      <th>OFNS_DESC</th>\n",
       "      <th></th>\n",
       "      <th></th>\n",
       "    </tr>\n",
       "  </thead>\n",
       "  <tbody>\n",
       "    <tr>\n",
       "      <td>HARRASSMENT 2</td>\n",
       "      <td>24279</td>\n",
       "      <td>11991</td>\n",
       "    </tr>\n",
       "    <tr>\n",
       "      <td>ASSAULT 3 &amp; RELATED OFFENSES</td>\n",
       "      <td>23443</td>\n",
       "      <td>8376</td>\n",
       "    </tr>\n",
       "    <tr>\n",
       "      <td>FELONY ASSAULT</td>\n",
       "      <td>8402</td>\n",
       "      <td>3236</td>\n",
       "    </tr>\n",
       "    <tr>\n",
       "      <td>MISCELLANEOUS PENAL LAW</td>\n",
       "      <td>6445</td>\n",
       "      <td>1366</td>\n",
       "    </tr>\n",
       "    <tr>\n",
       "      <td>OFF. AGNST PUB ORD SENSBLTY &amp;</td>\n",
       "      <td>5919</td>\n",
       "      <td>3244</td>\n",
       "    </tr>\n",
       "    <tr>\n",
       "      <td>CRIMINAL MISCHIEF &amp; RELATED OF</td>\n",
       "      <td>5075</td>\n",
       "      <td>1485</td>\n",
       "    </tr>\n",
       "    <tr>\n",
       "      <td>ROBBERY</td>\n",
       "      <td>4748</td>\n",
       "      <td>480</td>\n",
       "    </tr>\n",
       "    <tr>\n",
       "      <td>PETIT LARCENY</td>\n",
       "      <td>3380</td>\n",
       "      <td>869</td>\n",
       "    </tr>\n",
       "    <tr>\n",
       "      <td>OFFENSES AGAINST PUBLIC ADMINI</td>\n",
       "      <td>3070</td>\n",
       "      <td>631</td>\n",
       "    </tr>\n",
       "    <tr>\n",
       "      <td>GRAND LARCENY</td>\n",
       "      <td>2953</td>\n",
       "      <td>642</td>\n",
       "    </tr>\n",
       "  </tbody>\n",
       "</table>\n",
       "</div>"
      ],
      "text/plain": [
       "                                  Men  Women\n",
       "OFNS_DESC                                   \n",
       "HARRASSMENT 2                   24279  11991\n",
       "ASSAULT 3 & RELATED OFFENSES    23443   8376\n",
       "FELONY ASSAULT                   8402   3236\n",
       "MISCELLANEOUS PENAL LAW          6445   1366\n",
       "OFF. AGNST PUB ORD SENSBLTY &    5919   3244\n",
       "CRIMINAL MISCHIEF & RELATED OF   5075   1485\n",
       "ROBBERY                          4748    480\n",
       "PETIT LARCENY                    3380    869\n",
       "OFFENSES AGAINST PUBLIC ADMINI   3070    631\n",
       "GRAND LARCENY                    2953    642"
      ]
     },
     "execution_count": 759,
     "metadata": {},
     "output_type": "execute_result"
    }
   ],
   "source": [
    "men_vs_women"
   ]
  },
  {
   "cell_type": "code",
   "execution_count": 760,
   "metadata": {},
   "outputs": [
    {
     "data": {
      "image/png": "[encoded data removed]",
      "text/plain": [
       "<Figure size 432x288 with 1 Axes>"
      ]
     },
     "metadata": {
      "needs_background": "light"
     },
     "output_type": "display_data"
    }
   ],
   "source": [
    "men_vs_women.plot.barh()\n",
    "plt.title(\"Detail decriptions of crimes by suspect sex\", size=15)\n",
    "plt.show()"
   ]
  },
  {
   "cell_type": "code",
   "execution_count": null,
   "metadata": {},
   "outputs": [],
   "source": []
  },
  {
   "cell_type": "markdown",
   "metadata": {},
   "source": [
    "### how is crime related to time of the year?\n"
   ]
  },
  {
   "cell_type": "code",
   "execution_count": null,
   "metadata": {},
   "outputs": [],
   "source": []
  },
  {
   "cell_type": "code",
   "execution_count": 761,
   "metadata": {},
   "outputs": [
    {
     "data": {
      "text/plain": [
       "dtype('O')"
      ]
     },
     "execution_count": 761,
     "metadata": {},
     "output_type": "execute_result"
    }
   ],
   "source": [
    "data[\"Month\"].dtype"
   ]
  },
  {
   "cell_type": "code",
   "execution_count": 762,
   "metadata": {},
   "outputs": [],
   "source": [
    "#because data in \"Month\" is an objectit will not show correcty on the graph, need to change it to int\n",
    "data[\"Month\"]=data[\"Month\"].astype(int)"
   ]
  },
  {
   "cell_type": "code",
   "execution_count": 763,
   "metadata": {},
   "outputs": [],
   "source": [
    "data_cross_month=pd.crosstab(data[\"Month\"],data[\"Month\"])"
   ]
  },
  {
   "cell_type": "code",
   "execution_count": 764,
   "metadata": {},
   "outputs": [
    {
     "data": {
      "image/png": "[encoded data removed]",
      "text/plain": [
       "<Figure size 432x288 with 1 Axes>"
      ]
     },
     "metadata": {
      "needs_background": "light"
     },
     "output_type": "display_data"
    }
   ],
   "source": [
    "data_cross_month.plot.bar()\n",
    "plt.legend( loc=0,bbox_to_anchor=(1,1))\n",
    "plt.title(\"Volume of crime in particular month in 2019\")\n",
    "plt.show()"
   ]
  },
  {
   "cell_type": "markdown",
   "metadata": {},
   "source": [
    "#### We can see that summer in months there is a clear spike in amount of crime, while the February is the calmest month\n"
   ]
  },
  {
   "cell_type": "code",
   "execution_count": 765,
   "metadata": {},
   "outputs": [
    {
     "data": {
      "image/png": "[encoded data removed]",
      "text/plain": [
       "<Figure size 432x288 with 1 Axes>"
      ]
     },
     "metadata": {
      "needs_background": "light"
     },
     "output_type": "display_data"
    }
   ],
   "source": [
    "\n",
    "data_cross_month=pd.crosstab(data[\"Month\"],data[\"LAW_CAT_CD\"])\n",
    "data_cross_month.plot.bar()\n",
    "plt.legend( loc=0,bbox_to_anchor=(1,1))\n",
    "plt.title(\"Volume of crime in particular month in 2019 by type\")\n",
    "plt.show()"
   ]
  },
  {
   "cell_type": "markdown",
   "metadata": {},
   "source": [
    "#### Seems like this trend is even accross all types of crimes"
   ]
  },
  {
   "cell_type": "code",
   "execution_count": 766,
   "metadata": {},
   "outputs": [
    {
     "data": {
      "image/png": "[encoded data removed]",
      "text/plain": [
       "<Figure size 432x288 with 1 Axes>"
      ]
     },
     "metadata": {
      "needs_background": "light"
     },
     "output_type": "display_data"
    }
   ],
   "source": [
    "#aggregate by month to get number of complaints by month\n",
    "time_crime=data.groupby([\"Month\"]).agg({\"CMPLNT_NUM\":\"count\"}).sort_values(by=\"Month\",ascending=False)\n",
    "\n",
    "fig,ax=plt.subplots()\n",
    "ax.plot(time_crime.index, time_crime[\"CMPLNT_NUM\"])\n",
    "plt.title(\"Volume of crime in particular months in 2019\",size=20)\n",
    "ax.annotate(\"There is a spike in crimes in summer months: May to August\", \n",
    "            xytext=[9, 11750], \n",
    "            xy=[6.3,11780],\n",
    "            arrowprops=dict(arrowstyle='->', color='red', linewidth=2), size=12,c=\"b\", va=\"center\")\n",
    "ax.annotate(\"February has the lowest crime volume\", \n",
    "            xytext=[4, 10000], \n",
    "            xy=[2.3,9300],\n",
    "            arrowprops=dict(arrowstyle='->', color='green', linewidth=2), size=12, c=\"b\" )\n",
    "plt.show()"
   ]
  },
  {
   "cell_type": "code",
   "execution_count": 767,
   "metadata": {},
   "outputs": [
    {
     "data": {
      "text/plain": [
       "['Bronx', 'Brooklyn', 'Manhattan', 'Queens', 'Staten Island']"
      ]
     },
     "execution_count": 767,
     "metadata": {},
     "output_type": "execute_result"
    }
   ],
   "source": [
    "data[\"BORO_NM\"].unique()\n",
    "boros"
   ]
  },
  {
   "cell_type": "code",
   "execution_count": 768,
   "metadata": {},
   "outputs": [],
   "source": [
    "bronx_month_agg=data[data[\"BORO_NM\"]==\"BRONX\"].groupby([\"Month\"]).agg({\"CMPLNT_NUM\":\"count\"})\n",
    "broooklyn_month_agg=data[data[\"BORO_NM\"]==\"BROOKLYN\"].groupby([\"Month\"]).agg({\"CMPLNT_NUM\":\"count\"})\n",
    "manhattan_month_agg=data[data[\"BORO_NM\"]==\"MANHATTAN\"].groupby([\"Month\"]).agg({\"CMPLNT_NUM\":\"count\"})\n",
    "queens_month_agg=data[data[\"BORO_NM\"]==\"QUEENS\"].groupby([\"Month\"]).agg({\"CMPLNT_NUM\":\"count\"})\n",
    "statenisland_month_agg=data[data[\"BORO_NM\"]==\"STATEN ISLAND\"].groupby([\"Month\"]).agg({\"CMPLNT_NUM\":\"count\"})\n",
    "list_boro=[bronx_month_agg, broooklyn_month_agg, manhattan_month_agg, queens_month_agg, statenisland_month_agg ]\n",
    "boros=['Bronx', 'Brooklyn', 'Manhattan', 'Queens', 'Staten Island']"
   ]
  },
  {
   "cell_type": "code",
   "execution_count": 769,
   "metadata": {},
   "outputs": [
    {
     "data": {
      "image/png": "[encoded data removed]",
      "text/plain": [
       "<Figure size 432x288 with 1 Axes>"
      ]
     },
     "metadata": {
      "needs_background": "light"
     },
     "output_type": "display_data"
    }
   ],
   "source": [
    "fig,ax=plt.subplots()\n",
    "\n",
    "for x in list_boro:\n",
    "    ax.plot(x.index,x[\"CMPLNT_NUM\"])\n",
    "plt.legend(boros, loc=0,bbox_to_anchor=(1,1))\n",
    "plt.title(\"Volume of crime in particular month in 2019 by borough\")\n",
    "plt.show()"
   ]
  },
  {
   "cell_type": "code",
   "execution_count": 770,
   "metadata": {},
   "outputs": [],
   "source": [
    "data.to_csv(\"MyCrime2019Analysis.csv\", index=False)"
   ]
  },
  {
   "cell_type": "markdown",
   "metadata": {},
   "source": [
    "#### Also, it seems like this monthly pattern is same for all boroughs "
   ]
  },
  {
   "cell_type": "markdown",
   "metadata": {},
   "source": [
    "### What is the most dangerous time to be out there on the streets?"
   ]
  },
  {
   "cell_type": "code",
   "execution_count": 771,
   "metadata": {},
   "outputs": [
    {
     "data": {
      "text/plain": [
       "array(['16:30:00', '15:05:00', '11:20:00', ..., '6:51:00', '9:01:00',\n",
       "       '5:26:00'], dtype=object)"
      ]
     },
     "execution_count": 771,
     "metadata": {},
     "output_type": "execute_result"
    }
   ],
   "source": [
    "data[\"CMPLNT_FR_TM\"].unique()"
   ]
  },
  {
   "cell_type": "code",
   "execution_count": 772,
   "metadata": {},
   "outputs": [],
   "source": [
    "# I want to create new column that will only have hour as a time indicator "
   ]
  },
  {
   "cell_type": "code",
   "execution_count": 773,
   "metadata": {},
   "outputs": [],
   "source": [
    "data[\"CrimeTime\"]=data.apply(lambda row: row.CMPLNT_FR_TM[:-6], axis=1)"
   ]
  },
  {
   "cell_type": "code",
   "execution_count": 774,
   "metadata": {},
   "outputs": [
    {
     "data": {
      "text/plain": [
       "dtype('O')"
      ]
     },
     "execution_count": 774,
     "metadata": {},
     "output_type": "execute_result"
    }
   ],
   "source": [
    "data[\"CrimeTime\"].dtype"
   ]
  },
  {
   "cell_type": "code",
   "execution_count": 775,
   "metadata": {},
   "outputs": [],
   "source": [
    "# converting from object to integer\n",
    "data[\"CrimeTime\"]=pd.to_numeric(data[\"CrimeTime\"])"
   ]
  },
  {
   "cell_type": "code",
   "execution_count": 776,
   "metadata": {},
   "outputs": [],
   "source": [
    "crime_activity_hourly=data.groupby(data[\"CrimeTime\"]).agg({\"CMPLNT_NUM\":\"count\"})\n"
   ]
  },
  {
   "cell_type": "code",
   "execution_count": 777,
   "metadata": {},
   "outputs": [
    {
     "data": {
      "image/png": "[encoded data removed]",
      "text/plain": [
       "<Figure size 432x288 with 1 Axes>"
      ]
     },
     "metadata": {
      "needs_background": "light"
     },
     "output_type": "display_data"
    }
   ],
   "source": [
    "fig,ax=plt.subplots()\n",
    "ax.plot(crime_activity_hourly.index, crime_activity_hourly[\"CMPLNT_NUM\"])\n",
    "plt.title(\"Volume of crime in 24 hour period in NYC\")\n",
    "\n",
    "plt.show()"
   ]
  },
  {
   "cell_type": "code",
   "execution_count": 778,
   "metadata": {},
   "outputs": [
    {
     "data": {
      "text/plain": [
       "array(['MISDEMEANOR', 'VIOLATION', 'FELONY'], dtype=object)"
      ]
     },
     "execution_count": 778,
     "metadata": {},
     "output_type": "execute_result"
    }
   ],
   "source": [
    "data[\"LAW_CAT_CD\"].unique()"
   ]
  },
  {
   "cell_type": "code",
   "execution_count": 779,
   "metadata": {},
   "outputs": [],
   "source": [
    "fellony=data[data[\"LAW_CAT_CD\"]==\"FELONY\"].groupby([\"CrimeTime\"]).agg({\"CMPLNT_NUM\":\"count\"})\n",
    "misdemeanor=data[data[\"LAW_CAT_CD\"]==\"MISDEMEANOR\"].groupby([\"CrimeTime\"]).agg({\"CMPLNT_NUM\":\"count\"})\n",
    "violation=data[data[\"LAW_CAT_CD\"]==\"VIOLATION\"].groupby([\"CrimeTime\"]).agg({\"CMPLNT_NUM\":\"count\"})"
   ]
  },
  {
   "cell_type": "code",
   "execution_count": 780,
   "metadata": {},
   "outputs": [],
   "source": [
    "law_cat_list=[fellony, misdemeanor, violation]\n",
    "law_cat=[\"Fellony\", \"Misdemeanor\", 'Violation']"
   ]
  },
  {
   "cell_type": "code",
   "execution_count": 781,
   "metadata": {},
   "outputs": [
    {
     "data": {
      "image/png": "[encoded data removed]",
      "text/plain": [
       "<Figure size 432x288 with 1 Axes>"
      ]
     },
     "metadata": {
      "needs_background": "light"
     },
     "output_type": "display_data"
    }
   ],
   "source": [
    "fig,ax=plt.subplots()\n",
    "\n",
    "for x in law_cat_list:\n",
    "    ax.plot(x.index,x[\"CMPLNT_NUM\"])\n",
    "plt.legend(law_cat, loc=0,bbox_to_anchor=(1,1))\n",
    "plt.title(\"Volume of crime during 24 hour period by crime type\")\n",
    "plt.show()"
   ]
  },
  {
   "cell_type": "markdown",
   "metadata": {},
   "source": [
    "#### Looks like 3 pm is the time when the volume of crime is the higests, with 5 am being the calmest hour \n"
   ]
  },
  {
   "cell_type": "markdown",
   "metadata": {},
   "source": [
    "### Top ofenses in Williamsburg Brooklyn?"
   ]
  },
  {
   "cell_type": "code",
   "execution_count": 782,
   "metadata": {},
   "outputs": [],
   "source": [
    "wiliamsburg=data.loc[data[\"neighbourhood\"]==\"Williamsburg\"]"
   ]
  },
  {
   "cell_type": "code",
   "execution_count": 783,
   "metadata": {},
   "outputs": [],
   "source": [
    "wiliamsburg_only=wiliamsburg.groupby([\"neighbourhood\",\"OFNS_DESC\"]).agg({\"CMPLNT_NUM\":\"count\"}).sort_values(by=\"CMPLNT_NUM\",ascending=False).head(10)"
   ]
  },
  {
   "cell_type": "code",
   "execution_count": 784,
   "metadata": {},
   "outputs": [
    {
     "data": {
      "text/html": [
       "<div>\n",
       "<style scoped>\n",
       "    .dataframe tbody tr th:only-of-type {\n",
       "        vertical-align: middle;\n",
       "    }\n",
       "\n",
       "    .dataframe tbody tr th {\n",
       "        vertical-align: top;\n",
       "    }\n",
       "\n",
       "    .dataframe thead th {\n",
       "        text-align: right;\n",
       "    }\n",
       "</style>\n",
       "<table border=\"1\" class=\"dataframe\">\n",
       "  <thead>\n",
       "    <tr style=\"text-align: right;\">\n",
       "      <th></th>\n",
       "      <th></th>\n",
       "      <th>CMPLNT_NUM</th>\n",
       "    </tr>\n",
       "    <tr>\n",
       "      <th>neighbourhood</th>\n",
       "      <th>OFNS_DESC</th>\n",
       "      <th></th>\n",
       "    </tr>\n",
       "  </thead>\n",
       "  <tbody>\n",
       "    <tr>\n",
       "      <td rowspan=\"10\" valign=\"top\">Williamsburg</td>\n",
       "      <td>HARRASSMENT 2</td>\n",
       "      <td>509</td>\n",
       "    </tr>\n",
       "    <tr>\n",
       "      <td>ASSAULT 3 &amp; RELATED OFFENSES</td>\n",
       "      <td>380</td>\n",
       "    </tr>\n",
       "    <tr>\n",
       "      <td>FELONY ASSAULT</td>\n",
       "      <td>144</td>\n",
       "    </tr>\n",
       "    <tr>\n",
       "      <td>MISCELLANEOUS PENAL LAW</td>\n",
       "      <td>142</td>\n",
       "    </tr>\n",
       "    <tr>\n",
       "      <td>OFF. AGNST PUB ORD SENSBLTY &amp;</td>\n",
       "      <td>115</td>\n",
       "    </tr>\n",
       "    <tr>\n",
       "      <td>CRIMINAL MISCHIEF &amp; RELATED OF</td>\n",
       "      <td>105</td>\n",
       "    </tr>\n",
       "    <tr>\n",
       "      <td>PETIT LARCENY</td>\n",
       "      <td>82</td>\n",
       "    </tr>\n",
       "    <tr>\n",
       "      <td>ROBBERY</td>\n",
       "      <td>76</td>\n",
       "    </tr>\n",
       "    <tr>\n",
       "      <td>GRAND LARCENY</td>\n",
       "      <td>60</td>\n",
       "    </tr>\n",
       "    <tr>\n",
       "      <td>BURGLARY</td>\n",
       "      <td>31</td>\n",
       "    </tr>\n",
       "  </tbody>\n",
       "</table>\n",
       "</div>"
      ],
      "text/plain": [
       "                                              CMPLNT_NUM\n",
       "neighbourhood OFNS_DESC                                 \n",
       "Williamsburg  HARRASSMENT 2                          509\n",
       "              ASSAULT 3 & RELATED OFFENSES           380\n",
       "              FELONY ASSAULT                         144\n",
       "              MISCELLANEOUS PENAL LAW                142\n",
       "              OFF. AGNST PUB ORD SENSBLTY &          115\n",
       "              CRIMINAL MISCHIEF & RELATED OF         105\n",
       "              PETIT LARCENY                           82\n",
       "              ROBBERY                                 76\n",
       "              GRAND LARCENY                           60\n",
       "              BURGLARY                                31"
      ]
     },
     "execution_count": 784,
     "metadata": {},
     "output_type": "execute_result"
    }
   ],
   "source": [
    "wiliamsburg_only"
   ]
  },
  {
   "cell_type": "markdown",
   "metadata": {},
   "source": [
    "### top ofenses in Ridgewood Brooklyn?"
   ]
  },
  {
   "cell_type": "code",
   "execution_count": 785,
   "metadata": {},
   "outputs": [],
   "source": [
    "ridgewood=data.loc[data[\"neighbourhood\"]==\"Ridgewood\"]\n",
    "ridgewood_only=ridgewood.groupby([\"neighbourhood\",\"OFNS_DESC\"]).agg({\"CMPLNT_NUM\":\"count\"}).sort_values(by=\"CMPLNT_NUM\",ascending=False).head(10)"
   ]
  },
  {
   "cell_type": "code",
   "execution_count": 786,
   "metadata": {},
   "outputs": [
    {
     "data": {
      "text/html": [
       "<div>\n",
       "<style scoped>\n",
       "    .dataframe tbody tr th:only-of-type {\n",
       "        vertical-align: middle;\n",
       "    }\n",
       "\n",
       "    .dataframe tbody tr th {\n",
       "        vertical-align: top;\n",
       "    }\n",
       "\n",
       "    .dataframe thead th {\n",
       "        text-align: right;\n",
       "    }\n",
       "</style>\n",
       "<table border=\"1\" class=\"dataframe\">\n",
       "  <thead>\n",
       "    <tr style=\"text-align: right;\">\n",
       "      <th></th>\n",
       "      <th></th>\n",
       "      <th>CMPLNT_NUM</th>\n",
       "    </tr>\n",
       "    <tr>\n",
       "      <th>neighbourhood</th>\n",
       "      <th>OFNS_DESC</th>\n",
       "      <th></th>\n",
       "    </tr>\n",
       "  </thead>\n",
       "  <tbody>\n",
       "    <tr>\n",
       "      <td rowspan=\"10\" valign=\"top\">Ridgewood</td>\n",
       "      <td>HARRASSMENT 2</td>\n",
       "      <td>177</td>\n",
       "    </tr>\n",
       "    <tr>\n",
       "      <td>ASSAULT 3 &amp; RELATED OFFENSES</td>\n",
       "      <td>123</td>\n",
       "    </tr>\n",
       "    <tr>\n",
       "      <td>FELONY ASSAULT</td>\n",
       "      <td>42</td>\n",
       "    </tr>\n",
       "    <tr>\n",
       "      <td>OFF. AGNST PUB ORD SENSBLTY &amp;</td>\n",
       "      <td>30</td>\n",
       "    </tr>\n",
       "    <tr>\n",
       "      <td>CRIMINAL MISCHIEF &amp; RELATED OF</td>\n",
       "      <td>28</td>\n",
       "    </tr>\n",
       "    <tr>\n",
       "      <td>MISCELLANEOUS PENAL LAW</td>\n",
       "      <td>26</td>\n",
       "    </tr>\n",
       "    <tr>\n",
       "      <td>OFFENSES AGAINST PUBLIC ADMINI</td>\n",
       "      <td>25</td>\n",
       "    </tr>\n",
       "    <tr>\n",
       "      <td>ROBBERY</td>\n",
       "      <td>21</td>\n",
       "    </tr>\n",
       "    <tr>\n",
       "      <td>PETIT LARCENY</td>\n",
       "      <td>19</td>\n",
       "    </tr>\n",
       "    <tr>\n",
       "      <td>GRAND LARCENY</td>\n",
       "      <td>14</td>\n",
       "    </tr>\n",
       "  </tbody>\n",
       "</table>\n",
       "</div>"
      ],
      "text/plain": [
       "                                              CMPLNT_NUM\n",
       "neighbourhood OFNS_DESC                                 \n",
       "Ridgewood     HARRASSMENT 2                          177\n",
       "              ASSAULT 3 & RELATED OFFENSES           123\n",
       "              FELONY ASSAULT                          42\n",
       "              OFF. AGNST PUB ORD SENSBLTY &           30\n",
       "              CRIMINAL MISCHIEF & RELATED OF          28\n",
       "              MISCELLANEOUS PENAL LAW                 26\n",
       "              OFFENSES AGAINST PUBLIC ADMINI          25\n",
       "              ROBBERY                                 21\n",
       "              PETIT LARCENY                           19\n",
       "              GRAND LARCENY                           14"
      ]
     },
     "execution_count": 786,
     "metadata": {},
     "output_type": "execute_result"
    }
   ],
   "source": [
    "ridgewood_only"
   ]
  },
  {
   "cell_type": "code",
   "execution_count": 787,
   "metadata": {},
   "outputs": [
    {
     "data": {
      "text/html": [
       "<div>\n",
       "<style scoped>\n",
       "    .dataframe tbody tr th:only-of-type {\n",
       "        vertical-align: middle;\n",
       "    }\n",
       "\n",
       "    .dataframe tbody tr th {\n",
       "        vertical-align: top;\n",
       "    }\n",
       "\n",
       "    .dataframe thead th {\n",
       "        text-align: right;\n",
       "    }\n",
       "</style>\n",
       "<table border=\"1\" class=\"dataframe\">\n",
       "  <thead>\n",
       "    <tr style=\"text-align: right;\">\n",
       "      <th></th>\n",
       "      <th></th>\n",
       "      <th>CMPLNT_NUM</th>\n",
       "    </tr>\n",
       "    <tr>\n",
       "      <th>neighbourhood</th>\n",
       "      <th>OFNS_DESC</th>\n",
       "      <th></th>\n",
       "    </tr>\n",
       "  </thead>\n",
       "  <tbody>\n",
       "    <tr>\n",
       "      <td rowspan=\"10\" valign=\"top\">Maspeth</td>\n",
       "      <td>HARRASSMENT 2</td>\n",
       "      <td>109</td>\n",
       "    </tr>\n",
       "    <tr>\n",
       "      <td>ASSAULT 3 &amp; RELATED OFFENSES</td>\n",
       "      <td>77</td>\n",
       "    </tr>\n",
       "    <tr>\n",
       "      <td>FELONY ASSAULT</td>\n",
       "      <td>33</td>\n",
       "    </tr>\n",
       "    <tr>\n",
       "      <td>MISCELLANEOUS PENAL LAW</td>\n",
       "      <td>25</td>\n",
       "    </tr>\n",
       "    <tr>\n",
       "      <td>CRIMINAL MISCHIEF &amp; RELATED OF</td>\n",
       "      <td>22</td>\n",
       "    </tr>\n",
       "    <tr>\n",
       "      <td>OFFENSES AGAINST PUBLIC ADMINI</td>\n",
       "      <td>17</td>\n",
       "    </tr>\n",
       "    <tr>\n",
       "      <td>OFF. AGNST PUB ORD SENSBLTY &amp;</td>\n",
       "      <td>16</td>\n",
       "    </tr>\n",
       "    <tr>\n",
       "      <td>PETIT LARCENY</td>\n",
       "      <td>15</td>\n",
       "    </tr>\n",
       "    <tr>\n",
       "      <td>ROBBERY</td>\n",
       "      <td>12</td>\n",
       "    </tr>\n",
       "    <tr>\n",
       "      <td>GRAND LARCENY</td>\n",
       "      <td>5</td>\n",
       "    </tr>\n",
       "  </tbody>\n",
       "</table>\n",
       "</div>"
      ],
      "text/plain": [
       "                                              CMPLNT_NUM\n",
       "neighbourhood OFNS_DESC                                 \n",
       "Maspeth       HARRASSMENT 2                          109\n",
       "              ASSAULT 3 & RELATED OFFENSES            77\n",
       "              FELONY ASSAULT                          33\n",
       "              MISCELLANEOUS PENAL LAW                 25\n",
       "              CRIMINAL MISCHIEF & RELATED OF          22\n",
       "              OFFENSES AGAINST PUBLIC ADMINI          17\n",
       "              OFF. AGNST PUB ORD SENSBLTY &           16\n",
       "              PETIT LARCENY                           15\n",
       "              ROBBERY                                 12\n",
       "              GRAND LARCENY                            5"
      ]
     },
     "execution_count": 787,
     "metadata": {},
     "output_type": "execute_result"
    }
   ],
   "source": [
    "maspeth=data.loc[data[\"neighbourhood\"]==\"Maspeth\"]\n",
    "maspeth_only=maspeth.groupby([\"neighbourhood\",\"OFNS_DESC\"]).agg({\"CMPLNT_NUM\":\"count\"}).sort_values(by=\"CMPLNT_NUM\",ascending=False).head(10)\n",
    "maspeth_only"
   ]
  },
  {
   "cell_type": "markdown",
   "metadata": {},
   "source": [
    "### top 10 worst nieghboorhoods "
   ]
  },
  {
   "cell_type": "code",
   "execution_count": 788,
   "metadata": {},
   "outputs": [],
   "source": [
    "top_ten_worst=data.groupby([\"neighbourhood\"]).agg({\"CMPLNT_NUM\":\"count\"}).sort_values(by=\"CMPLNT_NUM\", ascending=False).head(10)"
   ]
  },
  {
   "cell_type": "code",
   "execution_count": 789,
   "metadata": {
    "scrolled": true
   },
   "outputs": [
    {
     "data": {
      "text/html": [
       "<div>\n",
       "<style scoped>\n",
       "    .dataframe tbody tr th:only-of-type {\n",
       "        vertical-align: middle;\n",
       "    }\n",
       "\n",
       "    .dataframe tbody tr th {\n",
       "        vertical-align: top;\n",
       "    }\n",
       "\n",
       "    .dataframe thead th {\n",
       "        text-align: right;\n",
       "    }\n",
       "</style>\n",
       "<table border=\"1\" class=\"dataframe\">\n",
       "  <thead>\n",
       "    <tr style=\"text-align: right;\">\n",
       "      <th></th>\n",
       "      <th>CMPLNT_NUM</th>\n",
       "    </tr>\n",
       "    <tr>\n",
       "      <th>neighbourhood</th>\n",
       "      <th></th>\n",
       "    </tr>\n",
       "  </thead>\n",
       "  <tbody>\n",
       "    <tr>\n",
       "      <td>Harlem</td>\n",
       "      <td>5602</td>\n",
       "    </tr>\n",
       "    <tr>\n",
       "      <td>Crown Heights</td>\n",
       "      <td>4398</td>\n",
       "    </tr>\n",
       "    <tr>\n",
       "      <td>Longwood</td>\n",
       "      <td>3909</td>\n",
       "    </tr>\n",
       "    <tr>\n",
       "      <td>Bedford-Stuyvesant</td>\n",
       "      <td>3831</td>\n",
       "    </tr>\n",
       "    <tr>\n",
       "      <td>Jamaica</td>\n",
       "      <td>3614</td>\n",
       "    </tr>\n",
       "    <tr>\n",
       "      <td>East Harlem</td>\n",
       "      <td>3311</td>\n",
       "    </tr>\n",
       "    <tr>\n",
       "      <td>East Flatbush</td>\n",
       "      <td>2886</td>\n",
       "    </tr>\n",
       "    <tr>\n",
       "      <td>Mount Hope</td>\n",
       "      <td>2673</td>\n",
       "    </tr>\n",
       "    <tr>\n",
       "      <td>East New York</td>\n",
       "      <td>2659</td>\n",
       "    </tr>\n",
       "    <tr>\n",
       "      <td>Bushwick</td>\n",
       "      <td>2378</td>\n",
       "    </tr>\n",
       "  </tbody>\n",
       "</table>\n",
       "</div>"
      ],
      "text/plain": [
       "                    CMPLNT_NUM\n",
       "neighbourhood                 \n",
       "Harlem                    5602\n",
       "Crown Heights             4398\n",
       "Longwood                  3909\n",
       "Bedford-Stuyvesant        3831\n",
       "Jamaica                   3614\n",
       "East Harlem               3311\n",
       "East Flatbush             2886\n",
       "Mount Hope                2673\n",
       "East New York             2659\n",
       "Bushwick                  2378"
      ]
     },
     "execution_count": 789,
     "metadata": {},
     "output_type": "execute_result"
    }
   ],
   "source": [
    "top_ten_worst"
   ]
  },
  {
   "cell_type": "code",
   "execution_count": null,
   "metadata": {},
   "outputs": [],
   "source": []
  }
 ],
 "metadata": {
  "kernelspec": {
   "display_name": "Python 3",
   "language": "python",
   "name": "python3"
  },
  "language_info": {
   "codemirror_mode": {
    "name": "ipython",
    "version": 3
   },
   "file_extension": ".py",
   "mimetype": "text/x-python",
   "name": "python",
   "nbconvert_exporter": "python",
   "pygments_lexer": "ipython3",
   "version": "3.7.4"
  }
 },
 "nbformat": 4,
 "nbformat_minor": 2
}
