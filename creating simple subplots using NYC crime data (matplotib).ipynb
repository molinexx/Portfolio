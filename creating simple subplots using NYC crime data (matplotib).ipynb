{
 "cells": [
  {
   "cell_type": "code",
   "execution_count": 1,
   "metadata": {},
   "outputs": [],
   "source": [
    "import pandas as pd\n",
    "import matplotlib.pyplot as plt\n",
    "import numpy as np"
   ]
  },
  {
   "cell_type": "markdown",
   "metadata": {},
   "source": [
    "### big idea:\n",
    "#### I wanted to find out how crime in NYC is changing depending of the month of the year,  how are the victims and what are the most prevalent types of crime. Histogram shows daily volums of crimes and what is the average number of incidents.  "
   ]
  },
  {
   "cell_type": "markdown",
   "metadata": {},
   "source": [
    "### source:\n",
    "### https://data.cityofnewyork.us/Public-Safety/NYPD-Complaint-Data-Current-Year-To-Date-/5uac-w243"
   ]
  },
  {
   "cell_type": "code",
   "execution_count": 16,
   "metadata": {},
   "outputs": [
    {
     "data": {
      "text/html": [
       "<div>\n",
       "<style scoped>\n",
       "    .dataframe tbody tr th:only-of-type {\n",
       "        vertical-align: middle;\n",
       "    }\n",
       "\n",
       "    .dataframe tbody tr th {\n",
       "        vertical-align: top;\n",
       "    }\n",
       "\n",
       "    .dataframe thead th {\n",
       "        text-align: right;\n",
       "    }\n",
       "</style>\n",
       "<table border=\"1\" class=\"dataframe\">\n",
       "  <thead>\n",
       "    <tr style=\"text-align: right;\">\n",
       "      <th></th>\n",
       "      <th>CMPLNT_NUM</th>\n",
       "      <th>ADDR_PCT_CD</th>\n",
       "      <th>BORO_NM</th>\n",
       "      <th>CMPLNT_FR_DT</th>\n",
       "      <th>CMPLNT_FR_TM</th>\n",
       "      <th>CMPLNT_TO_DT</th>\n",
       "      <th>CMPLNT_TO_TM</th>\n",
       "      <th>CRM_ATPT_CPTD_CD</th>\n",
       "      <th>HADEVELOPT</th>\n",
       "      <th>HOUSING_PSA</th>\n",
       "      <th>...</th>\n",
       "      <th>SUSP_SEX</th>\n",
       "      <th>TRANSIT_DISTRICT</th>\n",
       "      <th>VIC_AGE_GROUP</th>\n",
       "      <th>VIC_RACE</th>\n",
       "      <th>VIC_SEX</th>\n",
       "      <th>X_COORD_CD</th>\n",
       "      <th>Y_COORD_CD</th>\n",
       "      <th>Latitude</th>\n",
       "      <th>Longitude</th>\n",
       "      <th>Lat_Lon</th>\n",
       "    </tr>\n",
       "  </thead>\n",
       "  <tbody>\n",
       "    <tr>\n",
       "      <td>0</td>\n",
       "      <td>314773184</td>\n",
       "      <td>48</td>\n",
       "      <td>BRONX</td>\n",
       "      <td>12/31/2019</td>\n",
       "      <td>18:00:00</td>\n",
       "      <td>NaN</td>\n",
       "      <td>NaN</td>\n",
       "      <td>COMPLETED</td>\n",
       "      <td>NaN</td>\n",
       "      <td>NaN</td>\n",
       "      <td>...</td>\n",
       "      <td>U</td>\n",
       "      <td>NaN</td>\n",
       "      <td>45-64</td>\n",
       "      <td>WHITE HISPANIC</td>\n",
       "      <td>F</td>\n",
       "      <td>1016990</td>\n",
       "      <td>244612</td>\n",
       "      <td>40.838026</td>\n",
       "      <td>-73.881681</td>\n",
       "      <td>(40.838026269000075, -73.88168118799997)</td>\n",
       "    </tr>\n",
       "    <tr>\n",
       "      <td>1</td>\n",
       "      <td>289837961</td>\n",
       "      <td>25</td>\n",
       "      <td>MANHATTAN</td>\n",
       "      <td>12/30/2019</td>\n",
       "      <td>20:30:00</td>\n",
       "      <td>12/31/2019</td>\n",
       "      <td>10:00:00</td>\n",
       "      <td>COMPLETED</td>\n",
       "      <td>NaN</td>\n",
       "      <td>NaN</td>\n",
       "      <td>...</td>\n",
       "      <td>NaN</td>\n",
       "      <td>NaN</td>\n",
       "      <td>25-44</td>\n",
       "      <td>WHITE HISPANIC</td>\n",
       "      <td>F</td>\n",
       "      <td>999296</td>\n",
       "      <td>230862</td>\n",
       "      <td>40.800334</td>\n",
       "      <td>-73.945657</td>\n",
       "      <td>(40.800334261000046, -73.94565697199994)</td>\n",
       "    </tr>\n",
       "  </tbody>\n",
       "</table>\n",
       "<p>2 rows × 35 columns</p>\n",
       "</div>"
      ],
      "text/plain": [
       "   CMPLNT_NUM  ADDR_PCT_CD    BORO_NM CMPLNT_FR_DT CMPLNT_FR_TM CMPLNT_TO_DT  \\\n",
       "0   314773184           48      BRONX   12/31/2019     18:00:00          NaN   \n",
       "1   289837961           25  MANHATTAN   12/30/2019     20:30:00   12/31/2019   \n",
       "\n",
       "  CMPLNT_TO_TM CRM_ATPT_CPTD_CD HADEVELOPT  HOUSING_PSA  ...  SUSP_SEX  \\\n",
       "0          NaN        COMPLETED        NaN          NaN  ...         U   \n",
       "1     10:00:00        COMPLETED        NaN          NaN  ...       NaN   \n",
       "\n",
       "  TRANSIT_DISTRICT  VIC_AGE_GROUP        VIC_RACE VIC_SEX X_COORD_CD  \\\n",
       "0              NaN          45-64  WHITE HISPANIC       F    1016990   \n",
       "1              NaN          25-44  WHITE HISPANIC       F     999296   \n",
       "\n",
       "  Y_COORD_CD   Latitude  Longitude                                   Lat_Lon  \n",
       "0     244612  40.838026 -73.881681  (40.838026269000075, -73.88168118799997)  \n",
       "1     230862  40.800334 -73.945657  (40.800334261000046, -73.94565697199994)  \n",
       "\n",
       "[2 rows x 35 columns]"
      ]
     },
     "execution_count": 16,
     "metadata": {},
     "output_type": "execute_result"
    }
   ],
   "source": [
    "#upload csv file from nycopendata\n",
    "dt=pd.read_csv(r\"C:\\Users\\Maryla\\Desktop\\4400\\PROJECT\\NYPD_Complaint_Data_Current__Year_To_Date_.csv\")\n",
    "dt.head(2)"
   ]
  },
  {
   "cell_type": "code",
   "execution_count": 3,
   "metadata": {},
   "outputs": [],
   "source": [
    "#remove all data that is not for 2019 year\n",
    "dt[\"year\"]=dt.apply(lambda row: row.CMPLNT_FR_DT[6:10], axis=1)\n",
    "dt[\"year\"]=dt[\"year\"].astype(str)\n",
    "dt.drop(dt[dt[\"year\"]!=\"2019\"].index, inplace=True)"
   ]
  },
  {
   "cell_type": "code",
   "execution_count": 4,
   "metadata": {},
   "outputs": [],
   "source": [
    "#get daily number of complaints for histogram\n",
    "dailycrimes=dt.groupby(\"CMPLNT_FR_DT\").agg({\"CMPLNT_NUM\":\"count\"},axis=1)"
   ]
  },
  {
   "cell_type": "code",
   "execution_count": 5,
   "metadata": {},
   "outputs": [
    {
     "name": "stdout",
     "output_type": "stream",
     "text": [
      "[1999 1236 1255 1350 1156 1039 1144 1184 1191 1230]\n"
     ]
    }
   ],
   "source": [
    "#create array to use in histogram\n",
    "dailycrimes_arr=np.array(dailycrimes[\"CMPLNT_NUM\"])\n",
    "print(dailycrimes_arr[0:10])"
   ]
  },
  {
   "cell_type": "code",
   "execution_count": 6,
   "metadata": {},
   "outputs": [
    {
     "data": {
      "text/html": [
       "<div>\n",
       "<style scoped>\n",
       "    .dataframe tbody tr th:only-of-type {\n",
       "        vertical-align: middle;\n",
       "    }\n",
       "\n",
       "    .dataframe tbody tr th {\n",
       "        vertical-align: top;\n",
       "    }\n",
       "\n",
       "    .dataframe thead th {\n",
       "        text-align: right;\n",
       "    }\n",
       "</style>\n",
       "<table border=\"1\" class=\"dataframe\">\n",
       "  <thead>\n",
       "    <tr style=\"text-align: right;\">\n",
       "      <th></th>\n",
       "      <th>CMPLNT_NUM</th>\n",
       "      <th>ADDR_PCT_CD</th>\n",
       "      <th>BORO_NM</th>\n",
       "      <th>CMPLNT_FR_DT</th>\n",
       "      <th>CMPLNT_FR_TM</th>\n",
       "      <th>CMPLNT_TO_DT</th>\n",
       "      <th>CMPLNT_TO_TM</th>\n",
       "      <th>CRM_ATPT_CPTD_CD</th>\n",
       "      <th>HADEVELOPT</th>\n",
       "      <th>HOUSING_PSA</th>\n",
       "      <th>...</th>\n",
       "      <th>VIC_AGE_GROUP</th>\n",
       "      <th>VIC_RACE</th>\n",
       "      <th>VIC_SEX</th>\n",
       "      <th>X_COORD_CD</th>\n",
       "      <th>Y_COORD_CD</th>\n",
       "      <th>Latitude</th>\n",
       "      <th>Longitude</th>\n",
       "      <th>Lat_Lon</th>\n",
       "      <th>year</th>\n",
       "      <th>Months</th>\n",
       "    </tr>\n",
       "  </thead>\n",
       "  <tbody>\n",
       "    <tr>\n",
       "      <td>0</td>\n",
       "      <td>314773184</td>\n",
       "      <td>48</td>\n",
       "      <td>BRONX</td>\n",
       "      <td>12/31/2019</td>\n",
       "      <td>18:00:00</td>\n",
       "      <td>NaN</td>\n",
       "      <td>NaN</td>\n",
       "      <td>COMPLETED</td>\n",
       "      <td>NaN</td>\n",
       "      <td>NaN</td>\n",
       "      <td>...</td>\n",
       "      <td>45-64</td>\n",
       "      <td>WHITE HISPANIC</td>\n",
       "      <td>F</td>\n",
       "      <td>1016990</td>\n",
       "      <td>244612</td>\n",
       "      <td>40.838026</td>\n",
       "      <td>-73.881681</td>\n",
       "      <td>(40.838026269000075, -73.88168118799997)</td>\n",
       "      <td>2019</td>\n",
       "      <td>12</td>\n",
       "    </tr>\n",
       "    <tr>\n",
       "      <td>1</td>\n",
       "      <td>289837961</td>\n",
       "      <td>25</td>\n",
       "      <td>MANHATTAN</td>\n",
       "      <td>12/30/2019</td>\n",
       "      <td>20:30:00</td>\n",
       "      <td>12/31/2019</td>\n",
       "      <td>10:00:00</td>\n",
       "      <td>COMPLETED</td>\n",
       "      <td>NaN</td>\n",
       "      <td>NaN</td>\n",
       "      <td>...</td>\n",
       "      <td>25-44</td>\n",
       "      <td>WHITE HISPANIC</td>\n",
       "      <td>F</td>\n",
       "      <td>999296</td>\n",
       "      <td>230862</td>\n",
       "      <td>40.800334</td>\n",
       "      <td>-73.945657</td>\n",
       "      <td>(40.800334261000046, -73.94565697199994)</td>\n",
       "      <td>2019</td>\n",
       "      <td>12</td>\n",
       "    </tr>\n",
       "  </tbody>\n",
       "</table>\n",
       "<p>2 rows × 37 columns</p>\n",
       "</div>"
      ],
      "text/plain": [
       "   CMPLNT_NUM  ADDR_PCT_CD    BORO_NM CMPLNT_FR_DT CMPLNT_FR_TM CMPLNT_TO_DT  \\\n",
       "0   314773184           48      BRONX   12/31/2019     18:00:00          NaN   \n",
       "1   289837961           25  MANHATTAN   12/30/2019     20:30:00   12/31/2019   \n",
       "\n",
       "  CMPLNT_TO_TM CRM_ATPT_CPTD_CD HADEVELOPT  HOUSING_PSA  ...  VIC_AGE_GROUP  \\\n",
       "0          NaN        COMPLETED        NaN          NaN  ...          45-64   \n",
       "1     10:00:00        COMPLETED        NaN          NaN  ...          25-44   \n",
       "\n",
       "         VIC_RACE  VIC_SEX X_COORD_CD Y_COORD_CD   Latitude  Longitude  \\\n",
       "0  WHITE HISPANIC        F    1016990     244612  40.838026 -73.881681   \n",
       "1  WHITE HISPANIC        F     999296     230862  40.800334 -73.945657   \n",
       "\n",
       "                                    Lat_Lon  year Months  \n",
       "0  (40.838026269000075, -73.88168118799997)  2019     12  \n",
       "1  (40.800334261000046, -73.94565697199994)  2019     12  \n",
       "\n",
       "[2 rows x 37 columns]"
      ]
     },
     "execution_count": 6,
     "metadata": {},
     "output_type": "execute_result"
    }
   ],
   "source": [
    "#create new column called months to aggregate by month and year\n",
    "dt[\"Months\"]=dt.apply(lambda row: row.CMPLNT_FR_DT[0:2], axis =1)\n",
    "dt.head(2)"
   ]
  },
  {
   "cell_type": "code",
   "execution_count": 7,
   "metadata": {},
   "outputs": [],
   "source": [
    "#aggregate by month to get number of complaints by month\n",
    "number_of_compaints=dt.groupby(\"Months\").agg({\"CMPLNT_NUM\":\"count\"},axis=1)"
   ]
  },
  {
   "cell_type": "code",
   "execution_count": 8,
   "metadata": {},
   "outputs": [
    {
     "name": "stdout",
     "output_type": "stream",
     "text": [
      "['01' '02' '03' '04' '05' '06' '07' '08' '09' '10' '11' '12']\n",
      "[35843 31770 36284 36247 40022 39708 42045 40650 39878 39165 35981 33383]\n"
     ]
    }
   ],
   "source": [
    "#create arrays\n",
    "compl =np.array(number_of_compaints[\"CMPLNT_NUM\"])\n",
    "months=np.array(number_of_compaints.index)\n",
    "print (months)\n",
    "print (compl)"
   ]
  },
  {
   "cell_type": "code",
   "execution_count": 9,
   "metadata": {},
   "outputs": [
    {
     "data": {
      "text/html": [
       "<div>\n",
       "<style scoped>\n",
       "    .dataframe tbody tr th:only-of-type {\n",
       "        vertical-align: middle;\n",
       "    }\n",
       "\n",
       "    .dataframe tbody tr th {\n",
       "        vertical-align: top;\n",
       "    }\n",
       "\n",
       "    .dataframe thead th {\n",
       "        text-align: right;\n",
       "    }\n",
       "</style>\n",
       "<table border=\"1\" class=\"dataframe\">\n",
       "  <thead>\n",
       "    <tr style=\"text-align: right;\">\n",
       "      <th></th>\n",
       "      <th>CMPLNT_NUM</th>\n",
       "    </tr>\n",
       "    <tr>\n",
       "      <th>LAW_CAT_CD</th>\n",
       "      <th></th>\n",
       "    </tr>\n",
       "  </thead>\n",
       "  <tbody>\n",
       "    <tr>\n",
       "      <td>FELONY</td>\n",
       "      <td>137569</td>\n",
       "    </tr>\n",
       "    <tr>\n",
       "      <td>MISDEMEANOR</td>\n",
       "      <td>241775</td>\n",
       "    </tr>\n",
       "    <tr>\n",
       "      <td>VIOLATION</td>\n",
       "      <td>71632</td>\n",
       "    </tr>\n",
       "  </tbody>\n",
       "</table>\n",
       "</div>"
      ],
      "text/plain": [
       "             CMPLNT_NUM\n",
       "LAW_CAT_CD             \n",
       "FELONY           137569\n",
       "MISDEMEANOR      241775\n",
       "VIOLATION         71632"
      ]
     },
     "execution_count": 9,
     "metadata": {},
     "output_type": "execute_result"
    }
   ],
   "source": [
    "#aggregate by type of crime\n",
    "types_of_crimes=dt.groupby(\"LAW_CAT_CD\").agg({\"CMPLNT_NUM\":\"count\"},axis=1)\n",
    "types_of_crimes"
   ]
  },
  {
   "cell_type": "code",
   "execution_count": 10,
   "metadata": {},
   "outputs": [
    {
     "name": "stdout",
     "output_type": "stream",
     "text": [
      "[137569 241775  71632]\n",
      "['FELONY' 'MISDEMEANOR' 'VIOLATION']\n"
     ]
    }
   ],
   "source": [
    "#create array for type of crime - used in pie chart\n",
    "types_crime_arr=np.array(types_of_crimes[\"CMPLNT_NUM\"])\n",
    "crime_name=np.array(types_of_crimes.index)\n",
    "print (types_crime_arr)\n",
    "print (crime_name)"
   ]
  },
  {
   "cell_type": "code",
   "execution_count": 11,
   "metadata": {},
   "outputs": [
    {
     "data": {
      "text/plain": [
       "array(['WHITE HISPANIC', 'WHITE', 'UNKNOWN', 'BLACK',\n",
       "       'ASIAN / PACIFIC ISLANDER', 'BLACK HISPANIC',\n",
       "       'AMERICAN INDIAN/ALASKAN NATIVE', nan], dtype=object)"
      ]
     },
     "execution_count": 11,
     "metadata": {},
     "output_type": "execute_result"
    }
   ],
   "source": [
    "dt[\"VIC_RACE\"].unique()"
   ]
  },
  {
   "cell_type": "code",
   "execution_count": 12,
   "metadata": {},
   "outputs": [
    {
     "data": {
      "text/html": [
       "<div>\n",
       "<style scoped>\n",
       "    .dataframe tbody tr th:only-of-type {\n",
       "        vertical-align: middle;\n",
       "    }\n",
       "\n",
       "    .dataframe tbody tr th {\n",
       "        vertical-align: top;\n",
       "    }\n",
       "\n",
       "    .dataframe thead th {\n",
       "        text-align: right;\n",
       "    }\n",
       "</style>\n",
       "<table border=\"1\" class=\"dataframe\">\n",
       "  <thead>\n",
       "    <tr style=\"text-align: right;\">\n",
       "      <th></th>\n",
       "      <th>CMPLNT_NUM</th>\n",
       "    </tr>\n",
       "    <tr>\n",
       "      <th>VIC_RACE</th>\n",
       "      <th></th>\n",
       "    </tr>\n",
       "  </thead>\n",
       "  <tbody>\n",
       "    <tr>\n",
       "      <td>AMERICAN INDIAN/ALASKAN NATIVE</td>\n",
       "      <td>2632</td>\n",
       "    </tr>\n",
       "    <tr>\n",
       "      <td>ASIAN / PACIFIC ISLANDER</td>\n",
       "      <td>33968</td>\n",
       "    </tr>\n",
       "    <tr>\n",
       "      <td>BLACK</td>\n",
       "      <td>113960</td>\n",
       "    </tr>\n",
       "    <tr>\n",
       "      <td>BLACK HISPANIC</td>\n",
       "      <td>18526</td>\n",
       "    </tr>\n",
       "    <tr>\n",
       "      <td>WHITE</td>\n",
       "      <td>70428</td>\n",
       "    </tr>\n",
       "    <tr>\n",
       "      <td>WHITE HISPANIC</td>\n",
       "      <td>77877</td>\n",
       "    </tr>\n",
       "  </tbody>\n",
       "</table>\n",
       "</div>"
      ],
      "text/plain": [
       "                                CMPLNT_NUM\n",
       "VIC_RACE                                  \n",
       "AMERICAN INDIAN/ALASKAN NATIVE        2632\n",
       "ASIAN / PACIFIC ISLANDER             33968\n",
       "BLACK                               113960\n",
       "BLACK HISPANIC                       18526\n",
       "WHITE                                70428\n",
       "WHITE HISPANIC                       77877"
      ]
     },
     "execution_count": 12,
     "metadata": {},
     "output_type": "execute_result"
    }
   ],
   "source": [
    "#clean up\n",
    "dt.dropna(subset=[\"VIC_RACE\"])\n",
    "dt.drop(dt[dt[\"VIC_RACE\"]==\"UNKNOWN\"].index, inplace = True)\n",
    "#aggregate by victim race\n",
    "vic_race=dt.groupby(\"VIC_RACE\").agg({\"CMPLNT_NUM\":\"count\"},axis=1)\n",
    "vic_race"
   ]
  },
  {
   "cell_type": "code",
   "execution_count": 13,
   "metadata": {},
   "outputs": [
    {
     "name": "stdout",
     "output_type": "stream",
     "text": [
      "[  2632  33968 113960  18526  70428  77877]\n",
      "['AMER/INDIAN' 'ASIAN' 'BLACK' 'BLACK/HISP' 'WHITE' 'WHITE/HISP']\n"
     ]
    }
   ],
   "source": [
    "#create arrays\n",
    "vic_race_arr=np.array(vic_race[\"CMPLNT_NUM\"])\n",
    "race_name=np.array(vic_race.index)\n",
    "#names are to long for display so need to make them shorter\n",
    "race_name=np.array(['AMER/INDIAN' ,'ASIAN', 'BLACK',\n",
    " 'BLACK/HISP' ,'WHITE', 'WHITE/HISP'])\n",
    "print (vic_race_arr)\n",
    "print (race_name)"
   ]
  },
  {
   "cell_type": "code",
   "execution_count": 21,
   "metadata": {},
   "outputs": [
    {
     "data": {
      "text/plain": [
       "Text(02, 32000, '   February has the lowest crime rate')"
      ]
     },
     "execution_count": 21,
     "metadata": {},
     "output_type": "execute_result"
    },
    {
     "data": {
      "text/plain": [
       "<Figure size 432x288 with 0 Axes>"
      ]
     },
     "metadata": {},
     "output_type": "display_data"
    },
    {
     "data": {
      "image/png": "[encoded data removed]",
      "text/plain": [
       "<Figure size 1440x720 with 4 Axes>"
      ]
     },
     "metadata": {
      "needs_background": "light"
     },
     "output_type": "display_data"
    }
   ],
   "source": [
    "fig = plt.figure()\n",
    "fig, axs = plt.subplots(2, 2,figsize=(20,10))\n",
    "fig.suptitle(\"Crime in NYC in 2019 by month,type of crime and victim race\",fontsize=22, color=\"b\")\n",
    "colors=[\"g\",\"b\",\"r\",\"b\",\"b\",\"b\"]\n",
    "\n",
    "\n",
    "axs[0, 0].hist(dailycrimes_arr, bins=15, color='g')\n",
    "axs[0, 0].set_title('Histogram-based on daily volume of crimes',fontsize=16)\n",
    "\n",
    "axs[0, 1].pie(types_crime_arr, labels=crime_name, autopct='%1.1f%%',explode=(0,0,.2))\n",
    "axs[0, 1].set_title('Types of crime, with violations being the smallest percentage',fontsize=16)\n",
    "\n",
    "\n",
    "axs[1, 0].bar(race_name, vic_race_arr,color=colors)\n",
    "axs[1, 0].set_title('Volume of crimes by victim race',fontsize=16)\n",
    "axs[1, 0].set(xlabel=\"RACE\", ylabel=\"Number of crimes \")\n",
    "\n",
    "axs[1, 1].plot(months,compl, 'b-')\n",
    "axs[1, 1].set_title('Increases and decreses in crimes throughout the year',fontsize=16)\n",
    "axs[1, 1].set(xlabel=\"MONTHS\", ylabel=\"Number of crimes\")\n",
    "axs[1,1].text(\"07\", 42000, \"   July has the higest crime rate\",ha='left',fontsize=10,color=\"r\")\n",
    "axs[1,1].text(\"02\", 32000, \"   February has the lowest crime rate\",ha='left',fontsize=10,color=\"g\")"
   ]
  },
  {
   "cell_type": "code",
   "execution_count": null,
   "metadata": {},
   "outputs": [],
   "source": []
  }
 ],
 "metadata": {
  "kernelspec": {
   "display_name": "Python 3",
   "language": "python",
   "name": "python3"
  },
  "language_info": {
   "codemirror_mode": {
    "name": "ipython",
    "version": 3
   },
   "file_extension": ".py",
   "mimetype": "text/x-python",
   "name": "python",
   "nbconvert_exporter": "python",
   "pygments_lexer": "ipython3",
   "version": "3.7.4"
  }
 },
 "nbformat": 4,
 "nbformat_minor": 2
}
