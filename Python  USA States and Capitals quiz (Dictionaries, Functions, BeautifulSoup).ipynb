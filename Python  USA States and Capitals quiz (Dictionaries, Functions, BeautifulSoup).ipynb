{
 "cells": [
  {
   "cell_type": "code",
   "execution_count": 25,
   "metadata": {},
   "outputs": [],
   "source": [
    "import pandas as pd\n",
    "import numpy as np\n",
    "from bs4 import BeautifulSoup\n",
    "import requests"
   ]
  },
  {
   "cell_type": "markdown",
   "metadata": {},
   "source": [
    "### Getting data"
   ]
  },
  {
   "cell_type": "code",
   "execution_count": 26,
   "metadata": {},
   "outputs": [],
   "source": [
    "web=requests.get(\"https://www.britannica.com/topic/list-of-state-capitals-in-the-United-States-2119210\")"
   ]
  },
  {
   "cell_type": "code",
   "execution_count": 27,
   "metadata": {},
   "outputs": [
    {
     "data": {
      "text/plain": [
       "<Response [200]>"
      ]
     },
     "execution_count": 27,
     "metadata": {},
     "output_type": "execute_result"
    }
   ],
   "source": [
    "web"
   ]
  },
  {
   "cell_type": "code",
   "execution_count": 28,
   "metadata": {},
   "outputs": [],
   "source": [
    "soup=BeautifulSoup(web.content, \"html.parser\")\n",
    "table=soup.find(\"table\")"
   ]
  },
  {
   "cell_type": "code",
   "execution_count": 29,
   "metadata": {},
   "outputs": [],
   "source": [
    "table_row=table.find_all(\"tr\")\n"
   ]
  },
  {
   "cell_type": "code",
   "execution_count": 30,
   "metadata": {},
   "outputs": [
    {
     "data": {
      "text/plain": [
       "[<tr><th>state</th><th>capital</th><th>population of capital: census</th><th>population of capital: estimated</th></tr>,\n",
       " <tr><td><a class=\"md-crosslink\" href=\"https://www.britannica.com/place/Alabama-state\">Alabama</a></td><td><a class=\"md-crosslink\" href=\"https://www.britannica.com/place/Montgomery-Alabama\">Montgomery</a></td><td>(2010) 205,764</td><td>(2018 est.) 198,218</td></tr>,\n",
       " <tr><td><a class=\"md-crosslink\" href=\"https://www.britannica.com/place/Alaska\">Alaska</a></td><td><a class=\"md-crosslink\" href=\"https://www.britannica.com/place/Juneau\">Juneau</a></td><td>(2010) 31,275</td><td>(2018 est.) 32,113</td></tr>,\n",
       " <tr><td><a class=\"md-crosslink\" href=\"https://www.britannica.com/place/Arizona-state\">Arizona</a></td><td><a class=\"md-crosslink\" href=\"https://www.britannica.com/place/Phoenix-Arizona\">Phoenix</a></td><td>(2010) 1,445,632</td><td>(2018 est.) 1,660,272</td></tr>,\n",
       " <tr><td><a class=\"md-crosslink\" href=\"https://www.britannica.com/place/Arkansas-state\">Arkansas</a></td><td><a class=\"md-crosslink\" href=\"https://www.britannica.com/place/Little-Rock\">Little Rock</a></td><td>(2010) 193,524</td><td>(2018 est.) 197,881</td></tr>,\n",
       " <tr><td><a class=\"md-crosslink\" href=\"https://www.britannica.com/place/California-state\">California</a></td><td><a class=\"md-crosslink\" href=\"https://www.britannica.com/place/Sacramento-California\">Sacramento</a></td><td>(2010) 466,488</td><td>(2018 est.) 508,529</td></tr>,\n",
       " <tr><td><a class=\"md-crosslink\" href=\"https://www.britannica.com/place/Colorado-state\">Colorado</a></td><td><a class=\"md-crosslink\" href=\"https://www.britannica.com/place/Denver\">Denver</a></td><td>(2010) 600,158</td><td>(2018 est.) 716,492</td></tr>,\n",
       " <tr><td><a class=\"md-crosslink\" href=\"https://www.britannica.com/place/Connecticut\">Connecticut</a></td><td><a class=\"md-crosslink\" href=\"https://www.britannica.com/place/Hartford-Connecticut\">Hartford</a></td><td>(2010) 124,775</td><td>(2018 est.) 122,587</td></tr>,\n",
       " <tr><td><a class=\"md-crosslink\" href=\"https://www.britannica.com/place/Delaware-state\">Delaware</a></td><td><a class=\"md-crosslink\" href=\"https://www.britannica.com/place/Dover-Delaware\">Dover</a></td><td>(2010) 26,047</td><td>(2018 est.) 38,079</td></tr>,\n",
       " <tr><td><a class=\"md-crosslink\" href=\"https://www.britannica.com/place/Florida\">Florida</a></td><td><a class=\"md-crosslink\" href=\"https://www.britannica.com/place/Tallahassee\">Tallahassee</a></td><td>(2010) 181,376</td><td>(2018 est.) 193,551</td></tr>,\n",
       " <tr><td><a class=\"md-crosslink\" href=\"https://www.britannica.com/place/Georgia-state\">Georgia</a></td><td><a class=\"md-crosslink\" href=\"https://www.britannica.com/place/Atlanta-Georgia\">Atlanta</a></td><td>(2010) 420,003</td><td>(2018 est.) 498,044</td></tr>,\n",
       " <tr><td><a class=\"md-crosslink\" href=\"https://www.britannica.com/place/Hawaii-state\">Hawaii</a></td><td><a class=\"md-crosslink\" href=\"https://www.britannica.com/place/Honolulu\">Honolulu</a></td><td>(2010) 337,256</td><td>(2018 est.) 347,397</td></tr>,\n",
       " <tr><td><a class=\"md-crosslink\" href=\"https://www.britannica.com/place/Idaho\">Idaho</a></td><td><a class=\"md-crosslink\" href=\"https://www.britannica.com/place/Boise-Idaho\">Boise</a></td><td>(2010) 206,100</td><td>(2018 est.) 228,790</td></tr>,\n",
       " <tr><td><a class=\"md-crosslink\" href=\"https://www.britannica.com/place/Illinois-state\">Illinois</a></td><td><a class=\"md-crosslink\" href=\"https://www.britannica.com/place/Springfield-Illinois\">Springfield</a></td><td>(2010) 116,250</td><td>(2018 est.) 114,694</td></tr>,\n",
       " <tr><td><a class=\"md-crosslink\" href=\"https://www.britannica.com/place/Indiana-state\">Indiana</a></td><td><a class=\"md-crosslink\" href=\"https://www.britannica.com/place/Indianapolis-Indiana\">Indianapolis</a></td><td>(2010) 820,445</td><td>(2018 est.) 867,125</td></tr>,\n",
       " <tr><td><a class=\"md-crosslink\" href=\"https://www.britannica.com/place/Iowa-state\">Iowa</a></td><td><a class=\"md-crosslink\" href=\"https://www.britannica.com/place/Des-Moines\">Des Moines</a></td><td>(2010) 203,433</td><td>(2018 est.) 216,853</td></tr>,\n",
       " <tr><td><a class=\"md-crosslink\" href=\"https://www.britannica.com/place/Kansas\">Kansas</a></td><td><a class=\"md-crosslink\" href=\"https://www.britannica.com/place/Topeka\">Topeka</a></td><td>(2010) 127,473</td><td>(2018 est.) 125,904</td></tr>,\n",
       " <tr><td><a class=\"md-crosslink\" href=\"https://www.britannica.com/place/Kentucky\">Kentucky</a></td><td><a class=\"md-crosslink\" href=\"https://www.britannica.com/place/Frankfort-Kentucky\">Frankfort</a></td><td>(2010) 25,527</td><td>(2018 est.) 27,679</td></tr>,\n",
       " <tr><td><a class=\"md-crosslink\" href=\"https://www.britannica.com/place/Louisiana-state\">Louisiana</a></td><td><a class=\"md-crosslink\" href=\"https://www.britannica.com/place/Baton-Rouge\">Baton Rouge</a></td><td>(2010) 229,493</td><td>(2018 est.) 221,599</td></tr>,\n",
       " <tr><td><a class=\"md-crosslink\" href=\"https://www.britannica.com/place/Maine-state\">Maine</a></td><td><a class=\"md-crosslink\" href=\"https://www.britannica.com/place/Augusta-Maine\">Augusta</a></td><td>(2010) 19,136</td><td>(2018 est.) 18,681</td></tr>,\n",
       " <tr><td><a class=\"md-crosslink\" href=\"https://www.britannica.com/place/Maryland-state\">Maryland</a></td><td><a class=\"md-crosslink\" href=\"https://www.britannica.com/place/Annapolis\">Annapolis</a></td><td>(2010) 38,394</td><td>(2018 est.) 39,174</td></tr>,\n",
       " <tr><td><a class=\"md-crosslink\" href=\"https://www.britannica.com/place/Massachusetts\">Massachusetts</a></td><td><a class=\"md-crosslink\" href=\"https://www.britannica.com/place/Boston\">Boston</a></td><td>(2010) 617,594</td><td>(2018 est.) 694,583</td></tr>,\n",
       " <tr><td><a class=\"md-crosslink\" href=\"https://www.britannica.com/place/Michigan\">Michigan</a></td><td><a class=\"md-crosslink\" href=\"https://www.britannica.com/place/Lansing-Michigan\">Lansing</a></td><td>(2010) 114,297</td><td>(2018 est.) 118,427</td></tr>,\n",
       " <tr><td><a class=\"md-crosslink\" href=\"https://www.britannica.com/place/Minnesota\">Minnesota</a></td><td><a class=\"md-crosslink\" href=\"https://www.britannica.com/place/Saint-Paul-Minnesota\">Saint Paul</a></td><td>(2010) 285,068</td><td>(2018 est.) 307,695</td></tr>,\n",
       " <tr><td><a class=\"md-crosslink\" href=\"https://www.britannica.com/place/Mississippi-state\">Mississippi</a></td><td><a class=\"md-crosslink\" href=\"https://www.britannica.com/place/Jackson-Mississippi\">Jackson</a></td><td>(2010) 173,514</td><td>(2018 est.) 164,422</td></tr>,\n",
       " <tr><td><a class=\"md-crosslink\" href=\"https://www.britannica.com/place/Missouri-state\">Missouri</a></td><td><a class=\"md-crosslink\" href=\"https://www.britannica.com/place/Jefferson-City\">Jefferson City</a></td><td>(2010) 43,079</td><td>(2018 est.) 42,838</td></tr>,\n",
       " <tr><td><a class=\"md-crosslink\" href=\"https://www.britannica.com/place/Montana-state\">Montana</a></td><td><a class=\"md-crosslink\" href=\"https://www.britannica.com/place/Helena-Montana\">Helena</a></td><td>(2010) 28,190</td><td>(2018 est.) 32,315</td></tr>,\n",
       " <tr><td><a class=\"md-crosslink\" href=\"https://www.britannica.com/place/Nebraska-state\">Nebraska</a></td><td><a class=\"md-crosslink\" href=\"https://www.britannica.com/place/Lincoln-Nebraska\">Lincoln</a></td><td>(2010) 258,379</td><td>(2018 est.) 287,401</td></tr>,\n",
       " <tr><td><a class=\"md-crosslink\" href=\"https://www.britannica.com/place/Nevada-state\">Nevada</a></td><td><a class=\"md-crosslink\" href=\"https://www.britannica.com/place/Carson-City\">Carson City</a></td><td>(2010) 55,274</td><td>(2018 est.) 55,414</td></tr>,\n",
       " <tr><td><a class=\"md-crosslink\" href=\"https://www.britannica.com/place/New-Hampshire-state\">New Hampshire</a></td><td><a class=\"md-crosslink\" href=\"https://www.britannica.com/place/Concord-New-Hampshire\">Concord</a></td><td>(2010) 42,695</td><td>(2018 est.) 43,412</td></tr>,\n",
       " <tr><td><a class=\"md-crosslink\" href=\"https://www.britannica.com/place/New-Jersey\">New Jersey</a></td><td><a class=\"md-crosslink\" href=\"https://www.britannica.com/place/Trenton-New-Jersey\">Trenton</a></td><td>(2010) 84,913</td><td>(2018 est.) 83,974</td></tr>,\n",
       " <tr><td><a class=\"md-crosslink\" href=\"https://www.britannica.com/place/New-Mexico\">New Mexico</a></td><td><a class=\"md-crosslink\" href=\"https://www.britannica.com/place/Santa-Fe-New-Mexico\">Santa Fe</a></td><td>(2010) 67,947</td><td>(2018 est.) 84,612</td></tr>,\n",
       " <tr><td><a class=\"md-crosslink\" href=\"https://www.britannica.com/place/New-York-state\">New York</a></td><td><a class=\"md-crosslink\" href=\"https://www.britannica.com/place/Albany-New-York\">Albany</a></td><td>(2010) 97,856</td><td>(2018 est.) 97,279</td></tr>,\n",
       " <tr><td><a class=\"md-crosslink\" href=\"https://www.britannica.com/place/North-Carolina-state\">North Carolina</a></td><td><a class=\"md-crosslink\" href=\"https://www.britannica.com/place/Raleigh-North-Carolina\">Raleigh</a></td><td>(2010) 403,892</td><td>(2018 est.) 469,298</td></tr>,\n",
       " <tr><td><a class=\"md-crosslink\" href=\"https://www.britannica.com/place/North-Dakota\">North Dakota</a></td><td><a class=\"md-crosslink\" href=\"https://www.britannica.com/place/Bismarck-North-Dakota\">Bismarck</a></td><td>(2010) 61,272</td><td>(2018 est.) 73,112</td></tr>,\n",
       " <tr><td><a class=\"md-crosslink\" href=\"https://www.britannica.com/place/Ohio-state\">Ohio</a></td><td><a class=\"md-crosslink\" href=\"https://www.britannica.com/place/Columbus-Ohio\">Columbus</a></td><td>(2010) 787,033</td><td>(2018 est.) 892,533</td></tr>,\n",
       " <tr><td><a class=\"md-crosslink\" href=\"https://www.britannica.com/place/Oklahoma-state\">Oklahoma</a></td><td><a class=\"md-crosslink\" href=\"https://www.britannica.com/place/Oklahoma-City\">Oklahoma City</a></td><td>(2010) 579,999</td><td>(2018 est.) 649,021</td></tr>,\n",
       " <tr><td><a class=\"md-crosslink\" href=\"https://www.britannica.com/place/Oregon-state\">Oregon</a></td><td><a class=\"md-crosslink\" href=\"https://www.britannica.com/place/Salem-Oregon\">Salem</a></td><td>(2010) 154,637</td><td>(2018 est.) 173,442</td></tr>,\n",
       " <tr><td><a class=\"md-crosslink\" href=\"https://www.britannica.com/place/Pennsylvania-state\">Pennsylvania</a></td><td><a class=\"md-crosslink\" href=\"https://www.britannica.com/place/Harrisburg-Pennsylvania\">Harrisburg</a></td><td>(2010) 49,528</td><td>(2018 est.) 49,229</td></tr>,\n",
       " <tr><td><a class=\"md-crosslink\" href=\"https://www.britannica.com/place/Rhode-Island-state\">Rhode Island</a></td><td><a class=\"md-crosslink\" href=\"https://www.britannica.com/place/Providence-Rhode-Island\">Providence</a></td><td>(2010) 178,042</td><td>(2018 est.) 179,335</td></tr>,\n",
       " <tr><td><a class=\"md-crosslink\" href=\"https://www.britannica.com/place/South-Carolina\">South Carolina</a></td><td><a class=\"md-crosslink\" href=\"https://www.britannica.com/place/Columbia-South-Carolina\">Columbia</a></td><td>(2010) 129,272</td><td>(2018 est.) 133,451</td></tr>,\n",
       " <tr><td><a class=\"md-crosslink\" href=\"https://www.britannica.com/place/South-Dakota\">South Dakota</a></td><td><a class=\"md-crosslink\" href=\"https://www.britannica.com/place/Pierre-South-Dakota\">Pierre</a></td><td>(2010) 13,646</td><td>(2018 est.) 13,980</td></tr>,\n",
       " <tr><td><a class=\"md-crosslink\" href=\"https://www.britannica.com/place/Tennessee\">Tennessee</a></td><td><a class=\"md-crosslink\" href=\"https://www.britannica.com/place/Nashville-Tennessee\">Nashville</a></td><td>(2010) 601,222</td><td>(2018 est.) 669,053</td></tr>,\n",
       " <tr><td><a class=\"md-crosslink\" href=\"https://www.britannica.com/place/Texas-state\">Texas</a></td><td><a class=\"md-crosslink\" href=\"https://www.britannica.com/place/Austin-Texas\">Austin</a></td><td>(2010) 790,390</td><td>(2018 est.) 964,254</td></tr>,\n",
       " <tr><td><a class=\"md-crosslink\" href=\"https://www.britannica.com/place/Utah\">Utah</a></td><td><a class=\"md-crosslink\" href=\"https://www.britannica.com/place/Salt-Lake-City\">Salt Lake City</a></td><td>(2010) 186,440</td><td>(2018 est.) 200,591</td></tr>,\n",
       " <tr><td><a class=\"md-crosslink\" href=\"https://www.britannica.com/place/Vermont\">Vermont</a></td><td><a class=\"md-crosslink\" href=\"https://www.britannica.com/place/Montpelier-Vermont\">Montpelier</a></td><td>(2010) 7,855</td><td>(2018 est.) 7,436</td></tr>,\n",
       " <tr><td><a class=\"md-crosslink\" href=\"https://www.britannica.com/place/Virginia-state\">Virginia</a></td><td><a class=\"md-crosslink\" href=\"https://www.britannica.com/place/Richmond-Virginia\">Richmond</a></td><td>(2010) 204,214</td><td>(2018 est.) 228,783</td></tr>,\n",
       " <tr><td><a class=\"md-crosslink\" href=\"https://www.britannica.com/place/Washington-state\">Washington</a></td><td><a class=\"md-crosslink\" href=\"https://www.britannica.com/place/Olympia-Washington\">Olympia</a></td><td>(2010) 46,478</td><td>(2018 est.) 52,555</td></tr>,\n",
       " <tr><td><a class=\"md-crosslink\" href=\"https://www.britannica.com/place/West-Virginia\">West Virginia</a></td><td><a class=\"md-crosslink\" href=\"https://www.britannica.com/place/Charleston-West-Virginia\">Charleston</a></td><td>(2010) 51,400</td><td>(2018 est.) 47,215</td></tr>,\n",
       " <tr><td><a class=\"md-crosslink\" href=\"https://www.britannica.com/place/Wisconsin\">Wisconsin</a></td><td><a class=\"md-crosslink\" href=\"https://www.britannica.com/place/Madison-Wisconsin\">Madison</a></td><td>(2010) 233,209</td><td>(2017 est.) 255,214</td></tr>,\n",
       " <tr><td><a class=\"md-crosslink\" href=\"https://www.britannica.com/place/Wyoming-state\">Wyoming</a></td><td><a class=\"md-crosslink\" href=\"https://www.britannica.com/place/Cheyenne-Wyoming\">Cheyenne</a></td><td>(2010) 64,019</td><td>(2018 est.) 63,957</td></tr>]"
      ]
     },
     "execution_count": 30,
     "metadata": {},
     "output_type": "execute_result"
    }
   ],
   "source": [
    "table_row"
   ]
  },
  {
   "cell_type": "code",
   "execution_count": 31,
   "metadata": {},
   "outputs": [
    {
     "name": "stdout",
     "output_type": "stream",
     "text": [
      "{'state': 'capital', 'Alabama': 'Montgomery', 'Alaska': 'Juneau', 'Arizona': 'Phoenix', 'Arkansas': 'Little Rock', 'California': 'Sacramento', 'Colorado': 'Denver', 'Connecticut': 'Hartford', 'Delaware': 'Dover', 'Florida': 'Tallahassee', 'Georgia': 'Atlanta', 'Hawaii': 'Honolulu', 'Idaho': 'Boise', 'Illinois': 'Springfield', 'Indiana': 'Indianapolis', 'Iowa': 'Des Moines', 'Kansas': 'Topeka', 'Kentucky': 'Frankfort', 'Louisiana': 'Baton Rouge', 'Maine': 'Augusta', 'Maryland': 'Annapolis', 'Massachusetts': 'Boston', 'Michigan': 'Lansing', 'Minnesota': 'Saint Paul', 'Mississippi': 'Jackson', 'Missouri': 'Jefferson City', 'Montana': 'Helena', 'Nebraska': 'Lincoln', 'Nevada': 'Carson City', 'New Hampshire': 'Concord', 'New Jersey': 'Trenton', 'New Mexico': 'Santa Fe', 'New York': 'Albany', 'North Carolina': 'Raleigh', 'North Dakota': 'Bismarck', 'Ohio': 'Columbus', 'Oklahoma': 'Oklahoma City', 'Oregon': 'Salem', 'Pennsylvania': 'Harrisburg', 'Rhode Island': 'Providence', 'South Carolina': 'Columbia', 'South Dakota': 'Pierre', 'Tennessee': 'Nashville', 'Texas': 'Austin', 'Utah': 'Salt Lake City', 'Vermont': 'Montpelier', 'Virginia': 'Richmond', 'Washington': 'Olympia', 'West Virginia': 'Charleston', 'Wisconsin': 'Madison', 'Wyoming': 'Cheyenne'}\n"
     ]
    }
   ],
   "source": [
    "count=0\n",
    "state_capital=dict()\n",
    "for row in table_row:\n",
    "    if count<1:\n",
    "        td=row.find_all(\"th\")\n",
    "        header=[i.text for i in td]\n",
    "        state_capital[header[0]]=header[1]\n",
    "        count+=1\n",
    "       \n",
    "    else:\n",
    "        td=row.find_all(\"td\")\n",
    "        state=[x.text for x in td[0]]\n",
    "        capital=[x.text for x in td[1]]\n",
    "        state_capital[state[0]]=capital[0]\n",
    "        \n",
    "print(state_capital)\n",
    "            \n"
   ]
  },
  {
   "cell_type": "markdown",
   "metadata": {},
   "source": [
    "### Quiz"
   ]
  },
  {
   "cell_type": "code",
   "execution_count": 40,
   "metadata": {},
   "outputs": [
    {
     "name": "stdout",
     "output_type": "stream",
     "text": [
      "What is the capital of New York? Albany\n",
      "True Good job! You have now:  1  point(s.\n",
      "Would you like to play again? (Y/N)y\n",
      "What is the capital of New York? Albany\n",
      "True Good job! You have now:  2  point(s.\n",
      "Would you like to play again? (Y/N)y\n",
      "What is the capital of Georgia? Atlanta\n",
      "True Good job! You have now:  3  point(s.\n",
      "Would you like to play again? (Y/N)y\n",
      "What is the capital of Virginia? Richmond\n",
      "True Good job! You have now:  4  point(s.\n",
      "Would you like to play again? (Y/N)y\n",
      "What is the capital of Alabama? montgomery\n",
      "True Good job! You have now:  5  point(s.\n",
      "Would you like to play again? (Y/N)y\n",
      "What is the capital of Louisiana? baton rouge\n",
      "True Good job! You have now:  6  point(s.\n",
      "Would you like to play again? (Y/N)y\n",
      "What is the capital of North Dakota? bism\n",
      "Sorry, You are not correct.\n",
      "Would you like to play again? (Y/N)y\n",
      "What is the capital of Delaware? DOVER\n",
      "True Good job! You have now:  7  point(s.\n",
      "Would you like to play again? (Y/N)N\n",
      "Thanks for playing!\n"
     ]
    }
   ],
   "source": [
    "state_list = list(state_capital)\n",
    "\n",
    "\n",
    "import random\n",
    "def compare_answers(state, user_input_capital):\n",
    "    if state_capital[state]==user_input_capital:\n",
    "        return True\n",
    "    else:\n",
    "        return False\n",
    "    \n",
    "def random_state_generator():\n",
    "    state=state_list[random.randint(1,len(state_capital))]\n",
    "    #print(state_capital[state]) \n",
    "    return(state)\n",
    "\n",
    "def get_user_answer(state):\n",
    "    answer=input(\"What is the capital of \" + state+\"? \")\n",
    "    return answer.title()\n",
    "\n",
    "def end():\n",
    "    print(\"Thanks for playing!\")\n",
    "\n",
    "def play_again(point_count):\n",
    "    play_no_play=input(\"Would you like to play again? (Y/N)\")\n",
    "    if play_no_play.isalpha():\n",
    "        if play_no_play.upper()==\"YES\" or play_no_play.upper()==\"Y\":\n",
    "            play(point_count)\n",
    "        elif play_no_play.upper()==\"NO\" or play_no_play.upper()==\"N\":\n",
    "                end()\n",
    "        else:\n",
    "            print (\"Sorry, Your answers is not clear, please enter Y or N\")\n",
    "            play_again(point_count)\n",
    "    else:\n",
    "        print (\"Sorry, Your answers is not clear, please enter Y or N\")\n",
    "        play_again(point_count)\n",
    "        \n",
    "\n",
    "\n",
    "    \n",
    "def play(point_count):\n",
    "    state= random_state_generator()\n",
    "    user_input_capital=get_user_answer(state)\n",
    "    \n",
    "    result=compare_answers(state, user_input_capital)\n",
    "    \n",
    "    if result:\n",
    "        point_count+=1\n",
    "        print (result, \"Good job! You have now: \", point_count, \" point(s.\")\n",
    "        play_again(point_count)\n",
    "    else:\n",
    "        print(\"Sorry, You are not correct.\")\n",
    "        play_again(point_count)\n",
    "\n",
    "    \n",
    "    \n",
    "def main():\n",
    "    point_count=0\n",
    "    play(point_count)\n",
    "main()\n",
    "    "
   ]
  },
  {
   "cell_type": "code",
   "execution_count": null,
   "metadata": {},
   "outputs": [],
   "source": []
  }
 ],
 "metadata": {
  "kernelspec": {
   "display_name": "Python 3",
   "language": "python",
   "name": "python3"
  }
 },
 "nbformat": 4,
 "nbformat_minor": 2
}
