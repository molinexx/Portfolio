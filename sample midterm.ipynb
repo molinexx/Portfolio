{
 "cells": [
  {
   "cell_type": "code",
   "execution_count": 5,
   "metadata": {},
   "outputs": [
    {
     "name": "stdout",
     "output_type": "stream",
     "text": [
      "enter number : 10\n",
      "3025\n"
     ]
    }
   ],
   "source": [
    "#1.\tWrite code to get a number from the user and calculate the square of sum for 1 to that number. \n",
    "#For example, if user enters 10, the square of sum of the first ten natural numbers is, (1+2+3+….+10)2 = 552 = 3025. \n",
    "\n",
    "number=int(input(\"enter number : \"))\n",
    "n=1\n",
    "total=0\n",
    "while n<=number:\n",
    "    total+=n\n",
    "    n+=1\n",
    "    \n",
    "print (total*total)\n",
    "\n"
   ]
  },
  {
   "cell_type": "code",
   "execution_count": 10,
   "metadata": {},
   "outputs": [
    {
     "name": "stdout",
     "output_type": "stream",
     "text": [
      "enter closing price for first day: 34\n",
      "enter closing price for second day: 45\n",
      "24.44 % \n",
      "Do you want to continue:  Y/N y\n",
      "enter closing price for first day: 6\n",
      "enter closing price for second day: 8\n",
      "25.00 % \n",
      "Do you want to continue:  Y/N n\n"
     ]
    }
   ],
   "source": [
    "#2.\tThe user would like to calculate % daily change in stock price for a particular company. \n",
    "#Ask the user for the first day's closing price and the second day's closing price. Display the % daily change. \n",
    "#Ask the user if they need to go further and continue asking and displaying % daily change as long as they would like. \n",
    "\n",
    "nextOne= \"Y\"\n",
    "while nextOne==\"Y\" or nextOne ==\"Yes\":\n",
    "    firstDay=float(input(\"enter closing price for first day: \"))\n",
    "    secondDay=float(input(\"enter closing price for second day: \"))\n",
    "    x=((secondDay-firstDay)/secondDay)*100\n",
    "    print (\"%.2f %% \" % x)\n",
    "    nextOne=input(\"Do you want to continue:  Y/N \")\n",
    "    nextOne=nextOne.upper()\n"
   ]
  },
  {
   "cell_type": "code",
   "execution_count": 15,
   "metadata": {},
   "outputs": [
    {
     "name": "stdout",
     "output_type": "stream",
     "text": [
      "Enter first number: 3\n",
      "Enter second number: 4\n",
      "10\n",
      "5.0\n",
      "16.0\n",
      "8.0\n",
      "4.0\n",
      "2.0\n",
      "1.0\n",
      "2.0\n",
      "1.0\n",
      "first number was illiterating  7 times\n",
      "second number was illiterating  2 times\n"
     ]
    }
   ],
   "source": [
    "#3.\tAsk the user for two numbers. Generate and display the collatz sequence for both of these numbers. \n",
    "#Also display which sequence was longer with the number of items in that sequence. \n",
    "num1=int(input(\"Enter first number: \"))\n",
    "num2=int(input(\"Enter second number: \"))\n",
    "\n",
    "\n",
    "def collatz(num):\n",
    "    counter=0\n",
    "    m=2\n",
    "    while num !=1:\n",
    "        m=num%2\n",
    "        if m==1:\n",
    "            num=num*3+1\n",
    "            counter+=1\n",
    "        else:\n",
    "            num=num/2\n",
    "            counter+=1\n",
    "        print (num)\n",
    "    return counter\n",
    "\n",
    "counter1=collatz(num1)\n",
    "counter2=collatz(num2)\n",
    "\n",
    "print (\"first number was illiterating \",counter1, \"times\")\n",
    "print (\"second number was illiterating \",counter2, \"times\")\n",
    "\n",
    "\n",
    "\n"
   ]
  },
  {
   "cell_type": "code",
   "execution_count": 19,
   "metadata": {},
   "outputs": [
    {
     "name": "stdout",
     "output_type": "stream",
     "text": [
      "enter positive number: 67\n"
     ]
    }
   ],
   "source": [
    "#4.\tAsk the user for a number. Find the prime factors for that number\n",
    "\n",
    "number=int(input(\"enter positive number: \"))\n",
    "n=1\n",
    "factorial=True\n",
    "while n<number:\n",
    "    result=number%n\n",
    "    if result ==0 and n!=1:\n",
    "        print (n)\n",
    "    else:\n",
    "        factorial=False\n",
    "    n+=1"
   ]
  },
  {
   "cell_type": "code",
   "execution_count": 1,
   "metadata": {},
   "outputs": [
    {
     "name": "stdout",
     "output_type": "stream",
     "text": [
      "145\n",
      "40585\n",
      "number too big\n"
     ]
    }
   ],
   "source": [
    "#5.\t145 is a curious number, as 1! + 4! + 5! = 1 + 24 + 120 = 145. That is, the sum of the factorial of each of its \n",
    "#digits equals the number itself. Write code to display all numbers below 1000 for which this is true. \n",
    "\n",
    "def main():\n",
    "    n=3\n",
    "    while n<99999999:\n",
    "        lenght=len(str(n))\n",
    "        #print (\"n=\",n)\n",
    "        if lenght==1:\n",
    "            sumOfFactorials=takeOne(n)\n",
    "        elif lenght==2:\n",
    "            sumOfFactorials=takeTwo(n)\n",
    "        elif lenght==3:\n",
    "            sumOfFactorials=takeThree(n)\n",
    "        elif lenght==4:\n",
    "            sumOfFactorials=takeFour(n)\n",
    "        elif lenght==5:\n",
    "            sumOfFactorials=takeFive(n)\n",
    "        elif lenght==6:\n",
    "            sumOfFactorials=takeSix(n)\n",
    "        elif lenght==7:\n",
    "            sumOfFactorials=takeSeven(n)\n",
    "        else:\n",
    "            print(\"number too big\")\n",
    "            break\n",
    "            \n",
    "        if sumOfFactorials==n:\n",
    "            print (n)\n",
    "        n+=1\n",
    "        \n",
    "#1 digit\n",
    "def takeOne(numb):\n",
    "    n=1\n",
    "    m=1\n",
    "    while m<=numb:\n",
    "        n=n*m\n",
    "        m+=1        \n",
    "    return n\n",
    "\n",
    "#2 digit numbers\n",
    "def takeTwo(numb):\n",
    "    numb2=int(numb/10)\n",
    "    numb1=int(numb%10)   \n",
    "    return takeOne(numb2)+takeOne(numb1)\n",
    "\n",
    "#3 digit numbers\n",
    "def takeThree(numb):\n",
    "    numb3=int(numb/100)\n",
    "    numb2=int(numb/10)%10\n",
    "    numb1=int(numb%10)   \n",
    "    return takeOne(numb3)+takeOne(numb2)+takeOne(numb1)\n",
    "\n",
    "def takeFour(numb):\n",
    "    numb4=int(numb/1000)\n",
    "    numb3=int(numb/100)%10\n",
    "    numb2=int(numb/10)%10\n",
    "    numb1=int(numb%10)\n",
    "    return takeOne(numb4)+takeOne(numb3)+takeOne(numb2)+takeOne(numb1)\n",
    "\n",
    "def takeFive(numb):\n",
    "    numb5=int(numb/10000)\n",
    "    numb4=int(numb/1000)%10\n",
    "    numb3=int(numb/100)%10\n",
    "    numb2=int(numb/10)%10\n",
    "    numb1=int(numb%10)\n",
    "    return takeOne(numb5)+takeOne(numb4)+takeOne(numb3)+takeOne(numb2)+takeOne(numb1)\n",
    "\n",
    "def takeSix(numb):\n",
    "    numb6=int(numb/100000)\n",
    "    numb5=int(numb/10000)%10\n",
    "    numb4=int(numb/1000)%10\n",
    "    numb3=int(numb/100)%10\n",
    "    numb2=int(numb/10)%10\n",
    "    numb1=int(numb%10)\n",
    "    return takeOne(numb6)+takeOne(numb5)+takeOne(numb4)+takeOne(numb3)+takeOne(numb2)+takeOne(numb1)\n",
    "def takeSeven(numb):\n",
    "    numb7=int(numb/1000000)\n",
    "    numb6=int(numb/100000)%10\n",
    "    numb5=int(numb/10000)%10\n",
    "    numb4=int(numb/1000)%10\n",
    "    numb3=int(numb/100)%10\n",
    "    numb2=int(numb/10)%10\n",
    "    numb1=int(numb%10)\n",
    "    return takeOne(numb7)+takeOne(numb6)+takeOne(numb5)+takeOne(numb4)+takeOne(numb3)+takeOne(numb2)+takeOne(numb1)    \n",
    "     \n",
    "main()      "
   ]
  },
  {
   "cell_type": "code",
   "execution_count": 17,
   "metadata": {},
   "outputs": [
    {
     "name": "stdout",
     "output_type": "stream",
     "text": [
      "lenght= 6\n",
      "6\n",
      "5\n",
      "4\n",
      "3\n",
      "2\n",
      "1\n"
     ]
    }
   ],
   "source": [
    "numb=123456\n",
    "lenght=len(str(numb))\n",
    "numb6=int(numb/100000)\n",
    "numb5=int(numb/10000)%10\n",
    "numb4=int(numb/1000)%10\n",
    "numb3=int(numb/100)%10\n",
    "numb2=int(numb/10)%10\n",
    "numb1=int(numb%10)\n",
    "\n",
    "print (\"lenght=\",lenght)\n",
    "print(numb1)\n",
    "print(numb2)\n",
    "print(numb3)\n",
    "print(numb4)\n",
    "print(numb5)\n",
    "print(numb6)\n"
   ]
  },
  {
   "cell_type": "code",
   "execution_count": null,
   "metadata": {},
   "outputs": [],
   "source": []
  }
 ],
 "metadata": {
  "kernelspec": {
   "display_name": "Python 3",
   "language": "python",
   "name": "python3"
  },
  "language_info": {
   "codemirror_mode": {
    "name": "ipython",
    "version": 3
   },
   "file_extension": ".py",
   "mimetype": "text/x-python",
   "name": "python",
   "nbconvert_exporter": "python",
   "pygments_lexer": "ipython3",
   "version": "3.7.3"
  }
 },
 "nbformat": 4,
 "nbformat_minor": 2
}
