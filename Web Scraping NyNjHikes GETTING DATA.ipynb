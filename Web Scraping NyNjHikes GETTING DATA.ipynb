{
 "cells": [
  {
   "cell_type": "code",
   "execution_count": 1,
   "metadata": {},
   "outputs": [],
   "source": [
    "import requests\n",
    "from bs4 import BeautifulSoup\n",
    "import pandas as pd"
   ]
  },
  {
   "cell_type": "code",
   "execution_count": 2,
   "metadata": {},
   "outputs": [
    {
     "data": {
      "text/plain": [
       "<Response [200]>"
      ]
     },
     "execution_count": 2,
     "metadata": {},
     "output_type": "execute_result"
    }
   ],
   "source": [
    "web=requests.get('https://nynjtc.org/view/hike_ny')\n",
    "web"
   ]
  },
  {
   "cell_type": "code",
   "execution_count": 3,
   "metadata": {},
   "outputs": [],
   "source": [
    "soup= BeautifulSoup(web.content, 'html.parser')"
   ]
  },
  {
   "cell_type": "code",
   "execution_count": 4,
   "metadata": {},
   "outputs": [],
   "source": [
    "hikes=soup.table"
   ]
  },
  {
   "cell_type": "code",
   "execution_count": 5,
   "metadata": {},
   "outputs": [
    {
     "name": "stdout",
     "output_type": "stream",
     "text": [
      "214\n"
     ]
    }
   ],
   "source": [
    "hike_names=[]\n",
    "for x in hikes.find_all(\"td\", class_=\"views-field views-field-title\"):\n",
    "    #print(x.text)\n",
    "    name=x.text.lstrip(\"\\n\")\n",
    "    hike_names.append(name)\n",
    "    #print(\"\\n new hike: \")\n",
    "#print(hike_names)\n",
    "print(len(hike_names))"
   ]
  },
  {
   "cell_type": "code",
   "execution_count": 6,
   "metadata": {},
   "outputs": [
    {
     "name": "stdout",
     "output_type": "stream",
     "text": [
      "214\n"
     ]
    }
   ],
   "source": [
    "park_name=[]\n",
    "for x in hikes.find_all(\"td\", class_=\"views-field views-field-field-location active\"):\n",
    "    park=x.text.lstrip(\"\\n\")\n",
    "    park=park.strip(\" \")\n",
    "    park_name.append(park)\n",
    "#print(park_name)\n",
    "print(len(park_name))"
   ]
  },
  {
   "cell_type": "code",
   "execution_count": 7,
   "metadata": {},
   "outputs": [
    {
     "name": "stdout",
     "output_type": "stream",
     "text": [
      "214\n"
     ]
    }
   ],
   "source": [
    "region_name=[]\n",
    "for x in hikes.find_all(\"td\", class_=\"views-field views-field-field-region\"):\n",
    "    region=x.text.lstrip(\"\\n\")\n",
    "    region=region.strip(\" \")\n",
    "    region_name.append(region)\n",
    "#print(region_name)\n",
    "print(len(region_name))"
   ]
  },
  {
   "cell_type": "code",
   "execution_count": 8,
   "metadata": {},
   "outputs": [
    {
     "name": "stdout",
     "output_type": "stream",
     "text": [
      "214\n"
     ]
    }
   ],
   "source": [
    "state_name=[]\n",
    "for x in hikes.find_all(\"td\", class_=\"views-field views-field-field-state\"):\n",
    "    state=x.text.lstrip(\"\\n\")\n",
    "    state=state.strip(\" \")\n",
    "    state_name.append(state)\n",
    "#print(state_name)\n",
    "print(len(state_name))\n"
   ]
  },
  {
   "cell_type": "code",
   "execution_count": 9,
   "metadata": {},
   "outputs": [
    {
     "name": "stdout",
     "output_type": "stream",
     "text": [
      "214\n"
     ]
    }
   ],
   "source": [
    "difficulty_rank=[]\n",
    "for x in hikes.find_all(\"td\", class_=\"views-field views-field-field-difficulty\"):\n",
    "    difficulty=x.text.lstrip(\"\\n\")\n",
    "    difficulty=difficulty.strip(\" \")\n",
    "    difficulty_rank.append(difficulty)\n",
    "#print(difficulty_rank)\n",
    "print(len(difficulty_rank))\n"
   ]
  },
  {
   "cell_type": "code",
   "execution_count": 10,
   "metadata": {},
   "outputs": [
    {
     "name": "stdout",
     "output_type": "stream",
     "text": [
      "214\n"
     ]
    }
   ],
   "source": [
    "lenght_in_miles=[]\n",
    "for x in hikes.find_all(\"td\", class_=\"views-field views-field-field-length\"):\n",
    "    lenght=x.text.lstrip(\"\\n\")\n",
    "    lenght=lenght.strip(\" \")\n",
    "    lenght=float(lenght.strip(\"miles\"))\n",
    "    lenght_in_miles.append(lenght)\n",
    "#print(lenght_in_miles)\n",
    "print(len(lenght_in_miles))"
   ]
  },
  {
   "cell_type": "code",
   "execution_count": 11,
   "metadata": {},
   "outputs": [
    {
     "name": "stdout",
     "output_type": "stream",
     "text": [
      "214\n"
     ]
    }
   ],
   "source": [
    "type_of_features=[]\n",
    "for x in hikes.find_all(\"td\", class_=\"views-field views-field-field-features-items\"):\n",
    "    features=x.text.lstrip(\"\\n\")\n",
    "    features=features.strip(\" \")\n",
    "    type_of_features.append(features)\n",
    "#print(type_of_features)\n",
    "print(len(type_of_features))\n"
   ]
  },
  {
   "cell_type": "code",
   "execution_count": 12,
   "metadata": {},
   "outputs": [
    {
     "name": "stdout",
     "output_type": "stream",
     "text": [
      "214\n"
     ]
    }
   ],
   "source": [
    "dogs_allowed=[]\n",
    "for x in hikes.find_all(\"td\", class_=\"views-field views-field-field-dogs\"):\n",
    "    dogs=x.text.lstrip(\"\\n\")\n",
    "    dogs=dogs.strip(\" \")\n",
    "    dogs_allowed.append(dogs)\n",
    "#print(dogs_allowed)\n",
    "print(len(dogs_allowed))\n"
   ]
  },
  {
   "cell_type": "code",
   "execution_count": 13,
   "metadata": {},
   "outputs": [],
   "source": [
    "NY_NJ_HIKES={\"HikeName\":hike_names, \"ParkName\":park_name,\"RegionName\":region_name,\"State\":state_name,\n",
    "             \"Difficulity\":difficulty_rank,\"LenghtInMiles\":lenght_in_miles,\"TypeOfFeatures\":type_of_features,\n",
    "             \"DogsAllowed\":dogs_allowed}\n",
    "#print(NY_NJ_HIKES)"
   ]
  },
  {
   "cell_type": "code",
   "execution_count": 14,
   "metadata": {},
   "outputs": [],
   "source": [
    "Hikes_df=pd.DataFrame(NY_NJ_HIKES)"
   ]
  },
  {
   "cell_type": "code",
   "execution_count": 15,
   "metadata": {},
   "outputs": [
    {
     "data": {
      "text/html": [
       "<div>\n",
       "<style scoped>\n",
       "    .dataframe tbody tr th:only-of-type {\n",
       "        vertical-align: middle;\n",
       "    }\n",
       "\n",
       "    .dataframe tbody tr th {\n",
       "        vertical-align: top;\n",
       "    }\n",
       "\n",
       "    .dataframe thead th {\n",
       "        text-align: right;\n",
       "    }\n",
       "</style>\n",
       "<table border=\"1\" class=\"dataframe\">\n",
       "  <thead>\n",
       "    <tr style=\"text-align: right;\">\n",
       "      <th></th>\n",
       "      <th>HikeName</th>\n",
       "      <th>ParkName</th>\n",
       "      <th>RegionName</th>\n",
       "      <th>State</th>\n",
       "      <th>Difficulity</th>\n",
       "      <th>LenghtInMiles</th>\n",
       "      <th>TypeOfFeatures</th>\n",
       "      <th>DogsAllowed</th>\n",
       "    </tr>\n",
       "  </thead>\n",
       "  <tbody>\n",
       "    <tr>\n",
       "      <td>0</td>\n",
       "      <td>Appalachian Trail North of Route 17A in Warwic...</td>\n",
       "      <td>Appalachian National Scenic Trail</td>\n",
       "      <td>Long Distance Trails</td>\n",
       "      <td>NY</td>\n",
       "      <td>Moderate</td>\n",
       "      <td>4.8</td>\n",
       "      <td>Views</td>\n",
       "      <td>Allowed on leash</td>\n",
       "    </tr>\n",
       "    <tr>\n",
       "      <td>1</td>\n",
       "      <td>Appalachian Trail on Bellvale Mountain</td>\n",
       "      <td>Appalachian National Scenic Trail</td>\n",
       "      <td>Long Distance Trails</td>\n",
       "      <td>NY</td>\n",
       "      <td>Strenuous</td>\n",
       "      <td>7.1</td>\n",
       "      <td>Public Transportation, Views</td>\n",
       "      <td>Allowed on leash</td>\n",
       "    </tr>\n",
       "    <tr>\n",
       "      <td>2</td>\n",
       "      <td>Cat Rocks and Nuclear Lake on Appalachian Trai...</td>\n",
       "      <td>Appalachian National Scenic Trail</td>\n",
       "      <td>Long Distance Trails</td>\n",
       "      <td>NY</td>\n",
       "      <td>Strenuous</td>\n",
       "      <td>12.7</td>\n",
       "      <td>Views</td>\n",
       "      <td>Allowed on leash</td>\n",
       "    </tr>\n",
       "    <tr>\n",
       "      <td>3</td>\n",
       "      <td>Black Creek Preserve</td>\n",
       "      <td>Black Creek Preserve</td>\n",
       "      <td>Shawangunk Mountains</td>\n",
       "      <td>NY</td>\n",
       "      <td>Easy to Moderate</td>\n",
       "      <td>2.5</td>\n",
       "      <td>Views</td>\n",
       "      <td>Allowed on leash</td>\n",
       "    </tr>\n",
       "    <tr>\n",
       "      <td>4</td>\n",
       "      <td>Black Rock Mountain/Hill of Pines/Rattlesnake ...</td>\n",
       "      <td>Black Rock Forest</td>\n",
       "      <td>Storm King and Black Rock Forest</td>\n",
       "      <td>NY</td>\n",
       "      <td>Strenuous</td>\n",
       "      <td>8.4</td>\n",
       "      <td>Swimming, Views</td>\n",
       "      <td>Allowed on leash</td>\n",
       "    </tr>\n",
       "    <tr>\n",
       "      <td>5</td>\n",
       "      <td>Black Rock Mountain and Sphagnum Pond Loop fro...</td>\n",
       "      <td>Black Rock Forest</td>\n",
       "      <td>Storm King and Black Rock Forest</td>\n",
       "      <td>NY</td>\n",
       "      <td>Moderate</td>\n",
       "      <td>5.0</td>\n",
       "      <td>Views</td>\n",
       "      <td>Allowed on leash</td>\n",
       "    </tr>\n",
       "    <tr>\n",
       "      <td>6</td>\n",
       "      <td>Mt. Misery/Hill of Pines/Rattlesnake Hill/Blac...</td>\n",
       "      <td>Black Rock Forest</td>\n",
       "      <td>Storm King and Black Rock Forest</td>\n",
       "      <td>NY</td>\n",
       "      <td>Moderate to Strenuous</td>\n",
       "      <td>7.5</td>\n",
       "      <td>Views, Waterfall</td>\n",
       "      <td>Allowed on leash</td>\n",
       "    </tr>\n",
       "    <tr>\n",
       "      <td>7</td>\n",
       "      <td>Whitehorse and Black Rock Mountains from Reser...</td>\n",
       "      <td>Black Rock Forest</td>\n",
       "      <td>Storm King and Black Rock Forest</td>\n",
       "      <td>NY</td>\n",
       "      <td>Moderate to Strenuous</td>\n",
       "      <td>6.0</td>\n",
       "      <td>Views</td>\n",
       "      <td>Allowed on leash</td>\n",
       "    </tr>\n",
       "    <tr>\n",
       "      <td>8</td>\n",
       "      <td>Sutherland Pond/Scenic Trail/Eagle Cliff Loop ...</td>\n",
       "      <td>Black Rock Forest</td>\n",
       "      <td>Storm King and Black Rock Forest</td>\n",
       "      <td>NY</td>\n",
       "      <td>Moderate</td>\n",
       "      <td>6.5</td>\n",
       "      <td>Historic feature, Swimming, Views</td>\n",
       "      <td>Allowed on leash</td>\n",
       "    </tr>\n",
       "    <tr>\n",
       "      <td>9</td>\n",
       "      <td>Scenic Trail to Jupiter's Boulder</td>\n",
       "      <td>Black Rock Forest</td>\n",
       "      <td>Storm King and Black Rock Forest</td>\n",
       "      <td>NY</td>\n",
       "      <td>Easy to Moderate</td>\n",
       "      <td>3.0</td>\n",
       "      <td>Views, Waterfall, Woods</td>\n",
       "      <td>Allowed on leash</td>\n",
       "    </tr>\n",
       "    <tr>\n",
       "      <td>10</td>\n",
       "      <td>Black Rock Mountain Loop from Reservoir Road T...</td>\n",
       "      <td>Black Rock Forest</td>\n",
       "      <td>Storm King and Black Rock Forest</td>\n",
       "      <td>NY</td>\n",
       "      <td>Moderate to Strenuous</td>\n",
       "      <td>5.2</td>\n",
       "      <td>Views, Waterfall</td>\n",
       "      <td>Allowed on leash</td>\n",
       "    </tr>\n",
       "    <tr>\n",
       "      <td>11</td>\n",
       "      <td>Blue Mountain Reservation Loop</td>\n",
       "      <td>Blue Mountain Reservation</td>\n",
       "      <td>Westchester County</td>\n",
       "      <td>NY</td>\n",
       "      <td>Easy to Moderate</td>\n",
       "      <td>5.0</td>\n",
       "      <td>Bikes allowed, Views</td>\n",
       "      <td>Allowed on leash</td>\n",
       "    </tr>\n",
       "    <tr>\n",
       "      <td>12</td>\n",
       "      <td>Stump Pond Loop Trail</td>\n",
       "      <td>Blydenburgh County Park</td>\n",
       "      <td>Long Island</td>\n",
       "      <td>NY</td>\n",
       "      <td>Easy</td>\n",
       "      <td>5.4</td>\n",
       "      <td>Historic feature, Public Transportation, Views</td>\n",
       "      <td>Allowed on leash</td>\n",
       "    </tr>\n",
       "    <tr>\n",
       "      <td>13</td>\n",
       "      <td>Bronx River Pathway</td>\n",
       "      <td>Bronx River Parkway Reservation</td>\n",
       "      <td>Westchester County</td>\n",
       "      <td>NY</td>\n",
       "      <td>Easy</td>\n",
       "      <td>9.8</td>\n",
       "      <td>Public Transportation, Views</td>\n",
       "      <td>Allowed on leash</td>\n",
       "    </tr>\n",
       "    <tr>\n",
       "      <td>14</td>\n",
       "      <td>Butler Memorial Sanctuary (Mt. Kisco, NY)</td>\n",
       "      <td>Butler Memorial Sanctuary</td>\n",
       "      <td>Westchester County</td>\n",
       "      <td>NY</td>\n",
       "      <td>Easy to Moderate</td>\n",
       "      <td>3.5</td>\n",
       "      <td>Views, Woods</td>\n",
       "      <td>Allowed on leash</td>\n",
       "    </tr>\n",
       "    <tr>\n",
       "      <td>15</td>\n",
       "      <td>Buttermilk Falls  in Rockland County</td>\n",
       "      <td>Buttermilk Falls County Park</td>\n",
       "      <td>Rockland County</td>\n",
       "      <td>NY</td>\n",
       "      <td>Easy to Moderate</td>\n",
       "      <td>1.2</td>\n",
       "      <td>Views, Waterfall</td>\n",
       "      <td>Allowed on leash</td>\n",
       "    </tr>\n",
       "    <tr>\n",
       "      <td>16</td>\n",
       "      <td>Buttermilk Falls and Long Path in Rockland Cou...</td>\n",
       "      <td>Buttermilk Falls County Park</td>\n",
       "      <td>Rockland County</td>\n",
       "      <td>NY</td>\n",
       "      <td>Moderate</td>\n",
       "      <td>4.0</td>\n",
       "      <td>Views, Waterfall</td>\n",
       "      <td>Allowed on leash</td>\n",
       "    </tr>\n",
       "    <tr>\n",
       "      <td>17</td>\n",
       "      <td>Catskills Frick Pond Loop Via Quick Lake, Big ...</td>\n",
       "      <td>Catskill Park</td>\n",
       "      <td>Catskills</td>\n",
       "      <td>NY</td>\n",
       "      <td>Easy</td>\n",
       "      <td>2.2</td>\n",
       "      <td>Views</td>\n",
       "      <td>Allowed off leash</td>\n",
       "    </tr>\n",
       "    <tr>\n",
       "      <td>18</td>\n",
       "      <td>Peekamoose and Table Mountains</td>\n",
       "      <td>Catskill Park</td>\n",
       "      <td>Catskills</td>\n",
       "      <td>NY</td>\n",
       "      <td>Strenuous</td>\n",
       "      <td>9.2</td>\n",
       "      <td>Views, Waterfall, Woods</td>\n",
       "      <td>Allowed off leash</td>\n",
       "    </tr>\n",
       "    <tr>\n",
       "      <td>19</td>\n",
       "      <td>Long Path over Romer Mountain</td>\n",
       "      <td>Catskill Park</td>\n",
       "      <td>Catskills</td>\n",
       "      <td>NY</td>\n",
       "      <td>Strenuous</td>\n",
       "      <td>12.0</td>\n",
       "      <td>Fees, Views</td>\n",
       "      <td>Allowed off leash</td>\n",
       "    </tr>\n",
       "  </tbody>\n",
       "</table>\n",
       "</div>"
      ],
      "text/plain": [
       "                                             HikeName  \\\n",
       "0   Appalachian Trail North of Route 17A in Warwic...   \n",
       "1             Appalachian Trail on Bellvale Mountain    \n",
       "2   Cat Rocks and Nuclear Lake on Appalachian Trai...   \n",
       "3                               Black Creek Preserve    \n",
       "4   Black Rock Mountain/Hill of Pines/Rattlesnake ...   \n",
       "5   Black Rock Mountain and Sphagnum Pond Loop fro...   \n",
       "6   Mt. Misery/Hill of Pines/Rattlesnake Hill/Blac...   \n",
       "7   Whitehorse and Black Rock Mountains from Reser...   \n",
       "8   Sutherland Pond/Scenic Trail/Eagle Cliff Loop ...   \n",
       "9                  Scenic Trail to Jupiter's Boulder    \n",
       "10  Black Rock Mountain Loop from Reservoir Road T...   \n",
       "11                    Blue Mountain Reservation Loop    \n",
       "12                             Stump Pond Loop Trail    \n",
       "13                               Bronx River Pathway    \n",
       "14         Butler Memorial Sanctuary (Mt. Kisco, NY)    \n",
       "15              Buttermilk Falls  in Rockland County    \n",
       "16  Buttermilk Falls and Long Path in Rockland Cou...   \n",
       "17  Catskills Frick Pond Loop Via Quick Lake, Big ...   \n",
       "18                    Peekamoose and Table Mountains    \n",
       "19                     Long Path over Romer Mountain    \n",
       "\n",
       "                             ParkName                        RegionName State  \\\n",
       "0   Appalachian National Scenic Trail              Long Distance Trails    NY   \n",
       "1   Appalachian National Scenic Trail              Long Distance Trails    NY   \n",
       "2   Appalachian National Scenic Trail              Long Distance Trails    NY   \n",
       "3                Black Creek Preserve              Shawangunk Mountains    NY   \n",
       "4                   Black Rock Forest  Storm King and Black Rock Forest    NY   \n",
       "5                   Black Rock Forest  Storm King and Black Rock Forest    NY   \n",
       "6                   Black Rock Forest  Storm King and Black Rock Forest    NY   \n",
       "7                   Black Rock Forest  Storm King and Black Rock Forest    NY   \n",
       "8                   Black Rock Forest  Storm King and Black Rock Forest    NY   \n",
       "9                   Black Rock Forest  Storm King and Black Rock Forest    NY   \n",
       "10                  Black Rock Forest  Storm King and Black Rock Forest    NY   \n",
       "11          Blue Mountain Reservation                Westchester County    NY   \n",
       "12            Blydenburgh County Park                       Long Island    NY   \n",
       "13    Bronx River Parkway Reservation                Westchester County    NY   \n",
       "14          Butler Memorial Sanctuary                Westchester County    NY   \n",
       "15       Buttermilk Falls County Park                   Rockland County    NY   \n",
       "16       Buttermilk Falls County Park                   Rockland County    NY   \n",
       "17                      Catskill Park                         Catskills    NY   \n",
       "18                      Catskill Park                         Catskills    NY   \n",
       "19                      Catskill Park                         Catskills    NY   \n",
       "\n",
       "              Difficulity  LenghtInMiles  \\\n",
       "0                Moderate            4.8   \n",
       "1               Strenuous            7.1   \n",
       "2               Strenuous           12.7   \n",
       "3        Easy to Moderate            2.5   \n",
       "4               Strenuous            8.4   \n",
       "5                Moderate            5.0   \n",
       "6   Moderate to Strenuous            7.5   \n",
       "7   Moderate to Strenuous            6.0   \n",
       "8                Moderate            6.5   \n",
       "9        Easy to Moderate            3.0   \n",
       "10  Moderate to Strenuous            5.2   \n",
       "11       Easy to Moderate            5.0   \n",
       "12                   Easy            5.4   \n",
       "13                   Easy            9.8   \n",
       "14       Easy to Moderate            3.5   \n",
       "15       Easy to Moderate            1.2   \n",
       "16               Moderate            4.0   \n",
       "17                   Easy            2.2   \n",
       "18              Strenuous            9.2   \n",
       "19              Strenuous           12.0   \n",
       "\n",
       "                                    TypeOfFeatures        DogsAllowed  \n",
       "0                                            Views   Allowed on leash  \n",
       "1                     Public Transportation, Views   Allowed on leash  \n",
       "2                                            Views   Allowed on leash  \n",
       "3                                            Views   Allowed on leash  \n",
       "4                                  Swimming, Views   Allowed on leash  \n",
       "5                                            Views   Allowed on leash  \n",
       "6                                 Views, Waterfall   Allowed on leash  \n",
       "7                                            Views   Allowed on leash  \n",
       "8                Historic feature, Swimming, Views   Allowed on leash  \n",
       "9                          Views, Waterfall, Woods   Allowed on leash  \n",
       "10                                Views, Waterfall   Allowed on leash  \n",
       "11                            Bikes allowed, Views   Allowed on leash  \n",
       "12  Historic feature, Public Transportation, Views   Allowed on leash  \n",
       "13                    Public Transportation, Views   Allowed on leash  \n",
       "14                                    Views, Woods   Allowed on leash  \n",
       "15                                Views, Waterfall   Allowed on leash  \n",
       "16                                Views, Waterfall   Allowed on leash  \n",
       "17                                           Views  Allowed off leash  \n",
       "18                         Views, Waterfall, Woods  Allowed off leash  \n",
       "19                                     Fees, Views  Allowed off leash  "
      ]
     },
     "execution_count": 15,
     "metadata": {},
     "output_type": "execute_result"
    }
   ],
   "source": [
    "Hikes_df.head(20)"
   ]
  },
  {
   "cell_type": "code",
   "execution_count": 16,
   "metadata": {},
   "outputs": [],
   "source": [
    "Hikes_df.to_csv(\"HikesNYNJ.csv\")"
   ]
  },
  {
   "cell_type": "code",
   "execution_count": null,
   "metadata": {},
   "outputs": [],
   "source": []
  }
 ],
 "metadata": {
  "kernelspec": {
   "display_name": "Python 3",
   "language": "python",
   "name": "python3"
  },
  "language_info": {
   "codemirror_mode": {
    "name": "ipython",
    "version": 3
   },
   "file_extension": ".py",
   "mimetype": "text/x-python",
   "name": "python",
   "nbconvert_exporter": "python",
   "pygments_lexer": "ipython3",
   "version": "3.7.4"
  }
 },
 "nbformat": 4,
 "nbformat_minor": 2
}
